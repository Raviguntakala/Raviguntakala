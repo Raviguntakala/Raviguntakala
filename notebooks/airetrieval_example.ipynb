{
 "cells": [
  {
   "cell_type": "code",
   "execution_count": 1,
   "metadata": {},
   "outputs": [],
   "source": [
    "from sqlalchemy import *\n",
    "from sqlalchemy.engine import create_engine\n",
    "from sqlalchemy.schema import *\n",
    "from langchain.llms import VertexAI\n",
    "from vertexai.language_models import TextGenerationModel\n",
    "import pandas as pd\n",
    "import json\n",
    "import datetime"
   ]
  },
  {
   "cell_type": "markdown",
   "metadata": {},
   "source": [
    "* **1. Get API Keys:**\n",
    "\n",
    "    * Visit the Google Cloud Credential Console: https://console.cloud.google.com/apis/credentials\n",
    "    * Create a GOOGLE_API_KEY for your project.\n",
    "    * Head to the Programmable Search Engine: https://programmablesearchengine.google.com/controlpanel/create\n",
    "    * Generate a GOOGLE_CSE_ID for your search engine.\n",
    "                "
   ]
  },
  {
   "cell_type": "markdown",
   "metadata": {},
   "source": [
    "* **2. Store Keys in a json:**\n",
    "\n",
    "    * load json file and pass keys to  fetch_parent_company function"
   ]
  },
  {
   "cell_type": "code",
   "execution_count": 2,
   "metadata": {},
   "outputs": [],
   "source": [
    "#load json file \n",
    "with open('keys.json') as f:\n",
    "    keys = json.load(f)"
   ]
  },
  {
   "cell_type": "code",
   "execution_count": 13,
   "metadata": {},
   "outputs": [],
   "source": [
    "from modules.rag_base import RagBase\n",
    "from modules.dq_engine import DqEngine"
   ]
  },
  {
   "cell_type": "code",
   "execution_count": 14,
   "metadata": {},
   "outputs": [
    {
     "name": "stderr",
     "output_type": "stream",
     "text": [
      "/tmp/ipykernel_5682/2249894983.py:2: SADeprecationWarning: The dbapi() classmethod on dialect classes has been renamed to import_dbapi().  Implement an import_dbapi() classmethod directly on class <class 'pybigquery.sqlalchemy_bigquery.BigQueryDialect'> to remove this warning; the old .dbapi() classmethod may be maintained for backwards compatibility.\n",
      "  engine = create_engine('bigquery://us-gcp-ame-con-52dbb-sbx-1')\n"
     ]
    }
   ],
   "source": [
    "# Establish a connection to the BigQuery database\n",
    "engine = create_engine('bigquery://us-gcp-ame-con-52dbb-sbx-1')\n",
    "\n",
    "# Instantiate a RagBase object, associating it with the BigQuery engine\n",
    "rb = RagBase(engine)\n",
    "dqe = DqEngine(engine)"
   ]
  },
  {
   "cell_type": "code",
   "execution_count": 5,
   "metadata": {},
   "outputs": [
    {
     "data": {
      "text/plain": [
       "(20, 5)"
      ]
     },
     "execution_count": 5,
     "metadata": {},
     "output_type": "execute_result"
    }
   ],
   "source": [
    "# Calling `load_data` function with specific parameters:\n",
    "df = rb.load_data(schema_name='test_datasets',\n",
    "                   table_name='sample_data_gdrive',\n",
    "                   uids=['asin','category','title'], \n",
    "                   target_attribute='brand_parent',\n",
    "                   source_attribute ='brand',\n",
    "                   exclude_scored ='output.*'\n",
    "                   )\n",
    "df.shape"
   ]
  },
  {
   "cell_type": "code",
   "execution_count": 6,
   "metadata": {},
   "outputs": [
    {
     "data": {
      "text/html": [
       "<div>\n",
       "<style scoped>\n",
       "    .dataframe tbody tr th:only-of-type {\n",
       "        vertical-align: middle;\n",
       "    }\n",
       "\n",
       "    .dataframe tbody tr th {\n",
       "        vertical-align: top;\n",
       "    }\n",
       "\n",
       "    .dataframe thead th {\n",
       "        text-align: right;\n",
       "    }\n",
       "</style>\n",
       "<table border=\"1\" class=\"dataframe\">\n",
       "  <thead>\n",
       "    <tr style=\"text-align: right;\">\n",
       "      <th></th>\n",
       "      <th>asin</th>\n",
       "      <th>category</th>\n",
       "      <th>title</th>\n",
       "      <th>brand_parent</th>\n",
       "      <th>brand</th>\n",
       "    </tr>\n",
       "  </thead>\n",
       "  <tbody>\n",
       "    <tr>\n",
       "      <th>2</th>\n",
       "      <td>B010Q32SLY</td>\n",
       "      <td>Prime_Pantry</td>\n",
       "      <td>C2O Pure Coconut Water, With Pulp, 17.5 Ounce ...</td>\n",
       "      <td>C2O Coconut Water, LLC</td>\n",
       "      <td>Not all coconut waters are created equal. C2O ...</td>\n",
       "    </tr>\n",
       "    <tr>\n",
       "      <th>3</th>\n",
       "      <td>B00OTH6HCA</td>\n",
       "      <td>Prime_Pantry</td>\n",
       "      <td>EAS Myoplex Original Ready-to-Drink Nutrition ...</td>\n",
       "      <td>Abbott Laboratories</td>\n",
       "      <td>EAS</td>\n",
       "    </tr>\n",
       "  </tbody>\n",
       "</table>\n",
       "</div>"
      ],
      "text/plain": [
       "         asin      category  \\\n",
       "2  B010Q32SLY  Prime_Pantry   \n",
       "3  B00OTH6HCA  Prime_Pantry   \n",
       "\n",
       "                                               title            brand_parent  \\\n",
       "2  C2O Pure Coconut Water, With Pulp, 17.5 Ounce ...  C2O Coconut Water, LLC   \n",
       "3  EAS Myoplex Original Ready-to-Drink Nutrition ...     Abbott Laboratories   \n",
       "\n",
       "                                               brand  \n",
       "2  Not all coconut waters are created equal. C2O ...  \n",
       "3                                                EAS  "
      ]
     },
     "execution_count": 6,
     "metadata": {},
     "output_type": "execute_result"
    }
   ],
   "source": [
    "\n",
    "test_df = df.iloc[[2,3],:]\n",
    "test_df"
   ]
  },
  {
   "cell_type": "code",
   "execution_count": 7,
   "metadata": {},
   "outputs": [
    {
     "name": "stderr",
     "output_type": "stream",
     "text": [
      "/home/user/.local/lib/python3.10/site-packages/langchain_core/_api/deprecation.py:117: LangChainDeprecationWarning: The class `langchain_community.llms.vertexai.VertexAI` was deprecated in langchain-community 0.0.12 and will be removed in 0.2.0. An updated version of the class exists in the langchain-google-vertexai package and should be used instead. To use it run `pip install -U langchain-google-vertexai` and import as `from langchain_google_vertexai import VertexAI`.\n",
      "  warn_deprecated(\n"
     ]
    }
   ],
   "source": [
    "# Create a VertexAI Language Model object\n",
    "\n",
    "# Specify the model name: 'text-bison@001' (replace with your specific model)\n",
    "llm = VertexAI(\n",
    "    model_name='text-bison@001',\n",
    "    max_output_tokens=256,\n",
    "    temperature=0,\n",
    "    top_k=1,\n",
    "    verbose=True,\n",
    ")"
   ]
  },
  {
   "cell_type": "code",
   "execution_count": 8,
   "metadata": {},
   "outputs": [
    {
     "name": "stderr",
     "output_type": "stream",
     "text": [
      "INFO:googleapiclient.discovery_cache:file_cache is only supported with oauth2client<4.0.0\n",
      "/home/user/.local/lib/python3.10/site-packages/langchain_core/_api/deprecation.py:117: LangChainDeprecationWarning: The function `initialize_agent` was deprecated in LangChain 0.1.0 and will be removed in 0.2.0. Use Use new agent constructor methods like create_react_agent, create_json_agent, create_structured_chat_agent, etc. instead.\n",
      "  warn_deprecated(\n",
      "/home/user/.local/lib/python3.10/site-packages/langchain_core/_api/deprecation.py:117: LangChainDeprecationWarning: The function `run` was deprecated in LangChain 0.1.0 and will be removed in 0.2.0. Use invoke instead.\n",
      "  warn_deprecated(\n"
     ]
    },
    {
     "name": "stdout",
     "output_type": "stream",
     "text": [
      "\n",
      "\n",
      "\u001b[1m> Entering new AgentExecutor chain...\u001b[0m\n",
      "\u001b[32;1m\u001b[1;3mI don't know the answer to this question. I will try to find it.\n",
      "Action: Google Search\n",
      "Action Input: c2o coconut water parent company\u001b[0m\n",
      "Observation: \u001b[36;1m\u001b[1;3mOct 10, 2019 ... Under co-CEOs Ron Greene (C2O Coconut Water) and Linda Barron (Steaz) the sales structure has been realigned to be managed by former C2O VP of ...\u001b[0m\n",
      "Thought:\u001b[32;1m\u001b[1;3mI now know the final answer\n",
      "Final Answer: Steaz\u001b[0m\n",
      "\n",
      "\u001b[1m> Finished chain.\u001b[0m\n",
      "\n",
      "\n",
      "\u001b[1m> Entering new AgentExecutor chain...\u001b[0m\n",
      "\u001b[32;1m\u001b[1;3mI need to find the parent company of EAS\n",
      "Action: Google Search\n",
      "Action Input: parent company of EAS\u001b[0m\n",
      "Observation: \u001b[36;1m\u001b[1;3mMr. Steele acquired the Food, Dietary Supplement, and Cosmetic consulting divisions and Founded · Mr. · EAS is acquired by Certified Laboratories, expanding ...\u001b[0m\n",
      "Thought:\u001b[32;1m\u001b[1;3mI found the parent company of EAS\n",
      "Final Answer: Certified Laboratories\u001b[0m\n",
      "\n",
      "\u001b[1m> Finished chain.\u001b[0m\n"
     ]
    },
    {
     "name": "stderr",
     "output_type": "stream",
     "text": [
      "/home/user/ItemDataQuality/itemdataqualityrepo/modules/rag_base.py:92: SettingWithCopyWarning: \n",
      "A value is trying to be set on a copy of a slice from a DataFrame.\n",
      "Try using .loc[row_indexer,col_indexer] = value instead\n",
      "\n",
      "See the caveats in the documentation: https://pandas.pydata.org/pandas-docs/stable/user_guide/indexing.html#returning-a-view-versus-a-copy\n",
      "  data_frame['TARGET_ATTRIBUTE_model_value'] = data_frame[self.source_attribute].apply(\n"
     ]
    }
   ],
   "source": [
    "# Retrieve parent companies for the loaded data using the RagBase object:\n",
    "response = rb.retrieve_data(data_frame=test_df,\n",
    "                           llm=llm,\n",
    "                           access_keys=keys,\n",
    "                           prompt=\"what is the parent company of {x}? Respond with only the parent company name. \\\n",
    "                                   Do not provide any other explanations or details in your response, just the company name.\")"
   ]
  },
  {
   "cell_type": "code",
   "execution_count": 9,
   "metadata": {},
   "outputs": [
    {
     "data": {
      "text/html": [
       "<div>\n",
       "<style scoped>\n",
       "    .dataframe tbody tr th:only-of-type {\n",
       "        vertical-align: middle;\n",
       "    }\n",
       "\n",
       "    .dataframe tbody tr th {\n",
       "        vertical-align: top;\n",
       "    }\n",
       "\n",
       "    .dataframe thead th {\n",
       "        text-align: right;\n",
       "    }\n",
       "</style>\n",
       "<table border=\"1\" class=\"dataframe\">\n",
       "  <thead>\n",
       "    <tr style=\"text-align: right;\">\n",
       "      <th></th>\n",
       "      <th>asin</th>\n",
       "      <th>category</th>\n",
       "      <th>title</th>\n",
       "      <th>TARGET_ATTRIBUTE_catalog_value</th>\n",
       "      <th>TARGET_ATTRIBUTE_source_attributes</th>\n",
       "      <th>TARGET_ATTRIBUTE_model_value</th>\n",
       "      <th>TARGET_ATTRIBUTE_confidence_score</th>\n",
       "    </tr>\n",
       "  </thead>\n",
       "  <tbody>\n",
       "    <tr>\n",
       "      <th>0</th>\n",
       "      <td>B010Q32SLY</td>\n",
       "      <td>Prime_Pantry</td>\n",
       "      <td>C2O Pure Coconut Water, With Pulp, 17.5 Ounce ...</td>\n",
       "      <td>C2O Coconut Water, LLC</td>\n",
       "      <td>Not all coconut waters are created equal. C2O ...</td>\n",
       "      <td>Steaz</td>\n",
       "      <td>0.95</td>\n",
       "    </tr>\n",
       "    <tr>\n",
       "      <th>1</th>\n",
       "      <td>B00OTH6HCA</td>\n",
       "      <td>Prime_Pantry</td>\n",
       "      <td>EAS Myoplex Original Ready-to-Drink Nutrition ...</td>\n",
       "      <td>Abbott Laboratories</td>\n",
       "      <td>EAS</td>\n",
       "      <td>Certified Laboratories</td>\n",
       "      <td>0.95</td>\n",
       "    </tr>\n",
       "  </tbody>\n",
       "</table>\n",
       "</div>"
      ],
      "text/plain": [
       "         asin      category  \\\n",
       "0  B010Q32SLY  Prime_Pantry   \n",
       "1  B00OTH6HCA  Prime_Pantry   \n",
       "\n",
       "                                               title  \\\n",
       "0  C2O Pure Coconut Water, With Pulp, 17.5 Ounce ...   \n",
       "1  EAS Myoplex Original Ready-to-Drink Nutrition ...   \n",
       "\n",
       "  TARGET_ATTRIBUTE_catalog_value  \\\n",
       "0         C2O Coconut Water, LLC   \n",
       "1            Abbott Laboratories   \n",
       "\n",
       "                  TARGET_ATTRIBUTE_source_attributes  \\\n",
       "0  Not all coconut waters are created equal. C2O ...   \n",
       "1                                                EAS   \n",
       "\n",
       "  TARGET_ATTRIBUTE_model_value  TARGET_ATTRIBUTE_confidence_score  \n",
       "0                        Steaz                               0.95  \n",
       "1       Certified Laboratories                               0.95  "
      ]
     },
     "execution_count": 9,
     "metadata": {},
     "output_type": "execute_result"
    }
   ],
   "source": [
    "#Extracted response in dataframe\n",
    "response"
   ]
  },
  {
   "cell_type": "code",
   "execution_count": 10,
   "metadata": {},
   "outputs": [
    {
     "name": "stderr",
     "output_type": "stream",
     "text": [
      "INFO:googleapiclient.discovery_cache:file_cache is only supported with oauth2client<4.0.0\n"
     ]
    },
    {
     "name": "stdout",
     "output_type": "stream",
     "text": [
      "\n",
      "\n",
      "\u001b[1m> Entering new AgentExecutor chain...\u001b[0m\n",
      "\u001b[32;1m\u001b[1;3mI need to find the parent company of V8\n",
      "Action: Google Search\n",
      "Action Input: \"parent company of V8\"\u001b[0m\n",
      "Observation: \u001b[36;1m\u001b[1;3mSince 1948, the brand has been owned by the Campbell Soup Company. V8 Vegetable Juice. V8 juices exhibited at a store in ...\u001b[0m\n",
      "Thought:\u001b[32;1m\u001b[1;3mI now know the final answer\n",
      "Final Answer: Campbell Soup Company\u001b[0m\n",
      "\n",
      "\u001b[1m> Finished chain.\u001b[0m\n",
      "\n",
      "\n",
      "\u001b[1m> Entering new AgentExecutor chain...\u001b[0m\n",
      "\u001b[32;1m\u001b[1;3mI don't know what 47783 is\n",
      "Action: Google Search\n",
      "Action Input: 47783\u001b[0m\n",
      "Observation: \u001b[36;1m\u001b[1;3mFind 47783 and related products for scientific research at MilliporeSigma.\u001b[0m\n",
      "Thought:\u001b[32;1m\u001b[1;3mI found that 47783 is a product\n",
      "Action: Google Search\n",
      "Action Input: MilliporeSigma parent company\u001b[0m\n",
      "Observation: \u001b[36;1m\u001b[1;3m... business and in combination with Merck's earlier acquired Millipore, operates as MilliporeSigma. ... 1989 – Fluka Chemie AG (Swiss company founded in the 1950s) ...\u001b[0m\n",
      "Thought:\u001b[32;1m\u001b[1;3mI found that MilliporeSigma is a subsidiary of Merck\n",
      "Action: Google Search\n",
      "Action Input: Merck parent company\u001b[0m\n",
      "Observation: \u001b[36;1m\u001b[1;3mThe Merck Group includes around 250 companies in 180 countries; the current main parent company of the group, since 1995, is named Merck KGaA, and is itself ...\u001b[0m\n",
      "Thought:\u001b[32;1m\u001b[1;3mI found that Merck is a subsidiary of Merck KGaA\n",
      "Final Answer: Merck KGaA\u001b[0m\n",
      "\n",
      "\u001b[1m> Finished chain.\u001b[0m\n",
      "\n",
      "\n",
      "\u001b[1m> Entering new AgentExecutor chain...\u001b[0m\n",
      "\u001b[32;1m\u001b[1;3mI don't know the answer to this question. I will try to find it.\n",
      "Action: Google Search\n",
      "Action Input: c2o coconut water parent company\u001b[0m\n",
      "Observation: \u001b[36;1m\u001b[1;3mOct 10, 2019 ... Under co-CEOs Ron Greene (C2O Coconut Water) and Linda Barron (Steaz) the sales structure has been realigned to be managed by former C2O VP of ...\u001b[0m\n",
      "Thought:\u001b[32;1m\u001b[1;3mI now know the final answer\n",
      "Final Answer: Steaz\u001b[0m\n",
      "\n",
      "\u001b[1m> Finished chain.\u001b[0m\n",
      "\n",
      "\n",
      "\u001b[1m> Entering new AgentExecutor chain...\u001b[0m\n",
      "\u001b[32;1m\u001b[1;3mI need to find the parent company of EAS\n",
      "Action: Google Search\n",
      "Action Input: parent company of EAS\u001b[0m\n",
      "Observation: \u001b[36;1m\u001b[1;3mMr. Steele acquired the Food, Dietary Supplement, and Cosmetic consulting divisions and Founded · Mr. · EAS is acquired by Certified Laboratories, expanding ...\u001b[0m\n",
      "Thought:\u001b[32;1m\u001b[1;3mI found the parent company of EAS\n",
      "Final Answer: Certified Laboratories\u001b[0m\n",
      "\n",
      "\u001b[1m> Finished chain.\u001b[0m\n",
      "\n",
      "\n",
      "\u001b[1m> Entering new AgentExecutor chain...\u001b[0m\n",
      "\u001b[32;1m\u001b[1;3mI need to find the parent company of OsCal\n",
      "Action: Google Search\n",
      "Action Input: \"OsCal parent company\"\u001b[0m\n",
      "Observation: \u001b[36;1m\u001b[1;3mMar 22, 2022 ... And this sub-brand is aiming to produce the ideal affordable rugged phone, just like the parent company. OSCAL S60 and S60 Pro models ...\u001b[0m\n",
      "Thought:\u001b[32;1m\u001b[1;3mI found the parent company of OsCal\n",
      "Final Answer: OSCAL\u001b[0m\n",
      "\n",
      "\u001b[1m> Finished chain.\u001b[0m\n",
      "\n",
      "\n",
      "\u001b[1m> Entering new AgentExecutor chain...\u001b[0m\n",
      "\u001b[32;1m\u001b[1;3mI need to find the parent company of LRABAR\n",
      "Action: Google Search\n",
      "Action Input: parent company of LRABAR\u001b[0m\n",
      "Observation: \u001b[36;1m\u001b[1;3mLarabar 10 years later. Ten years since the brand joined General Mills, we take a look back at how LÄRABAR got its start and how it's evolved over time.\u001b[0m\n",
      "Thought:\u001b[32;1m\u001b[1;3mI now know the final answer\n",
      "Final Answer: General Mills\u001b[0m\n",
      "\n",
      "\u001b[1m> Finished chain.\u001b[0m\n",
      "\n",
      "\n",
      "\u001b[1m> Entering new AgentExecutor chain...\u001b[0m\n",
      "\u001b[32;1m\u001b[1;3mI need to find the parent company of Hostess\n",
      "Action: Google Search\n",
      "Action Input: parent company of Hostess\u001b[0m\n",
      "Observation: \u001b[36;1m\u001b[1;3mThe Hostess Brands company formed in June 2013, having started as a venture by Apollo Global Management and C. Dean Metropoulos and Company, to acquire assets ...\u001b[0m\n",
      "Thought:\u001b[32;1m\u001b[1;3mI now know the final answer\n",
      "Final Answer: Apollo Global Management\u001b[0m\n",
      "\n",
      "\u001b[1m> Finished chain.\u001b[0m\n",
      "\n",
      "\n",
      "\u001b[1m> Entering new AgentExecutor chain...\u001b[0m\n",
      "\u001b[32;1m\u001b[1;3mI need to find the parent company of Trident\n",
      "Action: Google Search\n",
      "Action Input: parent company of Trident\u001b[0m\n",
      "Observation: \u001b[36;1m\u001b[1;3mIn 2010, Kraft Foods acquired Cadbury, and today, Trident is owned by Mondelez International, the successor to Kraft Foods after it spun off its non-snack foods ...\u001b[0m\n",
      "Thought:\u001b[32;1m\u001b[1;3mI now know the final answer\n",
      "Final Answer: Mondelez International\u001b[0m\n",
      "\n",
      "\u001b[1m> Finished chain.\u001b[0m\n",
      "\n",
      "\n",
      "\u001b[1m> Entering new AgentExecutor chain...\u001b[0m\n",
      "\u001b[32;1m\u001b[1;3mI need to find the parent company of Quaker\n",
      "Action: Google Search\n",
      "Action Input: parent company of Quaker\u001b[0m\n",
      "Observation: \u001b[36;1m\u001b[1;3mIn 1983, Quaker acquired Stokely-Van Camp, Inc., the maker of Van Camp's and Gatorade. In 2001, PepsiCo bought Quaker Oats for $14 billion, primarily to acquire ...\u001b[0m\n",
      "Thought:\u001b[32;1m\u001b[1;3mI now know the final answer\n",
      "Final Answer: PepsiCo\u001b[0m\n",
      "\n",
      "\u001b[1m> Finished chain.\u001b[0m\n",
      "\n",
      "\n",
      "\u001b[1m> Entering new AgentExecutor chain...\u001b[0m\n",
      "\u001b[32;1m\u001b[1;3mI need to find the parent company of Nature Made\n",
      "Action: Google Search\n",
      "Action Input: parent company of Nature Made\u001b[0m\n",
      "Observation: \u001b[36;1m\u001b[1;3mIn 2020, Pharmavite launched Nurish by Nature Made, a personalized vitamin and supplement subscription service. Pharmaite acquired Uqora, a urinary tract health ...\u001b[0m\n",
      "Thought:\u001b[32;1m\u001b[1;3mI found the parent company of Nature Made\n",
      "Final Answer: Pharmavite\u001b[0m\n",
      "\n",
      "\u001b[1m> Finished chain.\u001b[0m\n",
      "\n",
      "\n",
      "\u001b[1m> Entering new AgentExecutor chain...\u001b[0m\n",
      "\u001b[32;1m\u001b[1;3mI need to find the parent company of Jif\n",
      "Action: Google Search\n",
      "Action Input: parent company of Jif\u001b[0m\n",
      "Observation: \u001b[36;1m\u001b[1;3mJif is an American brand of peanut butter made by The J.M. Smucker Company, which purchased the brand from Procter & Gamble in 2001.\u001b[0m\n",
      "Thought:\u001b[32;1m\u001b[1;3mI now know the final answer\n",
      "Final Answer: The J.M. Smucker Company\u001b[0m\n",
      "\n",
      "\u001b[1m> Finished chain.\u001b[0m\n",
      "\n",
      "\n",
      "\u001b[1m> Entering new AgentExecutor chain...\u001b[0m\n",
      "\u001b[32;1m\u001b[1;3mI need to find the parent company of Chex\n",
      "Action: Google Search\n",
      "Action Input: \"parent company of Chex\"\u001b[0m\n",
      "Observation: \u001b[36;1m\u001b[1;3mFrom pets to parents and everyone in-between, we make food the world loves. Explore a variety of snacks and meals that bring joy to families everywhere.\u001b[0m\n",
      "Thought:\u001b[32;1m\u001b[1;3mI need to find the parent company of Chex\n",
      "Action: Google Search\n",
      "Action Input: \"parent company of Chex\"\u001b[0m\n",
      "Observation: \u001b[36;1m\u001b[1;3mFrom pets to parents and everyone in-between, we make food the world loves. Explore a variety of snacks and meals that bring joy to families everywhere.\u001b[0m\n",
      "Thought:\u001b[32;1m\u001b[1;3mI now know the final answer\n",
      "Final Answer: General Mills\u001b[0m\n",
      "\n",
      "\u001b[1m> Finished chain.\u001b[0m\n",
      "\n",
      "\n",
      "\u001b[1m> Entering new AgentExecutor chain...\u001b[0m\n",
      "\u001b[32;1m\u001b[1;3mI need to find the parent company of KIND\n",
      "Action: Google Search\n",
      "Action Input: \"parent company of KIND\"\u001b[0m\n",
      "Observation: \u001b[36;1m\u001b[1;3mSince 2020, it has been a subsidiary of Mars Inc. Kind LLC. Trade name. Kind Healthy Snacks. Company type, Subsidiary. Industry ...\u001b[0m\n",
      "Thought:\u001b[32;1m\u001b[1;3mI now know the final answer\n",
      "Final Answer: Mars Inc.\u001b[0m\n",
      "\n",
      "\u001b[1m> Finished chain.\u001b[0m\n",
      "\n",
      "\n",
      "\u001b[1m> Entering new AgentExecutor chain...\u001b[0m\n",
      "\u001b[32;1m\u001b[1;3mI need to find the parent company of Silk\n",
      "Action: Google Search\n",
      "Action Input: parent company of Silk\u001b[0m\n",
      "Observation: \u001b[36;1m\u001b[1;3mIn 2002 WhiteWave, Inc was sold to Dean Foods for over $300 million. ... The company's sales grew to $350 million in annual revenues by 2005. As the business grew ...\u001b[0m\n",
      "Thought:\u001b[32;1m\u001b[1;3mI now know the final answer\n",
      "Final Answer: Dean Foods\u001b[0m\n",
      "\n",
      "\u001b[1m> Finished chain.\u001b[0m\n",
      "\n",
      "\n",
      "\u001b[1m> Entering new AgentExecutor chain...\u001b[0m\n",
      "\u001b[32;1m\u001b[1;3mI need to find the parent company of Oreo\n",
      "Action: Google Search\n",
      "Action Input: \"parent company of Oreo\"\u001b[0m\n",
      "Observation: \u001b[36;1m\u001b[1;3mThe \"Oreo Biscuit\" was first developed and produced by the National Biscuit Company (today known as Nabisco) in 1912 at its Chelsea, New York City factory in ...\u001b[0m\n",
      "Thought:\u001b[32;1m\u001b[1;3mI found the answer\n",
      "Final Answer: Nabisco\u001b[0m\n",
      "\n",
      "\u001b[1m> Finished chain.\u001b[0m\n",
      "\n",
      "\n",
      "\u001b[1m> Entering new AgentExecutor chain...\u001b[0m\n",
      "\u001b[32;1m\u001b[1;3mI need to find the parent company of Twix\n",
      "Action: Google Search\n",
      "Action Input: \"parent company of Twix\"\u001b[0m\n",
      "Observation: \u001b[36;1m\u001b[1;3mTwix is a caramel shortbread chocolate bar made by Mars, Inc., consisting of a biscuit applied with other confectionery toppings and coatings Twix are ...\u001b[0m\n",
      "Thought:\u001b[32;1m\u001b[1;3mI now know the final answer\n",
      "Final Answer: Mars, Inc.\u001b[0m\n",
      "\n",
      "\u001b[1m> Finished chain.\u001b[0m\n",
      "\n",
      "\n",
      "\u001b[1m> Entering new AgentExecutor chain...\u001b[0m\n",
      "\u001b[32;1m\u001b[1;3mI need to find the parent company of Ritz\n",
      "Action: Google Search\n",
      "Action Input: \"parent company of Ritz\"\u001b[0m\n",
      "Observation: \u001b[36;1m\u001b[1;3mThe current company was founded in 1983, when the previous owners sold the Ritz-Carlton brand name and the Ritz-Carlton hotel in Boston, Massachusetts.\u001b[0m\n",
      "Thought:\u001b[32;1m\u001b[1;3mI now know the final answer\n",
      "Final Answer: Marriott International\u001b[0m\n",
      "\n",
      "\u001b[1m> Finished chain.\u001b[0m\n",
      "\n",
      "\n",
      "\u001b[1m> Entering new AgentExecutor chain...\u001b[0m\n",
      "\u001b[32;1m\u001b[1;3mI need to find the parent company of Dole\n",
      "Action: Google Search\n",
      "Action Input: Dole parent company\u001b[0m\n",
      "Observation: \u001b[36;1m\u001b[1;3mThe HPC was renamed the \"Dole Company\" and became a subsidiary of Castle & Cooke in 1961. Two years later, the company began expanding its fruit growing ...\u001b[0m\n",
      "Thought:\u001b[32;1m\u001b[1;3mI now know the final answer\n",
      "Final Answer: Castle & Cooke\u001b[0m\n",
      "\n",
      "\u001b[1m> Finished chain.\u001b[0m\n",
      "\n",
      "\n",
      "\u001b[1m> Entering new AgentExecutor chain...\u001b[0m\n",
      "\u001b[32;1m\u001b[1;3mI need to find the parent company of CLIF\n",
      "Action: Google Search\n",
      "Action Input: \"parent company of CLIF\"\u001b[0m\n",
      "Observation: \u001b[36;1m\u001b[1;3mAug 1, 2022 ... 01, 2022 (GLOBE NEWSWIRE) -- Mondelēz International, Inc. (Nasdaq: MDLZ) today announced it has completed the acquisition of Clif Bar & Company, ...\u001b[0m\n",
      "Thought:\u001b[32;1m\u001b[1;3mI found the answer\n",
      "Final Answer: Mondelēz International, Inc.\u001b[0m\n",
      "\n",
      "\u001b[1m> Finished chain.\u001b[0m\n",
      "\n",
      "\n",
      "\u001b[1m> Entering new AgentExecutor chain...\u001b[0m\n",
      "\u001b[32;1m\u001b[1;3mI need to find the parent company of NuGo\n",
      "Action: Google Search\n",
      "Action Input: \"NuGo parent company\"\u001b[0m\n",
      "Observation: \u001b[36;1m\u001b[1;3mDetails · Industries. E-Commerce · Manufacturing · Organic · Snack Food · Headquarters Regions Great Lakes, Northeastern US · Founded Date 1999 · Operating Status ...\u001b[0m\n",
      "Thought:\u001b[32;1m\u001b[1;3mI found the parent company of NuGo\n",
      "Final Answer: NuGo Nutrition\u001b[0m\n",
      "\n",
      "\u001b[1m> Finished chain.\u001b[0m\n"
     ]
    }
   ],
   "source": [
    "# Retrieve parent companies for the loaded data using the RagBase object:\n",
    "results = rb.retrieve_data(data_frame=df,\n",
    "                           llm=llm,\n",
    "                           access_keys=keys,\n",
    "                           prompt=\"what is the parent company of {x}? Respond with only the parent company name. Do not provide any other explanations or details in your response, just the company name.\")"
   ]
  },
  {
   "cell_type": "code",
   "execution_count": 15,
   "metadata": {},
   "outputs": [
    {
     "name": "stderr",
     "output_type": "stream",
     "text": [
      "INFO:root:  **Writing results to BigQuery table: brand_parent_retrieval_2024288840**\n"
     ]
    },
    {
     "name": "stderr",
     "output_type": "stream",
     "text": [
      "11 out of 11 rows loaded.00<?, ?it/s]INFO:pandas_gbq.gbq:\n",
      "100%|██████████| 1/1 [00:00<00:00, 1177.51it/s]\n"
     ]
    }
   ],
   "source": [
    "dqe.write_dqresults(results, \n",
    "                uids=['asin','category','title'], \n",
    "                target_attribute='brand_parent', \n",
    "                function_name='retrieval', \n",
    "                error_id=30002, \n",
    "                error_code=\"Accuracy : Extracted supplier/vendor name from model doesn't match provided name\",\n",
    "                output_schema='output')"
   ]
  },
  {
   "cell_type": "code",
   "execution_count": null,
   "metadata": {},
   "outputs": [],
   "source": []
  }
 ],
 "metadata": {
  "kernelspec": {
   "display_name": "Python 3",
   "language": "python",
   "name": "python3"
  },
  "language_info": {
   "codemirror_mode": {
    "name": "ipython",
    "version": 3
   },
   "file_extension": ".py",
   "mimetype": "text/x-python",
   "name": "python",
   "nbconvert_exporter": "python",
   "pygments_lexer": "ipython3",
   "version": "3.10.7"
  }
 },
 "nbformat": 4,
 "nbformat_minor": 2
}
