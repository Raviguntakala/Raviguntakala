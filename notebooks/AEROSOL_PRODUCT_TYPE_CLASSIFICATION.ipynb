{
 "cells": [
  {
   "cell_type": "markdown",
   "id": "f581d98f-c925-4514-a7c4-4ac1ab4e10e2",
   "metadata": {},
   "source": [
    "## PRODUCT TYPE CLASSIFICATION USING TEXT BISON LLM FOR AEROSOL"
   ]
  },
  {
   "cell_type": "markdown",
   "id": "010e49df-3330-4ede-a57b-e01282923ee2",
   "metadata": {},
   "source": [
    "### Import Packages"
   ]
  },
  {
   "cell_type": "code",
   "execution_count": 1,
   "id": "fb9e8845-a24c-48c8-bd98-b39f73e1947c",
   "metadata": {},
   "outputs": [
    {
     "name": "stderr",
     "output_type": "stream",
     "text": [
      "2023-12-13 10:30:28.123898: I tensorflow/core/platform/cpu_feature_guard.cc:193] This TensorFlow binary is optimized with oneAPI Deep Neural Network Library (oneDNN) to use the following CPU instructions in performance-critical operations:  AVX2 FMA\n",
      "To enable them in other operations, rebuild TensorFlow with the appropriate compiler flags.\n",
      "2023-12-13 10:30:29.407824: W tensorflow/compiler/xla/stream_executor/platform/default/dso_loader.cc:64] Could not load dynamic library 'libnvinfer.so.7'; dlerror: libnvinfer.so.7: cannot open shared object file: No such file or directory; LD_LIBRARY_PATH: /usr/local/cuda/lib64:/usr/local/nccl2/lib:/usr/local/cuda/extras/CUPTI/lib64\n",
      "2023-12-13 10:30:29.408016: W tensorflow/compiler/xla/stream_executor/platform/default/dso_loader.cc:64] Could not load dynamic library 'libnvinfer_plugin.so.7'; dlerror: libnvinfer_plugin.so.7: cannot open shared object file: No such file or directory; LD_LIBRARY_PATH: /usr/local/cuda/lib64:/usr/local/nccl2/lib:/usr/local/cuda/extras/CUPTI/lib64\n",
      "2023-12-13 10:30:29.408028: W tensorflow/compiler/tf2tensorrt/utils/py_utils.cc:38] TF-TRT Warning: Cannot dlopen some TensorRT libraries. If you would like to use Nvidia GPU with TensorRT, please make sure the missing libraries mentioned above are installed properly.\n"
     ]
    }
   ],
   "source": [
    "import pandas as pd\n",
    "import json\n",
    "import os\n",
    "import mapply\n",
    "from google.cloud import bigquery\n",
    "import gcsfs\n",
    "import ast\n",
    "import time\n",
    "from tqdm import tqdm\n",
    "client = bigquery.Client()\n",
    "from vertexai.preview.language_models import TextGenerationModel\n",
    "from smart_open import smart_open\n",
    "\n",
    "mapply.init(\n",
    "    n_workers=-1,\n",
    "    chunk_size=10000,\n",
    "    max_chunks_per_worker=0,\n",
    "    progressbar=True\n",
    ")\n",
    "tqdm.pandas(desc='progress bar')\n",
    "pd.set_option('display.max_columns', None)\n"
   ]
  },
  {
   "cell_type": "markdown",
   "id": "f5d158b3-043c-4491-9f2b-553b75075efe",
   "metadata": {},
   "source": [
    "### Tables used: \n",
    "<ol>\n",
    "    <li> `wmt-dca-catalog-dq-dev.POD2.POD2_CORE` - CORE TABLE SEE TABLE DIRECTORY </li>\n",
    "</ol>\n",
    "\n",
    "[TABLE DIRECTORY LINK](https://teams.wal-mart.com/:x:/r/sites/E2EFulfillmentDataFoundation/Shared%20Documents/Accurate%20Data/Deloitte%20Item%20Accuracy%20Project/02.%20Score%20and%20Clean/06.%20Final%20Deliverables/Technical%20Guide%20Supporting%20Files/score_and_clean_table_directory.xlsx?d=w67588517d0d54c4982d2242973906a28&csf=1&web=1&e=9tsU3Z)"
   ]
  },
  {
   "cell_type": "markdown",
   "id": "9d448afd-5e8a-4cde-8fa3-ec8bedf9d0b0",
   "metadata": {},
   "source": [
    "#### Query to get ALL Product types and product names"
   ]
  },
  {
   "cell_type": "code",
   "execution_count": 2,
   "id": "2870ed7e-a36a-4770-9db5-6c23731c7fcb",
   "metadata": {},
   "outputs": [],
   "source": [
    "total  = \"\"\"\n",
    "SELECT WPID,PROD_TYPE_NM,product_name as PROD_NM FROM `wmt-dca-catalog-dq-dev.POD2.POD2_CORE`\n",
    "\"\"\"\n",
    "total = client.query(total ).to_dataframe()"
   ]
  },
  {
   "cell_type": "markdown",
   "id": "79953cce-d035-445e-804d-d4710f25e0b6",
   "metadata": {},
   "source": [
    "#### Taking Sample 3 random products from each product type group."
   ]
  },
  {
   "cell_type": "code",
   "execution_count": 3,
   "id": "87666534-544c-4aa1-b3d7-ffbdb85ab689",
   "metadata": {},
   "outputs": [],
   "source": [
    "total_sample = total.groupby('PROD_TYPE_NM').sample(n=3,random_state=42,replace=True).reset_index(drop=True)"
   ]
  },
  {
   "cell_type": "code",
   "execution_count": 4,
   "id": "f1cb9ed6-bec7-4f26-ac78-703d5ee8ea3d",
   "metadata": {},
   "outputs": [],
   "source": [
    "total_sample_pivot = total_sample[['PROD_TYPE_NM','PROD_NM']]"
   ]
  },
  {
   "cell_type": "code",
   "execution_count": 5,
   "id": "f6fdff5d-1028-4e38-b061-78dda0dcc30e",
   "metadata": {},
   "outputs": [],
   "source": [
    "# creating samples column\n",
    "total_sample_pivot['samples'] = [1,2,3]*(int(len(total_sample_pivot)/3))"
   ]
  },
  {
   "cell_type": "code",
   "execution_count": 6,
   "id": "eda9f8f8-d38b-42b3-8b55-a9fb0047f640",
   "metadata": {},
   "outputs": [],
   "source": [
    "# creating pivot table\n",
    "total_sample_pivot = total_sample_pivot.pivot(index='PROD_TYPE_NM',columns='samples',values='PROD_NM').reset_index()"
   ]
  },
  {
   "cell_type": "code",
   "execution_count": 7,
   "id": "19cd8484-d82c-4b8e-b7cf-24c8999829af",
   "metadata": {},
   "outputs": [
    {
     "name": "stderr",
     "output_type": "stream",
     "text": [
      "/opt/conda/lib/python3.10/site-packages/numpy/core/fromnumeric.py:57: FutureWarning: 'DataFrame.swapaxes' is deprecated and will be removed in a future version. Please use 'DataFrame.transpose' instead.\n",
      "  return bound(*args, **kwds)\n"
     ]
    },
    {
     "data": {
      "application/vnd.jupyter.widget-view+json": {
       "model_id": "f30abbc7b2ae4f6bb6a67c674bf538f2",
       "version_major": 2,
       "version_minor": 0
      },
      "text/plain": [
       "  0%|          | 0/1 [00:00<?, ?it/s]"
      ]
     },
     "metadata": {},
     "output_type": "display_data"
    }
   ],
   "source": [
    "#combing all three products into single list and assiging into example products column\n",
    "total_sample_pivot['example_products'] = total_sample_pivot.mapply(lambda x: [x[1],x[2],x[3]],axis=1)"
   ]
  },
  {
   "cell_type": "code",
   "execution_count": 8,
   "id": "eb170156-4c6e-4814-a226-0a47fd2843f5",
   "metadata": {},
   "outputs": [],
   "source": [
    "#creating a dictionary with product types and list of products\n",
    "product_types = {i:a for i,a in zip(list(total_sample_pivot['PROD_TYPE_NM']),list(total_sample_pivot['example_products']))}"
   ]
  },
  {
   "cell_type": "code",
   "execution_count": 9,
   "id": "14c87e1f-f0cd-450d-89bc-dd4a5e5fc99e",
   "metadata": {},
   "outputs": [
    {
     "data": {
      "text/html": [
       "<div>\n",
       "<style scoped>\n",
       "    .dataframe tbody tr th:only-of-type {\n",
       "        vertical-align: middle;\n",
       "    }\n",
       "\n",
       "    .dataframe tbody tr th {\n",
       "        vertical-align: top;\n",
       "    }\n",
       "\n",
       "    .dataframe thead th {\n",
       "        text-align: right;\n",
       "    }\n",
       "</style>\n",
       "<table border=\"1\" class=\"dataframe\">\n",
       "  <thead>\n",
       "    <tr style=\"text-align: right;\">\n",
       "      <th>samples</th>\n",
       "      <th>PROD_TYPE_NM</th>\n",
       "      <th>1</th>\n",
       "      <th>2</th>\n",
       "      <th>3</th>\n",
       "      <th>example_products</th>\n",
       "    </tr>\n",
       "  </thead>\n",
       "  <tbody>\n",
       "    <tr>\n",
       "      <th>0</th>\n",
       "      <td>3-in-1 Shampoo, Conditioner &amp; Body Washes</td>\n",
       "      <td>Suave Kids Naturals 3-in-1 Shampoo Conditioner...</td>\n",
       "      <td>Dove Love Your Chic edge 3-in-1 Short &amp; Sweet ...</td>\n",
       "      <td>American Crew Classic 3-in-1 Shampoo plus Cond...</td>\n",
       "      <td>[Suave Kids Naturals 3-in-1 Shampoo Conditione...</td>\n",
       "    </tr>\n",
       "    <tr>\n",
       "      <th>1</th>\n",
       "      <td>360° Cameras</td>\n",
       "      <td>Ricoh TH-2 Weatherproof Hard Case for Theta M1...</td>\n",
       "      <td>Insta360 Invisible - Selfie stick - for Insta3...</td>\n",
       "      <td>Nikon KeyMission 360 4K Action Camera</td>\n",
       "      <td>[Ricoh TH-2 Weatherproof Hard Case for Theta M...</td>\n",
       "    </tr>\n",
       "    <tr>\n",
       "      <th>2</th>\n",
       "      <td>3D Glasses</td>\n",
       "      <td>3X Red-Blue / Cyan Anaglyph Simple Style 3D Gl...</td>\n",
       "      <td>Future Sound of Jazz 9 [Audio CD] Various Arti...</td>\n",
       "      <td>Cinema Adult 3D Glasses 3D Stereoscopic 3D Pol...</td>\n",
       "      <td>[3X Red-Blue / Cyan Anaglyph Simple Style 3D G...</td>\n",
       "    </tr>\n",
       "    <tr>\n",
       "      <th>3</th>\n",
       "      <td>3D Printer Filaments</td>\n",
       "      <td>GEEETECH Green PETG Filament 1.75mm, Upgrade S...</td>\n",
       "      <td>3D-Fuel WorkDay PLA Snow White 1.75mm 1Kg 3D F...</td>\n",
       "      <td>MakerBot 1.75mm PLA Filament for Sketch, White...</td>\n",
       "      <td>[GEEETECH Green PETG Filament 1.75mm, Upgrade ...</td>\n",
       "    </tr>\n",
       "    <tr>\n",
       "      <th>4</th>\n",
       "      <td>3D Printer Parts</td>\n",
       "      <td>LYUMO DRV8825/A4988 42 Stepper Motor Driver Mo...</td>\n",
       "      <td>Impresa 2-Pack 3D Printer Glass Print Bed for ...</td>\n",
       "      <td>Magnetic Build , Matte 3D Printer Bed Cover Fo...</td>\n",
       "      <td>[LYUMO DRV8825/A4988 42 Stepper Motor Driver M...</td>\n",
       "    </tr>\n",
       "    <tr>\n",
       "      <th>...</th>\n",
       "      <td>...</td>\n",
       "      <td>...</td>\n",
       "      <td>...</td>\n",
       "      <td>...</td>\n",
       "      <td>...</td>\n",
       "    </tr>\n",
       "    <tr>\n",
       "      <th>6638</th>\n",
       "      <td>Zithers</td>\n",
       "      <td>Children Practice Guzheng Chinese String Instr...</td>\n",
       "      <td>Children Practice Guzheng Chinese String Instr...</td>\n",
       "      <td>Hemoton Children Practice Guzheng Chinese Stri...</td>\n",
       "      <td>[Children Practice Guzheng Chinese String Inst...</td>\n",
       "    </tr>\n",
       "    <tr>\n",
       "      <th>6639</th>\n",
       "      <td>default</td>\n",
       "      <td>CREATE YOUR OWN Foam Board, horizontal, Wall D...</td>\n",
       "      <td>Clutch Friction Plates And Gasket Kit for Hond...</td>\n",
       "      <td>2PK National Hardware N270-316 Kickplate, Sati...</td>\n",
       "      <td>[CREATE YOUR OWN Foam Board, horizontal, Wall ...</td>\n",
       "    </tr>\n",
       "    <tr>\n",
       "      <th>6640</th>\n",
       "      <td>pH Meters</td>\n",
       "      <td>Digital PH Meter + LCD TDS EC Water Purity PPM...</td>\n",
       "      <td>Karlge Salinity Meter Digital PenType Salinity...</td>\n",
       "      <td>Docooler PH Meter Calibration Point 3 Type PH ...</td>\n",
       "      <td>[Digital PH Meter + LCD TDS EC Water Purity PP...</td>\n",
       "    </tr>\n",
       "    <tr>\n",
       "      <th>6641</th>\n",
       "      <td>pH Test Strips</td>\n",
       "      <td>OTVIAP 80pcs PH Test Strips Alkaline Paper Uri...</td>\n",
       "      <td>Olympian Labs pH Papers - 6.0-8.0 Range - 15 ft</td>\n",
       "      <td>160 Strips 1-14 Test Paper PH Indicator Alkali...</td>\n",
       "      <td>[OTVIAP 80pcs PH Test Strips Alkaline Paper Ur...</td>\n",
       "    </tr>\n",
       "    <tr>\n",
       "      <th>6642</th>\n",
       "      <td>swimsuit sets</td>\n",
       "      <td>ForestYashe Swimsuit Women Tankini Swimming Su...</td>\n",
       "      <td>ForestYashe Swimsuit Women Tankini Swimming Su...</td>\n",
       "      <td>ForestYashe Swimsuit Women Tankini Swimming Su...</td>\n",
       "      <td>[ForestYashe Swimsuit Women Tankini Swimming S...</td>\n",
       "    </tr>\n",
       "  </tbody>\n",
       "</table>\n",
       "<p>6643 rows × 5 columns</p>\n",
       "</div>"
      ],
      "text/plain": [
       "samples                               PROD_TYPE_NM  \\\n",
       "0        3-in-1 Shampoo, Conditioner & Body Washes   \n",
       "1                                     360° Cameras   \n",
       "2                                       3D Glasses   \n",
       "3                             3D Printer Filaments   \n",
       "4                                 3D Printer Parts   \n",
       "...                                            ...   \n",
       "6638                                       Zithers   \n",
       "6639                                       default   \n",
       "6640                                     pH Meters   \n",
       "6641                                pH Test Strips   \n",
       "6642                                 swimsuit sets   \n",
       "\n",
       "samples                                                  1  \\\n",
       "0        Suave Kids Naturals 3-in-1 Shampoo Conditioner...   \n",
       "1        Ricoh TH-2 Weatherproof Hard Case for Theta M1...   \n",
       "2        3X Red-Blue / Cyan Anaglyph Simple Style 3D Gl...   \n",
       "3        GEEETECH Green PETG Filament 1.75mm, Upgrade S...   \n",
       "4        LYUMO DRV8825/A4988 42 Stepper Motor Driver Mo...   \n",
       "...                                                    ...   \n",
       "6638     Children Practice Guzheng Chinese String Instr...   \n",
       "6639     CREATE YOUR OWN Foam Board, horizontal, Wall D...   \n",
       "6640     Digital PH Meter + LCD TDS EC Water Purity PPM...   \n",
       "6641     OTVIAP 80pcs PH Test Strips Alkaline Paper Uri...   \n",
       "6642     ForestYashe Swimsuit Women Tankini Swimming Su...   \n",
       "\n",
       "samples                                                  2  \\\n",
       "0        Dove Love Your Chic edge 3-in-1 Short & Sweet ...   \n",
       "1        Insta360 Invisible - Selfie stick - for Insta3...   \n",
       "2        Future Sound of Jazz 9 [Audio CD] Various Arti...   \n",
       "3        3D-Fuel WorkDay PLA Snow White 1.75mm 1Kg 3D F...   \n",
       "4        Impresa 2-Pack 3D Printer Glass Print Bed for ...   \n",
       "...                                                    ...   \n",
       "6638     Children Practice Guzheng Chinese String Instr...   \n",
       "6639     Clutch Friction Plates And Gasket Kit for Hond...   \n",
       "6640     Karlge Salinity Meter Digital PenType Salinity...   \n",
       "6641       Olympian Labs pH Papers - 6.0-8.0 Range - 15 ft   \n",
       "6642     ForestYashe Swimsuit Women Tankini Swimming Su...   \n",
       "\n",
       "samples                                                  3  \\\n",
       "0        American Crew Classic 3-in-1 Shampoo plus Cond...   \n",
       "1                    Nikon KeyMission 360 4K Action Camera   \n",
       "2        Cinema Adult 3D Glasses 3D Stereoscopic 3D Pol...   \n",
       "3        MakerBot 1.75mm PLA Filament for Sketch, White...   \n",
       "4        Magnetic Build , Matte 3D Printer Bed Cover Fo...   \n",
       "...                                                    ...   \n",
       "6638     Hemoton Children Practice Guzheng Chinese Stri...   \n",
       "6639     2PK National Hardware N270-316 Kickplate, Sati...   \n",
       "6640     Docooler PH Meter Calibration Point 3 Type PH ...   \n",
       "6641     160 Strips 1-14 Test Paper PH Indicator Alkali...   \n",
       "6642     ForestYashe Swimsuit Women Tankini Swimming Su...   \n",
       "\n",
       "samples                                   example_products  \n",
       "0        [Suave Kids Naturals 3-in-1 Shampoo Conditione...  \n",
       "1        [Ricoh TH-2 Weatherproof Hard Case for Theta M...  \n",
       "2        [3X Red-Blue / Cyan Anaglyph Simple Style 3D G...  \n",
       "3        [GEEETECH Green PETG Filament 1.75mm, Upgrade ...  \n",
       "4        [LYUMO DRV8825/A4988 42 Stepper Motor Driver M...  \n",
       "...                                                    ...  \n",
       "6638     [Children Practice Guzheng Chinese String Inst...  \n",
       "6639     [CREATE YOUR OWN Foam Board, horizontal, Wall ...  \n",
       "6640     [Digital PH Meter + LCD TDS EC Water Purity PP...  \n",
       "6641     [OTVIAP 80pcs PH Test Strips Alkaline Paper Ur...  \n",
       "6642     [ForestYashe Swimsuit Women Tankini Swimming S...  \n",
       "\n",
       "[6643 rows x 5 columns]"
      ]
     },
     "execution_count": 9,
     "metadata": {},
     "output_type": "execute_result"
    }
   ],
   "source": [
    "total_sample_pivot"
   ]
  },
  {
   "cell_type": "markdown",
   "id": "8cad45a2-8e8a-404b-8e18-f33f379b7615",
   "metadata": {},
   "source": [
    "#### generating prompts for all product types"
   ]
  },
  {
   "cell_type": "code",
   "execution_count": 10,
   "id": "75a972ac-dcb5-45bf-958f-99fd77142db0",
   "metadata": {},
   "outputs": [
    {
     "name": "stderr",
     "output_type": "stream",
     "text": [
      "/opt/conda/lib/python3.10/site-packages/numpy/core/fromnumeric.py:57: FutureWarning: 'DataFrame.swapaxes' is deprecated and will be removed in a future version. Please use 'DataFrame.transpose' instead.\n",
      "  return bound(*args, **kwds)\n"
     ]
    },
    {
     "data": {
      "application/vnd.jupyter.widget-view+json": {
       "model_id": "7deb0ef3a12e497f8fd9440554583096",
       "version_major": 2,
       "version_minor": 0
      },
      "text/plain": [
       "  0%|          | 0/1 [00:00<?, ?it/s]"
      ]
     },
     "metadata": {},
     "output_type": "display_data"
    }
   ],
   "source": [
    "\n",
    "\n",
    "total_sample_pivot['prompt'] = total_sample_pivot.mapply(lambda x: f\"\"\"You are an expert at classifying products for risk. Tell me the risk level that the product category contains aerosol spray items.\n",
    "\n",
    "product category: Books\n",
    "example products:\n",
    "Dear Peter Rabbit (Hardcover)\n",
    "The Wages of Sin (Paperback)\n",
    "resonse: low\n",
    "\n",
    "product category: Hair Sprays\n",
    "example product:\n",
    "Paul Mitchell Firm Style Freeze and Shine Super Hairspray, 16.9 oz (Pack of 2)\n",
    "Goldwell Kerasilk Style Texturizing Finish Spray - 5.6 oz\n",
    "response: high\n",
    "\n",
    "product category: Automotive Touch-Up Paints\n",
    "example products:\n",
    "ERA Paints (1D6/U1D6 Silver Sky Metallic) Compatible with Toyota Tundra 2001-2020\n",
    "SUNBURST GOLD M\n",
    "response: medium\n",
    "\n",
    "product category: Acne Treatment Systems\n",
    "example products:\n",
    "Acne Treatment, Retinoid Treatment for Face with 0.1% Adapalene\n",
    "Epionce Purifying Spot Gel 0.34 Ounce\n",
    "response: medium\n",
    "\n",
    "now its your turn\n",
    "\n",
    "product category: {x['PROD_TYPE_NM']}\n",
    "example products:\n",
    "{x[1]}\n",
    "{x[2]}\n",
    "{x[3]}\n",
    "\n",
    "response:\"\"\",axis=1)"
   ]
  },
  {
   "cell_type": "markdown",
   "id": "450414a9-de0e-4f5f-917e-d558e0414990",
   "metadata": {},
   "source": [
    "#### function to perform  text bison LLM online predictions"
   ]
  },
  {
   "cell_type": "code",
   "execution_count": 11,
   "id": "5d415099-a219-4da9-a6c4-46385ff64bd0",
   "metadata": {},
   "outputs": [],
   "source": [
    "\n",
    "def get_ptype_aero_status(prompt):\n",
    "    text_model = TextGenerationModel.from_pretrained(\"text-bison@001\")\n",
    "    response = text_model.predict(prompt=prompt, temperature = 0.0, top_k = 1).text\n",
    "    time.sleep(1)\n",
    "    return response"
   ]
  },
  {
   "cell_type": "code",
   "execution_count": 12,
   "id": "decc376d-0090-4345-8572-086434133161",
   "metadata": {},
   "outputs": [],
   "source": [
    "# samples to test results\n",
    "aerosol_sample = total_sample_pivot.sample(n=10).reset_index(drop=True)"
   ]
  },
  {
   "cell_type": "code",
   "execution_count": 13,
   "id": "bbd64578-c159-43c3-a9d5-4f357b4d0ea1",
   "metadata": {},
   "outputs": [
    {
     "data": {
      "text/plain": [
       "'You are an expert at classifying products for risk. Tell me the risk level that the product category contains aerosol spray items.\\n\\nproduct category: Books\\nexample products:\\nDear Peter Rabbit (Hardcover)\\nThe Wages of Sin (Paperback)\\nresonse: low\\n\\nproduct category: Hair Sprays\\nexample product:\\nPaul Mitchell Firm Style Freeze and Shine Super Hairspray, 16.9 oz (Pack of 2)\\nGoldwell Kerasilk Style Texturizing Finish Spray - 5.6 oz\\nresponse: high\\n\\nproduct category: Automotive Touch-Up Paints\\nexample products:\\nERA Paints (1D6/U1D6 Silver Sky Metallic) Compatible with Toyota Tundra 2001-2020\\nSUNBURST GOLD M\\nresponse: medium\\n\\nproduct category: Acne Treatment Systems\\nexample products:\\nAcne Treatment, Retinoid Treatment for Face with 0.1% Adapalene\\nEpionce Purifying Spot Gel 0.34 Ounce\\nresponse: medium\\n\\nnow its your turn\\n\\nproduct category: TV & Monitor Mounts\\nexample products:\\nTV Wall Mount Full Motion Swivel Articulating Bracket Most 32-55 LED LCD OLED Plasma Flat Screen TV (Medium Full-Motion)\\nEmerald Tilt Wall TV Mount for 24\\'\\'-70\\'\\' TVs (9129)\\nVideoSecu Tilt Swivel TV Ceiling Mount for 37 39 40 42 43 46 47 48 50 55 60 65\" LCD LED Plasma HDTV Extension Pole bt9\\n\\nresponse:'"
      ]
     },
     "execution_count": 13,
     "metadata": {},
     "output_type": "execute_result"
    }
   ],
   "source": [
    "aerosol_sample['prompt'][0]"
   ]
  },
  {
   "cell_type": "code",
   "execution_count": 14,
   "id": "428583e4-ccd5-415a-a865-e8d16853f572",
   "metadata": {},
   "outputs": [
    {
     "name": "stderr",
     "output_type": "stream",
     "text": [
      "progress bar: 100%|██████████| 10/10 [00:14<00:00,  1.40s/it]"
     ]
    },
    {
     "name": "stdout",
     "output_type": "stream",
     "text": [
      "CPU times: user 346 ms, sys: 63.5 ms, total: 410 ms\n",
      "Wall time: 14 s\n"
     ]
    },
    {
     "name": "stderr",
     "output_type": "stream",
     "text": [
      "\n"
     ]
    }
   ],
   "source": [
    "\n",
    "%%time\n",
    "aerosol_sample['classification'] = aerosol_sample['prompt'].progress_apply(lambda x: get_ptype_aero_status(x))\n"
   ]
  },
  {
   "cell_type": "markdown",
   "id": "41b15540-40e0-4c60-9ea1-67d854a2348a",
   "metadata": {},
   "source": [
    "#### creating jsonl file with prompts for batch prediction"
   ]
  },
  {
   "cell_type": "code",
   "execution_count": 15,
   "id": "23d68fc8-c6b4-49ff-a3cb-f88a4f75fb51",
   "metadata": {},
   "outputs": [],
   "source": [
    "with open('aero_prompts.jsonl', 'w') as fp:\n",
    "    for item in total_sample_pivot['prompt'].to_list():\n",
    "        data = {\"prompt\": item}\n",
    "        fp.write(json.dumps(data) + \"\\n\")"
   ]
  },
  {
   "cell_type": "code",
   "execution_count": 73,
   "id": "e795a80c-6b48-4015-82f0-96e216dda4a4",
   "metadata": {},
   "outputs": [
    {
     "name": "stdout",
     "output_type": "stream",
     "text": [
      "Copying file://aero_prompts.jsonl [Content-Type=application/octet-stream]...\n",
      "/ [1 files][  7.6 MiB/  7.6 MiB]                                                \n",
      "Operation completed over 1 objects/7.6 MiB.                                      \n"
     ]
    }
   ],
   "source": [
    "#copying jsonl file into gcs bucket\n",
    "!gsutil cp aero_prompts.jsonl gs://phase2_scoreclean/pod2/aerosol_ptype_classification"
   ]
  },
  {
   "cell_type": "markdown",
   "id": "4609a0c8-6f17-4af1-8cd0-4e719c991334",
   "metadata": {},
   "source": [
    "#### Performing batch predictions"
   ]
  },
  {
   "cell_type": "code",
   "execution_count": 74,
   "id": "ba12c1ba-ee36-45af-bbab-1a55e11a40cf",
   "metadata": {},
   "outputs": [
    {
     "name": "stdout",
     "output_type": "stream",
     "text": [
      "Creating BatchPredictionJob\n",
      "BatchPredictionJob created. Resource name: projects/613500287760/locations/us-central1/batchPredictionJobs/3795033446342983680\n",
      "To use this BatchPredictionJob in another session:\n",
      "bpj = aiplatform.BatchPredictionJob('projects/613500287760/locations/us-central1/batchPredictionJobs/3795033446342983680')\n",
      "View Batch Prediction Job:\n",
      "https://console.cloud.google.com/ai/platform/locations/us-central1/batch-predictions/3795033446342983680?project=613500287760\n"
     ]
    },
    {
     "name": "stderr",
     "output_type": "stream",
     "text": [
      "/opt/conda/lib/python3.10/site-packages/vertexai/language_models/_language_models.py:924: UserWarning: source_uri is deprecated, use dataset instead.\n",
      "  warnings.warn(\"source_uri is deprecated, use dataset instead.\")\n"
     ]
    },
    {
     "name": "stdout",
     "output_type": "stream",
     "text": [
      "BatchPredictionJob projects/613500287760/locations/us-central1/batchPredictionJobs/3795033446342983680 current state:\n",
      "JobState.JOB_STATE_RUNNING\n",
      "BatchPredictionJob projects/613500287760/locations/us-central1/batchPredictionJobs/3795033446342983680 current state:\n",
      "JobState.JOB_STATE_RUNNING\n",
      "BatchPredictionJob projects/613500287760/locations/us-central1/batchPredictionJobs/3795033446342983680 current state:\n",
      "JobState.JOB_STATE_RUNNING\n",
      "BatchPredictionJob projects/613500287760/locations/us-central1/batchPredictionJobs/3795033446342983680 current state:\n",
      "JobState.JOB_STATE_RUNNING\n",
      "BatchPredictionJob projects/613500287760/locations/us-central1/batchPredictionJobs/3795033446342983680 current state:\n",
      "JobState.JOB_STATE_RUNNING\n",
      "BatchPredictionJob projects/613500287760/locations/us-central1/batchPredictionJobs/3795033446342983680 current state:\n",
      "JobState.JOB_STATE_RUNNING\n",
      "BatchPredictionJob projects/613500287760/locations/us-central1/batchPredictionJobs/3795033446342983680 current state:\n",
      "JobState.JOB_STATE_RUNNING\n",
      "BatchPredictionJob projects/613500287760/locations/us-central1/batchPredictionJobs/3795033446342983680 current state:\n",
      "JobState.JOB_STATE_RUNNING\n",
      "BatchPredictionJob projects/613500287760/locations/us-central1/batchPredictionJobs/3795033446342983680 current state:\n",
      "JobState.JOB_STATE_RUNNING\n",
      "BatchPredictionJob projects/613500287760/locations/us-central1/batchPredictionJobs/3795033446342983680 current state:\n",
      "JobState.JOB_STATE_RUNNING\n",
      "BatchPredictionJob projects/613500287760/locations/us-central1/batchPredictionJobs/3795033446342983680 current state:\n",
      "JobState.JOB_STATE_RUNNING\n",
      "BatchPredictionJob projects/613500287760/locations/us-central1/batchPredictionJobs/3795033446342983680 current state:\n",
      "JobState.JOB_STATE_RUNNING\n",
      "BatchPredictionJob projects/613500287760/locations/us-central1/batchPredictionJobs/3795033446342983680 current state:\n",
      "JobState.JOB_STATE_RUNNING\n",
      "BatchPredictionJob projects/613500287760/locations/us-central1/batchPredictionJobs/3795033446342983680 current state:\n",
      "JobState.JOB_STATE_RUNNING\n",
      "BatchPredictionJob projects/613500287760/locations/us-central1/batchPredictionJobs/3795033446342983680 current state:\n",
      "JobState.JOB_STATE_RUNNING\n",
      "BatchPredictionJob projects/613500287760/locations/us-central1/batchPredictionJobs/3795033446342983680 current state:\n",
      "JobState.JOB_STATE_RUNNING\n",
      "BatchPredictionJob projects/613500287760/locations/us-central1/batchPredictionJobs/3795033446342983680 current state:\n",
      "JobState.JOB_STATE_RUNNING\n",
      "BatchPredictionJob projects/613500287760/locations/us-central1/batchPredictionJobs/3795033446342983680 current state:\n",
      "JobState.JOB_STATE_RUNNING\n",
      "BatchPredictionJob projects/613500287760/locations/us-central1/batchPredictionJobs/3795033446342983680 current state:\n",
      "JobState.JOB_STATE_RUNNING\n",
      "BatchPredictionJob projects/613500287760/locations/us-central1/batchPredictionJobs/3795033446342983680 current state:\n",
      "JobState.JOB_STATE_RUNNING\n",
      "BatchPredictionJob projects/613500287760/locations/us-central1/batchPredictionJobs/3795033446342983680 current state:\n",
      "JobState.JOB_STATE_RUNNING\n",
      "BatchPredictionJob projects/613500287760/locations/us-central1/batchPredictionJobs/3795033446342983680 current state:\n",
      "JobState.JOB_STATE_RUNNING\n",
      "BatchPredictionJob projects/613500287760/locations/us-central1/batchPredictionJobs/3795033446342983680 current state:\n",
      "JobState.JOB_STATE_SUCCEEDED\n",
      "BatchPredictionJob run completed. Resource name: projects/613500287760/locations/us-central1/batchPredictionJobs/3795033446342983680\n"
     ]
    }
   ],
   "source": [
    "from vertexai.preview.language_models import TextGenerationModel\n",
    "text_model = TextGenerationModel.from_pretrained(\"text-bison\")\n",
    "batch_prediction_job = text_model.batch_predict(\n",
    "  source_uri=[\"gs://phase2_scoreclean/pod2/aerosol_ptype_classification/aero_prompts.jsonl\"],\n",
    "  destination_uri_prefix=\"gs://phase2_scoreclean/pod2/aerosol_ptype_classification/results/\",\n",
    "  # Optional:\n",
    "  model_parameters={\n",
    "      \"maxOutputTokens\": \"200\",\n",
    "      \"temperature\": \"0.0\",\n",
    "      \"topK\": \"1\",\n",
    "  },\n",
    ")"
   ]
  },
  {
   "cell_type": "markdown",
   "id": "90db28fc-8c6a-415d-8421-24e34d9095cd",
   "metadata": {},
   "source": [
    "#### reading batch prediction results and converting into csv file"
   ]
  },
  {
   "cell_type": "code",
   "execution_count": 75,
   "id": "231f6832-586b-4d33-888e-58965cc9484b",
   "metadata": {},
   "outputs": [],
   "source": [
    "df = pd.read_json('gs://phase2_scoreclean/pod2/aerosol_ptype_classification/results/prediction-model-2023-10-25T20:00:26.707816Z/000000000000.jsonl',lines=True)"
   ]
  },
  {
   "cell_type": "code",
   "execution_count": 86,
   "id": "f433d444-aca9-4a9d-aeee-270d8d3d52e8",
   "metadata": {},
   "outputs": [],
   "source": [
    "df['product_type'] = df['instance'].apply(lambda x: x['prompt'].split('product category:')[-1].split('\\n')[0].strip())"
   ]
  },
  {
   "cell_type": "code",
   "execution_count": 87,
   "id": "dd99f69a-4c09-4517-a117-4f642568c2a8",
   "metadata": {},
   "outputs": [],
   "source": [
    "df['classification'] = df['predictions'].apply(lambda x: x[0]['content'].strip() if pd.isnull(x)!=True else None)"
   ]
  },
  {
   "cell_type": "markdown",
   "id": "9f9481d3-b4e0-4685-aca5-0b49bc26f984",
   "metadata": {},
   "source": [
    "#### Define a file names and save it in a csv file in the GCS bucket"
   ]
  },
  {
   "cell_type": "code",
   "execution_count": 89,
   "id": "c51b19b7-b26e-4847-8c1d-20b50198b4bd",
   "metadata": {},
   "outputs": [],
   "source": [
    "df.to_csv('gs://phase2_scoreclean/pod2/aerosol/aerosol_product_type_classification.csv',index=False)"
   ]
  },
  {
   "cell_type": "code",
   "execution_count": 12,
   "id": "f7d54a74-fbcd-45c6-a72c-38a4c8a38f69",
   "metadata": {
    "tags": []
   },
   "outputs": [],
   "source": [
    "# library version\n",
    "# Package                                  Version\n",
    "# ---------------------------------------- ---------------\n",
    "# absl-py                                  1.4.0\n",
    "# aiohttp                                  3.8.5\n",
    "# aiohttp-cors                             0.7.0\n",
    "# aiorwlock                                1.3.0\n",
    "# aiosignal                                1.3.1\n",
    "# ansiwrap                                 0.8.4\n",
    "# anyio                                    3.7.1\n",
    "# apache-beam                              2.46.0\n",
    "# argon2-cffi                              23.1.0\n",
    "# argon2-cffi-bindings                     21.2.0\n",
    "# array-record                             0.4.1\n",
    "# arrow                                    1.2.3\n",
    "# asttokens                                2.4.0\n",
    "# astunparse                               1.6.3\n",
    "# async-lru                                2.0.4\n",
    "# async-timeout                            4.0.3\n",
    "# attrs                                    23.1.0\n",
    "# Babel                                    2.12.1\n",
    "# backcall                                 0.2.0\n",
    "# backoff                                  2.2.1\n",
    "# backports.functools-lru-cache            1.6.5\n",
    "# beatrix-jupyterlab                       2023.814.150030\n",
    "# beautifulsoup4                           4.12.2\n",
    "# bleach                                   6.0.0\n",
    "# blessed                                  1.20.0\n",
    "# boltons                                  23.0.0\n",
    "# Brotli                                   1.1.0\n",
    "# cached-property                          1.5.2\n",
    "# cachetools                               4.2.4\n",
    "# certifi                                  2023.7.22\n",
    "# cffi                                     1.15.1\n",
    "# charset-normalizer                       3.2.0\n",
    "# click                                    8.1.7\n",
    "# cloud-tpu-client                         0.10\n",
    "# cloud-tpu-profiler                       2.4.0\n",
    "# cloudpickle                              2.2.1\n",
    "# colorama                                 0.4.6\n",
    "# colorful                                 0.5.5\n",
    "# comm                                     0.1.4\n",
    "# conda                                    23.7.4\n",
    "# conda-package-handling                   2.2.0\n",
    "# conda_package_streaming                  0.9.0\n",
    "# contourpy                                1.1.1\n",
    "# crcmod                                   1.7\n",
    "# cryptography                             41.0.4\n",
    "# cycler                                   0.11.0\n",
    "# Cython                                   3.0.2\n",
    "# dacite                                   1.8.1\n",
    "# db-dtypes                                1.1.1\n",
    "# debugpy                                  1.8.0\n",
    "# decorator                                5.1.1\n",
    "# defusedxml                               0.7.1\n",
    "# Deprecated                               1.2.14\n",
    "# dill                                     0.3.7\n",
    "# distlib                                  0.3.7\n",
    "# dm-tree                                  0.1.8\n",
    "# docker                                   6.1.3\n",
    "# docopt                                   0.6.2\n",
    "# docstring-parser                         0.15\n",
    "# entrypoints                              0.4\n",
    "# etils                                    1.5.0\n",
    "# exceptiongroup                           1.1.3\n",
    "# executing                                1.2.0\n",
    "# explainable-ai-sdk                       1.3.3\n",
    "# Farama-Notifications                     0.0.4\n",
    "# fastapi                                  0.103.1\n",
    "# fastavro                                 1.8.3\n",
    "# fasteners                                0.19\n",
    "# fastjsonschema                           2.18.0\n",
    "# filelock                                 3.12.4\n",
    "# flatbuffers                              23.5.26\n",
    "# fonttools                                4.42.1\n",
    "# fqdn                                     1.5.1\n",
    "# frozenlist                               1.4.0\n",
    "# fsspec                                   2023.9.2\n",
    "# gast                                     0.4.0\n",
    "# gcsfs                                    2023.9.2\n",
    "# gitdb                                    4.0.10\n",
    "# GitPython                                3.1.37\n",
    "# google-api-core                          2.11.1\n",
    "# google-api-python-client                 1.8.0\n",
    "# google-apitools                          0.5.31\n",
    "# google-auth                              2.23.0\n",
    "# google-auth-httplib2                     0.1.1\n",
    "# google-auth-oauthlib                     1.1.0\n",
    "# google-cloud-aiplatform                  1.33.1\n",
    "# google-cloud-artifact-registry           1.8.3\n",
    "# google-cloud-bigquery                    3.11.4\n",
    "# google-cloud-bigquery-storage            2.16.2\n",
    "# google-cloud-bigtable                    1.7.3\n",
    "# google-cloud-core                        2.3.3\n",
    "# google-cloud-datastore                   1.15.5\n",
    "# google-cloud-dlp                         3.12.3\n",
    "# google-cloud-language                    1.3.2\n",
    "# google-cloud-monitoring                  2.15.1\n",
    "# google-cloud-pubsub                      2.18.4\n",
    "# google-cloud-pubsublite                  1.8.3\n",
    "# google-cloud-recommendations-ai          0.7.1\n",
    "# google-cloud-resource-manager            1.10.4\n",
    "# google-cloud-spanner                     3.40.1\n",
    "# google-cloud-storage                     2.11.0\n",
    "# google-cloud-videointelligence           1.16.3\n",
    "# google-cloud-vision                      3.4.4\n",
    "# google-crc32c                            1.5.0\n",
    "# google-pasta                             0.2.0\n",
    "# google-resumable-media                   2.6.0\n",
    "# googleapis-common-protos                 1.60.0\n",
    "# gpustat                                  1.0.0\n",
    "# greenlet                                 2.0.2\n",
    "# grpc-google-iam-v1                       0.12.6\n",
    "# grpcio                                   1.48.0\n",
    "# grpcio-status                            1.48.0\n",
    "# gviz-api                                 1.10.0\n",
    "# gymnasium                                0.28.1\n",
    "# h11                                      0.14.0\n",
    "# h5py                                     3.9.0\n",
    "# hdfs                                     2.7.2\n",
    "# htmlmin                                  0.1.12\n",
    "# httplib2                                 0.21.0\n",
    "# idna                                     3.4\n",
    "# ImageHash                                4.3.1\n",
    "# imageio                                  2.31.4\n",
    "# importlib-metadata                       6.8.0\n",
    "# importlib-resources                      6.1.0\n",
    "# ipykernel                                6.25.2\n",
    "# ipython                                  8.15.0\n",
    "# ipython-genutils                         0.2.0\n",
    "# ipython-sql                              0.5.0\n",
    "# ipywidgets                               8.1.1\n",
    "# isoduration                              20.11.0\n",
    "# jaraco.classes                           3.3.0\n",
    "# jax-jumpy                                1.0.0\n",
    "# jedi                                     0.19.0\n",
    "# jeepney                                  0.8.0\n",
    "# Jinja2                                   3.1.2\n",
    "# joblib                                   1.3.2\n",
    "# json5                                    0.9.14\n",
    "# jsonpatch                                1.33\n",
    "# jsonpointer                              2.4\n",
    "# jsonschema                               4.19.1\n",
    "# jsonschema-specifications                2023.7.1\n",
    "# jupyter_client                           7.4.9\n",
    "# jupyter_core                             5.3.1\n",
    "# jupyter-events                           0.7.0\n",
    "# jupyter-http-over-ws                     0.0.8\n",
    "# jupyter-lsp                              2.2.0\n",
    "# jupyter-server                           1.24.0\n",
    "# jupyter-server-mathjax                   0.2.6\n",
    "# jupyter_server_proxy                     4.1.0\n",
    "# jupyter_server_terminals                 0.4.4\n",
    "# jupyterlab                               3.4.8\n",
    "# jupyterlab_git                           0.43.0\n",
    "# jupyterlab-pygments                      0.2.2\n",
    "# jupyterlab_server                        2.25.0\n",
    "# jupyterlab-widgets                       3.0.9\n",
    "# jupytext                                 1.15.2\n",
    "# keras                                    2.11.0\n",
    "# keras-core                               0.1.7\n",
    "# keras-tuner                              1.4.1\n",
    "# keyring                                  24.2.0\n",
    "# keyrings.google-artifactregistry-auth    1.1.2\n",
    "# kfp                                      2.3.0\n",
    "# kfp-pipeline-spec                        0.2.2\n",
    "# kfp-server-api                           2.0.1\n",
    "# kiwisolver                               1.4.5\n",
    "# kt-legacy                                1.0.5\n",
    "# kubernetes                               26.1.0\n",
    "# lazy_loader                              0.3\n",
    "# libclang                                 16.0.6\n",
    "# llvmlite                                 0.41.0\n",
    "# lz4                                      4.3.2\n",
    "# mapply                                   0.1.21\n",
    "# Markdown                                 3.4.4\n",
    "# markdown-it-py                           3.0.0\n",
    "# MarkupSafe                               2.0.1\n",
    "# matplotlib                               3.8.0\n",
    "# matplotlib-inline                        0.1.6\n",
    "# mdit-py-plugins                          0.4.0\n",
    "# mdurl                                    0.1.2\n",
    "# mistune                                  3.0.1\n",
    "# more-itertools                           10.1.0\n",
    "# msgpack                                  1.0.6\n",
    "# multidict                                6.0.4\n",
    "# multimethod                              1.10\n",
    "# multiprocess                             0.70.15\n",
    "# namex                                    0.0.7\n",
    "# nb-conda                                 2.2.1\n",
    "# nb-conda-kernels                         2.3.1\n",
    "# nbclassic                                1.0.0\n",
    "# nbclient                                 0.8.0\n",
    "# nbconvert                                7.8.0\n",
    "# nbdime                                   3.2.0\n",
    "# nbformat                                 5.9.2\n",
    "# nest-asyncio                             1.5.6\n",
    "# networkx                                 3.1\n",
    "# notebook                                 6.5.6\n",
    "# notebook-executor                        0.2\n",
    "# notebook_shim                            0.2.3\n",
    "# numba                                    0.58.0\n",
    "# numpy                                    1.23.5\n",
    "# nvidia-ml-py                             11.495.46\n",
    "# oauth2client                             4.1.3\n",
    "# oauthlib                                 3.2.2\n",
    "# objsize                                  0.6.1\n",
    "# opencensus                               0.11.3\n",
    "# opencensus-context                       0.1.3\n",
    "# opentelemetry-api                        1.20.0\n",
    "# opentelemetry-exporter-otlp              1.20.0\n",
    "# opentelemetry-exporter-otlp-proto-common 1.20.0\n",
    "# opentelemetry-exporter-otlp-proto-grpc   1.20.0\n",
    "# opentelemetry-exporter-otlp-proto-http   1.20.0\n",
    "# opentelemetry-proto                      1.20.0\n",
    "# opentelemetry-sdk                        1.20.0\n",
    "# opentelemetry-semantic-conventions       0.41b0\n",
    "# opt-einsum                               3.3.0\n",
    "# orjson                                   3.9.7\n",
    "# overrides                                6.5.0\n",
    "# packaging                                23.1\n",
    "# pandas                                   2.0.3\n",
    "# pandas-gbq                               0.19.2\n",
    "# pandas-profiling                         3.6.6\n",
    "# pandocfilters                            1.5.0\n",
    "# papermill                                2.4.0\n",
    "# parso                                    0.8.3\n",
    "# pathos                                   0.3.1\n",
    "# patsy                                    0.5.3\n",
    "# pexpect                                  4.8.0\n",
    "# phik                                     0.12.3\n",
    "# pickleshare                              0.7.5\n",
    "# Pillow                                   10.0.1\n",
    "# pip                                      23.2.1\n",
    "# pkgutil_resolve_name                     1.3.10\n",
    "# platformdirs                             3.10.0\n",
    "# plotly                                   5.17.0\n",
    "# pluggy                                   1.3.0\n",
    "# pox                                      0.3.3\n",
    "# ppft                                     1.7.6.7\n",
    "# prettytable                              3.9.0\n",
    "# prometheus-client                        0.17.1\n",
    "# promise                                  2.3\n",
    "# prompt-toolkit                           3.0.39\n",
    "# proto-plus                               1.22.3\n",
    "# protobuf                                 3.19.6\n",
    "# psutil                                   5.9.3\n",
    "# ptyprocess                               0.7.0\n",
    "# pure-eval                                0.2.2\n",
    "# py-spy                                   0.3.14\n",
    "# pyarrow                                  9.0.0\n",
    "# pyasn1                                   0.5.0\n",
    "# pyasn1-modules                           0.3.0\n",
    "# pycosat                                  0.6.4\n",
    "# pycparser                                2.21\n",
    "# pydantic                                 1.10.12\n",
    "# pydata-google-auth                       1.8.2\n",
    "# pydot                                    1.4.2\n",
    "# Pygments                                 2.16.1\n",
    "# PyJWT                                    2.8.0\n",
    "# pymongo                                  3.13.0\n",
    "# pyOpenSSL                                23.2.0\n",
    "# pyparsing                                3.1.1\n",
    "# PySocks                                  1.7.1\n",
    "# python-dateutil                          2.8.2\n",
    "# python-json-logger                       2.0.7\n",
    "# pytz                                     2023.3.post1\n",
    "# pyu2f                                    0.1.5\n",
    "# PyWavelets                               1.4.1\n",
    "# PyYAML                                   6.0.1\n",
    "# pyzmq                                    24.0.1\n",
    "# ray                                      2.7.0\n",
    "# ray-cpp                                  2.7.0\n",
    "# referencing                              0.30.2\n",
    "# regex                                    2023.8.8\n",
    "# requests                                 2.31.0\n",
    "# requests-oauthlib                        1.3.1\n",
    "# requests-toolbelt                        0.10.1\n",
    "# retrying                                 1.3.3\n",
    "# rfc3339-validator                        0.1.4\n",
    "# rfc3986-validator                        0.1.1\n",
    "# rich                                     13.5.3\n",
    "# rpds-py                                  0.10.3\n",
    "# rsa                                      4.9\n",
    "# ruamel.yaml                              0.17.32\n",
    "# ruamel.yaml.clib                         0.2.7\n",
    "# scikit-image                             0.21.0\n",
    "# scikit-learn                             1.3.1\n",
    "# scipy                                    1.11.2\n",
    "# seaborn                                  0.12.2\n",
    "# SecretStorage                            3.3.3\n",
    "# Send2Trash                               1.8.2\n",
    "# setuptools                               68.2.2\n",
    "# Shapely                                  1.8.5.post1\n",
    "# simpervisor                              1.0.0\n",
    "# six                                      1.16.0\n",
    "# smart-open                               6.4.0\n",
    "# smmap                                    5.0.1\n",
    "# sniffio                                  1.3.0\n",
    "# soupsieve                                2.5\n",
    "# SQLAlchemy                               2.0.21\n",
    "# sqlparse                                 0.4.4\n",
    "# stack-data                               0.6.2\n",
    "# starlette                                0.27.0\n",
    "# statsmodels                              0.14.0\n",
    "# tabulate                                 0.9.0\n",
    "# tangled-up-in-unicode                    0.2.0\n",
    "# tenacity                                 8.2.3\n",
    "# tensorboard                              2.11.2\n",
    "# tensorboard-data-server                  0.6.1\n",
    "# tensorboard-plugin-profile               2.13.1\n",
    "# tensorboard-plugin-wit                   1.8.1\n",
    "# tensorboardX                             2.6\n",
    "# tensorflow                               2.11.0\n",
    "# tensorflow-cloud                         0.1.16\n",
    "# tensorflow-datasets                      4.9.0\n",
    "# tensorflow-estimator                     2.11.0\n",
    "# tensorflow-hub                           0.14.0\n",
    "# tensorflow-io                            0.29.0\n",
    "# tensorflow-io-gcs-filesystem             0.29.0\n",
    "# tensorflow-metadata                      0.14.0\n",
    "# tensorflow-probability                   0.21.0\n",
    "# tensorflow-serving-api                   2.11.0\n",
    "# tensorflow-transform                     0.14.0\n",
    "# termcolor                                2.3.0\n",
    "# terminado                                0.17.1\n",
    "# textwrap3                                0.9.2\n",
    "# threadpoolctl                            3.2.0\n",
    "# tifffile                                 2023.9.18\n",
    "# tinycss2                                 1.2.1\n",
    "# toml                                     0.10.2\n",
    "# tomli                                    2.0.1\n",
    "# toolz                                    0.12.0\n",
    "# tornado                                  6.3.3\n",
    "# tqdm                                     4.66.1\n",
    "# traitlets                                5.10.0\n",
    "# typeguard                                2.13.3\n",
    "# typer                                    0.9.0\n",
    "# typing_extensions                        4.5.0\n",
    "# typing-utils                             0.1.0\n",
    "# tzdata                                   2023.3\n",
    "# uri-template                             1.3.0\n",
    "# uritemplate                              3.0.1\n",
    "# urllib3                                  1.26.16\n",
    "# uvicorn                                  0.23.2\n",
    "# virtualenv                               20.21.0\n",
    "# visions                                  0.7.5\n",
    "# watchfiles                               0.20.0\n",
    "# wcwidth                                  0.2.6\n",
    "# webcolors                                1.13\n",
    "# webencodings                             0.5.1\n",
    "# websocket-client                         1.6.3\n",
    "# Werkzeug                                 2.1.2\n",
    "# wheel                                    0.41.2\n",
    "# widgetsnbextension                       4.0.9\n",
    "# witwidget                                1.8.1\n",
    "# wordcloud                                1.9.2\n",
    "# wrapt                                    1.15.0\n",
    "# yarl                                     1.9.2\n",
    "# ydata-profiling                          4.5.1\n",
    "# zipp                                     3.17.0\n",
    "# zstandard                                0.21.0\n"
   ]
  }
 ],
 "metadata": {
  "environment": {
   "kernel": "python3",
   "name": "tf2-cpu.2-11.m112",
   "type": "gcloud",
   "uri": "gcr.io/deeplearning-platform-release/tf2-cpu.2-11:m112"
  },
  "kernelspec": {
   "display_name": "Python 3",
   "language": "python",
   "name": "python3"
  },
  "language_info": {
   "codemirror_mode": {
    "name": "ipython",
    "version": 3
   },
   "file_extension": ".py",
   "mimetype": "text/x-python",
   "name": "python",
   "nbconvert_exporter": "python",
   "pygments_lexer": "ipython3",
   "version": "3.10.12"
  }
 },
 "nbformat": 4,
 "nbformat_minor": 5
}
