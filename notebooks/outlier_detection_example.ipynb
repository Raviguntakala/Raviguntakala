{
 "cells": [
  {
   "cell_type": "markdown",
   "metadata": {},
   "source": [
    "### **Import packages**"
   ]
  },
  {
   "cell_type": "code",
   "execution_count": null,
   "metadata": {},
   "outputs": [],
   "source": [
    "from google.cloud import bigquery\n",
    "import time\n",
    "from vertexai.language_models import TextEmbeddingModel"
   ]
  },
  {
   "cell_type": "markdown",
   "metadata": {},
   "source": [
    "### **Step1 : Create Train and Test Data Tables in BigQuery**"
   ]
  },
  {
   "cell_type": "markdown",
   "metadata": {},
   "source": [
    "### **Step 2: Create Embeddings**\n"
   ]
  },
  {
   "cell_type": "markdown",
   "metadata": {},
   "source": [
    "- **Create Embedding Model in BigQuery**"
   ]
  },
  {
   "cell_type": "code",
   "execution_count": 2,
   "metadata": {},
   "outputs": [],
   "source": [
    "def create_embeddings_model(client,\n",
    "                        project_id,\n",
    "                        dataset_id, \n",
    "                        model_name,\n",
    "                        connection_id):\n",
    "    \"\"\"\n",
    "    Create a text embeddings model in BigQuery\n",
    "    See https://cloud.google.com/blog/products/data-analytics/introducing-bigquery-text-embeddings for additional info\n",
    "    Note: current model is set to 'textembedding-gecko@003', to update this model change it in the ENDPOINT BELOW\n",
    "    \n",
    "    Args:\n",
    "        client: A BigQuery client object.\n",
    "        project_id: The ID of the project to save the model,\n",
    "        dataset_id: The ID of the dataset to save the model.\n",
    "        model_name: The name to save the text embedding model under.\n",
    "    \"\"\"\n",
    "    ## UPDATE MODEL VERSION BY CHANGING ENDPOINT BELOW\n",
    "    query = f\"\"\"\n",
    "    CREATE MODEL `{project_id}.{dataset_id}.{model_name}`\n",
    "    REMOTE WITH CONNECTION `{project_id}.{connection_id}`\n",
    "    OPTIONS(ENDPOINT='textembedding-gecko@003');\n",
    "    \"\"\"\n",
    "\n",
    "    query_job = client.query(query)\n",
    "    while query_job.done()!=True: \n",
    "        print('waiting for bigquery') \n",
    "        time.sleep(10) \n",
    "    if query_job.errors==None:\n",
    "        print(f'model successfully created')\n",
    "    else:\n",
    "        print('model creation unsuccessful with errors:',query_job.errors)"
   ]
  },
  {
   "cell_type": "code",
   "execution_count": 3,
   "metadata": {},
   "outputs": [],
   "source": [
    "def create_embedding(text) -> list:\n",
    "    \"\"\"\n",
    "    Turn text a single string of text into embeddings\n",
    "    Input: a single string of text\n",
    "    Returns: a list of embeddings corresponding to the text \n",
    "    \"\"\"\n",
    "    model = TextEmbeddingModel.from_pretrained(\"textembedding-gecko@003\")\n",
    "    embeddings = model.get_embeddings([text])\n",
    "    for embedding in embeddings:\n",
    "        vector = embedding.values\n",
    "    return vector"
   ]
  },
  {
   "cell_type": "markdown",
   "metadata": {},
   "source": [
    "- **Generate Embeddings for both train and test data**"
   ]
  },
  {
   "cell_type": "code",
   "execution_count": 4,
   "metadata": {},
   "outputs": [],
   "source": [
    "def generate_embeddings(client,\n",
    "                        project_id,\n",
    "                        dataset_id, \n",
    "                        input_table_name, \n",
    "                        output_table_name, \n",
    "                        uids,\n",
    "                        target_attribute,\n",
    "                        model_name='us-gcp-ame-con-52dbb-sbx-1.language_models.palm2_embeddings'):\n",
    "    \"\"\"\n",
    "    Converts text to embeddings at scale using BigQuery ML.GENERATE_TEXT_EMBEDDING,\n",
    "    Input: a data frame with a column containing multiple rows each with text\n",
    "    Returns a data frame with embeddings for each row\n",
    "\n",
    "    Args:\n",
    "        client: A BigQuery client object.\n",
    "        project_id: The ID of the project containincontaining the datasets,tables\n",
    "        dataset_id: The ID of the dataset containing the input, output tables, and model.\n",
    "        input_table_name: The name of the table containing the text content.\n",
    "        output_table_name: The name of the table to create with the embeddings.\n",
    "        model_name: The full name of the text embedding model within the dataset (optional, defaults to 'language_models.palm2_embeddings').\n",
    "    \"\"\"\n",
    "\n",
    "    query = f\"\"\"\n",
    "            CREATE OR REPLACE TABLE `{project_id}.{dataset_id}.{output_table_name}` AS \n",
    "            SELECT {','.join(uids)}, content as {target_attribute}, text_embedding\n",
    "    FROM ML.GENERATE_TEXT_EMBEDDING(\n",
    "        MODEL `{model_name}`,\n",
    "        (SELECT {','.join(uids)}, {target_attribute} as content FROM `{project_id}.{dataset_id}.{input_table_name}`),\n",
    "        STRUCT(TRUE AS flatten_json_output)\n",
    "    )\n",
    "    \"\"\"\n",
    "\n",
    "    query_job = client.query(query)\n",
    "    while query_job.done()!=True: \n",
    "        print('waiting for bigquery') \n",
    "        time.sleep(10) \n",
    "    if query_job.errors==None:\n",
    "        print(f\"Embeddings generated successfully in table `{dataset_id}.{output_table_name}`\")\n",
    "    else:\n",
    "        print('embeddings generation unsuccessful with errors:',query_job.errors)"
   ]
  },
  {
   "cell_type": "code",
   "execution_count": 5,
   "metadata": {},
   "outputs": [],
   "source": [
    "client = bigquery.Client()"
   ]
  },
  {
   "cell_type": "code",
   "execution_count": 6,
   "metadata": {},
   "outputs": [],
   "source": [
    "# create_embeddings_model(client=client,\n",
    "#                         project_id='us-gcp-ame-con-52dbb-sbx-1',\n",
    "#                         dataset_id='language_models', \n",
    "#                         model_name='palm2_embeddings',\n",
    "#                         connection_id='us.dataquality')"
   ]
  },
  {
   "cell_type": "code",
   "execution_count": 7,
   "metadata": {},
   "outputs": [],
   "source": [
    "# # generate embeddings for train data\n",
    "# generate_embeddings(client=client,\n",
    "#                     project_id='us-gcp-ame-con-52dbb-sbx-1',\n",
    "#                     dataset_id='test_datasets',\n",
    "#                     input_table_name='outlier_train',\n",
    "#                     output_table_name='outlier_train_emb',\n",
    "#                     uids=['asin','category'], \n",
    "#                     target_attribute='title')"
   ]
  },
  {
   "cell_type": "code",
   "execution_count": 8,
   "metadata": {},
   "outputs": [],
   "source": [
    "# # generate embeddings for test data\n",
    "# generate_embeddings(client=client,\n",
    "#                     project_id='us-gcp-ame-con-52dbb-sbx-1',\n",
    "#                     dataset_id='test_datasets',\n",
    "#                     input_table_name='sample_data_gdrive',\n",
    "#                     output_table_name='sample_data_emb',\n",
    "#                     uids=['asin','category'], \n",
    "#                     target_attribute='title')"
   ]
  },
  {
   "cell_type": "markdown",
   "metadata": {},
   "source": [
    "\n",
    "## **Step 3 : Text Outlier Detection:**\n",
    "\n",
    "- **Class: Implement or import an OutlierDetector class for your chosen method (e.g., Isolation Forest).**\n",
    "    \n",
    "- **Training: Train the outlier detection model using the embeddings table for the training data.**\n",
    "    \n",
    "- **Identification: Apply the trained model to the embeddings table for the test data to identify potential outliers.**\n",
    "    \n",
    "- **Analysis: Analyze the identified outliers based on the original text data for insights and further actions.**"
   ]
  },
  {
   "cell_type": "code",
   "execution_count": 9,
   "metadata": {},
   "outputs": [],
   "source": [
    "from sqlalchemy import *\n",
    "from sqlalchemy.engine import create_engine\n",
    "from sqlalchemy.schema import *\n",
    "import datetime\n",
    "from modules.outlier_detection import TextOutlierDetector\n",
    "from modules.dq_engine import DqEngine"
   ]
  },
  {
   "cell_type": "code",
   "execution_count": 10,
   "metadata": {},
   "outputs": [
    {
     "name": "stderr",
     "output_type": "stream",
     "text": [
      "/tmp/ipykernel_936/1660990821.py:1: SADeprecationWarning: The dbapi() classmethod on dialect classes has been renamed to import_dbapi().  Implement an import_dbapi() classmethod directly on class <class 'pybigquery.sqlalchemy_bigquery.BigQueryDialect'> to remove this warning; the old .dbapi() classmethod may be maintained for backwards compatibility.\n",
      "  engine = create_engine('bigquery://us-gcp-ame-con-52dbb-sbx-1')\n"
     ]
    }
   ],
   "source": [
    "engine = create_engine('bigquery://us-gcp-ame-con-52dbb-sbx-1')\n",
    "dqe = DqEngine(engine)\n",
    "detector = TextOutlierDetector(engine)"
   ]
  },
  {
   "cell_type": "code",
   "execution_count": 11,
   "metadata": {},
   "outputs": [
    {
     "data": {
      "text/html": [
       "<div>\n",
       "<style scoped>\n",
       "    .dataframe tbody tr th:only-of-type {\n",
       "        vertical-align: middle;\n",
       "    }\n",
       "\n",
       "    .dataframe tbody tr th {\n",
       "        vertical-align: top;\n",
       "    }\n",
       "\n",
       "    .dataframe thead th {\n",
       "        text-align: right;\n",
       "    }\n",
       "</style>\n",
       "<table border=\"1\" class=\"dataframe\">\n",
       "  <thead>\n",
       "    <tr style=\"text-align: right;\">\n",
       "      <th></th>\n",
       "      <th>asin</th>\n",
       "      <th>category</th>\n",
       "      <th>title</th>\n",
       "      <th>TARGET_ATTRIBUTE_catalog_value</th>\n",
       "      <th>text_embedding</th>\n",
       "    </tr>\n",
       "  </thead>\n",
       "  <tbody>\n",
       "    <tr>\n",
       "      <th>0</th>\n",
       "      <td>B01936EMBO</td>\n",
       "      <td>Prime_Pantry</td>\n",
       "      <td>KIT KAT Chocolate Candy Bar, 4.5 Ounce</td>\n",
       "      <td>KIT KAT Chocolate Candy Bar, 4.5 Ounce</td>\n",
       "      <td>[0.03588782250881195, -0.03371730074286461, -0...</td>\n",
       "    </tr>\n",
       "    <tr>\n",
       "      <th>1</th>\n",
       "      <td>B00IAE94BY</td>\n",
       "      <td>Prime_Pantry</td>\n",
       "      <td>Post Shredded Wheat Original Breakfast Cereal,...</td>\n",
       "      <td>Post Shredded Wheat Original Breakfast Cereal,...</td>\n",
       "      <td>[0.010123880580067635, -0.03477214649319649, -...</td>\n",
       "    </tr>\n",
       "    <tr>\n",
       "      <th>2</th>\n",
       "      <td>B00ZX1QHYO</td>\n",
       "      <td>Prime_Pantry</td>\n",
       "      <td>Streit's Matzos, Egg and Onion, 11 oz</td>\n",
       "      <td>Streit's Matzos, Egg and Onion, 11 oz</td>\n",
       "      <td>[-0.001863841898739338, -0.0476984977722168, -...</td>\n",
       "    </tr>\n",
       "    <tr>\n",
       "      <th>3</th>\n",
       "      <td>B0105MIRIE</td>\n",
       "      <td>Prime_Pantry</td>\n",
       "      <td>Kashi, Breakfast Cereal, Organic Indigo Mornin...</td>\n",
       "      <td>Kashi, Breakfast Cereal, Organic Indigo Mornin...</td>\n",
       "      <td>[0.03369826450943947, -0.0232285987585783, -0....</td>\n",
       "    </tr>\n",
       "    <tr>\n",
       "      <th>4</th>\n",
       "      <td>B00UQPPD24</td>\n",
       "      <td>Prime_Pantry</td>\n",
       "      <td>Kool-Aid Flavored Drink Mix, Sugar Sweetened O...</td>\n",
       "      <td>Kool-Aid Flavored Drink Mix, Sugar Sweetened O...</td>\n",
       "      <td>[-0.009082681499421597, -0.05855241045355797, ...</td>\n",
       "    </tr>\n",
       "    <tr>\n",
       "      <th>5</th>\n",
       "      <td>B000VA2ZFM</td>\n",
       "      <td>Prime_Pantry</td>\n",
       "      <td>Ortega Green Chiles, Mild Whole Chiles, 4 Ounce</td>\n",
       "      <td>Ortega Green Chiles, Mild Whole Chiles, 4 Ounce</td>\n",
       "      <td>[0.010509694926440716, -0.024475159123539925, ...</td>\n",
       "    </tr>\n",
       "    <tr>\n",
       "      <th>6</th>\n",
       "      <td>B016LO9BQW</td>\n",
       "      <td>Prime_Pantry</td>\n",
       "      <td>NUTRO Senior Chicken, Whole Brown Rice and Oat...</td>\n",
       "      <td>NUTRO Senior Chicken, Whole Brown Rice and Oat...</td>\n",
       "      <td>[0.021382147446274757, -0.025307850912213326, ...</td>\n",
       "    </tr>\n",
       "    <tr>\n",
       "      <th>7</th>\n",
       "      <td>B014CZ4ADG</td>\n",
       "      <td>Prime_Pantry</td>\n",
       "      <td>Hime Seaweed Sushi Nori, 1 Ounce</td>\n",
       "      <td>Hime Seaweed Sushi Nori, 1 Ounce</td>\n",
       "      <td>[0.0018205390078946948, -0.04342801123857498, ...</td>\n",
       "    </tr>\n",
       "    <tr>\n",
       "      <th>8</th>\n",
       "      <td>B010HKIP4K</td>\n",
       "      <td>Prime_Pantry</td>\n",
       "      <td>KISSES Holiday Milk Chocolates, 36 Ounce</td>\n",
       "      <td>KISSES Holiday Milk Chocolates, 36 Ounce</td>\n",
       "      <td>[0.04144248738884926, -0.01052949856966734, -0...</td>\n",
       "    </tr>\n",
       "    <tr>\n",
       "      <th>9</th>\n",
       "      <td>B01FUD39Y0</td>\n",
       "      <td>Prime_Pantry</td>\n",
       "      <td>Beanitos White Bean Sweet Chili &amp;amp; Sour Cre...</td>\n",
       "      <td>Beanitos White Bean Sweet Chili &amp;amp; Sour Cre...</td>\n",
       "      <td>[0.052284348756074905, -0.007212603930383921, ...</td>\n",
       "    </tr>\n",
       "  </tbody>\n",
       "</table>\n",
       "</div>"
      ],
      "text/plain": [
       "         asin      category  \\\n",
       "0  B01936EMBO  Prime_Pantry   \n",
       "1  B00IAE94BY  Prime_Pantry   \n",
       "2  B00ZX1QHYO  Prime_Pantry   \n",
       "3  B0105MIRIE  Prime_Pantry   \n",
       "4  B00UQPPD24  Prime_Pantry   \n",
       "5  B000VA2ZFM  Prime_Pantry   \n",
       "6  B016LO9BQW  Prime_Pantry   \n",
       "7  B014CZ4ADG  Prime_Pantry   \n",
       "8  B010HKIP4K  Prime_Pantry   \n",
       "9  B01FUD39Y0  Prime_Pantry   \n",
       "\n",
       "                                               title  \\\n",
       "0             KIT KAT Chocolate Candy Bar, 4.5 Ounce   \n",
       "1  Post Shredded Wheat Original Breakfast Cereal,...   \n",
       "2              Streit's Matzos, Egg and Onion, 11 oz   \n",
       "3  Kashi, Breakfast Cereal, Organic Indigo Mornin...   \n",
       "4  Kool-Aid Flavored Drink Mix, Sugar Sweetened O...   \n",
       "5    Ortega Green Chiles, Mild Whole Chiles, 4 Ounce   \n",
       "6  NUTRO Senior Chicken, Whole Brown Rice and Oat...   \n",
       "7                   Hime Seaweed Sushi Nori, 1 Ounce   \n",
       "8           KISSES Holiday Milk Chocolates, 36 Ounce   \n",
       "9  Beanitos White Bean Sweet Chili &amp; Sour Cre...   \n",
       "\n",
       "                      TARGET_ATTRIBUTE_catalog_value  \\\n",
       "0             KIT KAT Chocolate Candy Bar, 4.5 Ounce   \n",
       "1  Post Shredded Wheat Original Breakfast Cereal,...   \n",
       "2              Streit's Matzos, Egg and Onion, 11 oz   \n",
       "3  Kashi, Breakfast Cereal, Organic Indigo Mornin...   \n",
       "4  Kool-Aid Flavored Drink Mix, Sugar Sweetened O...   \n",
       "5    Ortega Green Chiles, Mild Whole Chiles, 4 Ounce   \n",
       "6  NUTRO Senior Chicken, Whole Brown Rice and Oat...   \n",
       "7                   Hime Seaweed Sushi Nori, 1 Ounce   \n",
       "8           KISSES Holiday Milk Chocolates, 36 Ounce   \n",
       "9  Beanitos White Bean Sweet Chili &amp; Sour Cre...   \n",
       "\n",
       "                                      text_embedding  \n",
       "0  [0.03588782250881195, -0.03371730074286461, -0...  \n",
       "1  [0.010123880580067635, -0.03477214649319649, -...  \n",
       "2  [-0.001863841898739338, -0.0476984977722168, -...  \n",
       "3  [0.03369826450943947, -0.0232285987585783, -0....  \n",
       "4  [-0.009082681499421597, -0.05855241045355797, ...  \n",
       "5  [0.010509694926440716, -0.024475159123539925, ...  \n",
       "6  [0.021382147446274757, -0.025307850912213326, ...  \n",
       "7  [0.0018205390078946948, -0.04342801123857498, ...  \n",
       "8  [0.04144248738884926, -0.01052949856966734, -0...  \n",
       "9  [0.052284348756074905, -0.007212603930383921, ...  "
      ]
     },
     "execution_count": 11,
     "metadata": {},
     "output_type": "execute_result"
    }
   ],
   "source": [
    "train_embeddings = detector.load_train(schema_name='test_datasets',\n",
    "                                       table_name='outlier_train_emb',\n",
    "                                       uids=['asin','category','title'], \n",
    "                                       target_attribute='title',\n",
    "                                       embeddings='text_embedding')\n",
    "train_embeddings.head(10)"
   ]
  },
  {
   "cell_type": "code",
   "execution_count": 12,
   "metadata": {},
   "outputs": [],
   "source": [
    "test_embeddings = detector.load_test(schema_name='test_datasets',\n",
    "                                       table_name='sample_data_emb',\n",
    "                                       uids=['asin','category','title'], \n",
    "                                       target_attribute='title',\n",
    "                                       embeddings='text_embedding',\n",
    "                                       exclude_scored='us-gcp-ame-con-52dbb-sbx-1.output.*')"
   ]
  },
  {
   "cell_type": "code",
   "execution_count": 13,
   "metadata": {},
   "outputs": [],
   "source": [
    "odm = detector.train_single_model(train_embeddings)"
   ]
  },
  {
   "cell_type": "code",
   "execution_count": 14,
   "metadata": {},
   "outputs": [
    {
     "data": {
      "text/plain": [
       "array([-0.43313723])"
      ]
     },
     "execution_count": 14,
     "metadata": {},
     "output_type": "execute_result"
    }
   ],
   "source": [
    "odm.score_samples([create_embedding(\"Diet Pepsi, Bottles 16.9 Fl Oz, 6 Count\")])"
   ]
  },
  {
   "cell_type": "code",
   "execution_count": 15,
   "metadata": {},
   "outputs": [
    {
     "data": {
      "text/plain": [
       "array([-0.53284379])"
      ]
     },
     "execution_count": 15,
     "metadata": {},
     "output_type": "execute_result"
    }
   ],
   "source": [
    "odm.score_samples([create_embedding(\"no title available\")])"
   ]
  },
  {
   "cell_type": "code",
   "execution_count": 21,
   "metadata": {},
   "outputs": [
    {
     "data": {
      "text/plain": [
       "0.5349950401529593"
      ]
     },
     "execution_count": 21,
     "metadata": {},
     "output_type": "execute_result"
    }
   ],
   "source": [
    "odm.score_samples([create_embedding(\"Meet Pixel 7a, the Tensor G2 chip makes it fast.\\\n",
    "                                         The Pixel Camera takes amazing photos and video. \\\n",
    "                                         VPN by One protects your online activity.\\\n",
    "                                         Pixel 7a features are rated highest in security.\")])[0]"
   ]
  },
  {
   "cell_type": "code",
   "execution_count": 17,
   "metadata": {},
   "outputs": [
    {
     "data": {
      "text/html": [
       "<div>\n",
       "<style scoped>\n",
       "    .dataframe tbody tr th:only-of-type {\n",
       "        vertical-align: middle;\n",
       "    }\n",
       "\n",
       "    .dataframe tbody tr th {\n",
       "        vertical-align: top;\n",
       "    }\n",
       "\n",
       "    .dataframe thead th {\n",
       "        text-align: right;\n",
       "    }\n",
       "</style>\n",
       "<table border=\"1\" class=\"dataframe\">\n",
       "  <thead>\n",
       "    <tr style=\"text-align: right;\">\n",
       "      <th></th>\n",
       "      <th>asin</th>\n",
       "      <th>category</th>\n",
       "      <th>title</th>\n",
       "      <th>TARGET_ATTRIBUTE_catalog_value</th>\n",
       "      <th>TARGET_ATTRIBUTE_confidence_score</th>\n",
       "      <th>TARGET_ATTRIBUTE_model_value</th>\n",
       "      <th>TARGET_ATTRIBUTE_source_attributes</th>\n",
       "    </tr>\n",
       "  </thead>\n",
       "  <tbody>\n",
       "    <tr>\n",
       "      <th>7</th>\n",
       "      <td>B00T7ATYWO</td>\n",
       "      <td>Prime_Pantry</td>\n",
       "      <td>Brass/Wood Harbor Master Telescope - Floor Sta...</td>\n",
       "      <td>Brass/Wood Harbor Master Telescope - Floor Sta...</td>\n",
       "      <td>0.496422</td>\n",
       "      <td>None</td>\n",
       "      <td>None</td>\n",
       "    </tr>\n",
       "    <tr>\n",
       "      <th>15</th>\n",
       "      <td>B010SI8YJW</td>\n",
       "      <td>Prime_Pantry</td>\n",
       "      <td>error 123842 unable to connect to database</td>\n",
       "      <td>error 123842 unable to connect to database</td>\n",
       "      <td>0.544201</td>\n",
       "      <td>None</td>\n",
       "      <td>None</td>\n",
       "    </tr>\n",
       "  </tbody>\n",
       "</table>\n",
       "</div>"
      ],
      "text/plain": [
       "          asin      category  \\\n",
       "7   B00T7ATYWO  Prime_Pantry   \n",
       "15  B010SI8YJW  Prime_Pantry   \n",
       "\n",
       "                                                title  \\\n",
       "7   Brass/Wood Harbor Master Telescope - Floor Sta...   \n",
       "15         error 123842 unable to connect to database   \n",
       "\n",
       "                       TARGET_ATTRIBUTE_catalog_value  \\\n",
       "7   Brass/Wood Harbor Master Telescope - Floor Sta...   \n",
       "15         error 123842 unable to connect to database   \n",
       "\n",
       "    TARGET_ATTRIBUTE_confidence_score TARGET_ATTRIBUTE_model_value  \\\n",
       "7                            0.496422                         None   \n",
       "15                           0.544201                         None   \n",
       "\n",
       "   TARGET_ATTRIBUTE_source_attributes  \n",
       "7                                None  \n",
       "15                               None  "
      ]
     },
     "execution_count": 17,
     "metadata": {},
     "output_type": "execute_result"
    }
   ],
   "source": [
    "results = detector.check_outliers(train_embeddings, test_embeddings, outlier_threshold=0.48)\n",
    "results.head()"
   ]
  },
  {
   "cell_type": "markdown",
   "metadata": {},
   "source": [
    "#### **Write Outliers to BigQuery:**"
   ]
  },
  {
   "cell_type": "code",
   "execution_count": 18,
   "metadata": {},
   "outputs": [],
   "source": [
    "dqe.write_dqresults(results, \n",
    "                uids=['asin','category','title'], \n",
    "                target_attribute='title', \n",
    "                function_name='outlier_detection', \n",
    "                error_id=30001, \n",
    "                error_code='Accuracy: flagged as outliers', \n",
    "                output_schema='output')"
   ]
  }
 ],
 "metadata": {
  "kernelspec": {
   "display_name": "Python 3",
   "language": "python",
   "name": "python3"
  },
  "language_info": {
   "codemirror_mode": {
    "name": "ipython",
    "version": 3
   },
   "file_extension": ".py",
   "mimetype": "text/x-python",
   "name": "python",
   "nbconvert_exporter": "python",
   "pygments_lexer": "ipython3",
   "version": "3.10.7"
  }
 },
 "nbformat": 4,
 "nbformat_minor": 2
}
