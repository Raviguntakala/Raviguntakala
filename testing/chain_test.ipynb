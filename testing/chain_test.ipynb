{
 "cells": [
  {
   "cell_type": "code",
   "execution_count": null,
   "metadata": {},
   "outputs": [],
   "source": [
    "pip install crewai"
   ]
  },
  {
   "cell_type": "code",
   "execution_count": 21,
   "metadata": {},
   "outputs": [],
   "source": [
    "from langchain import hub\n",
    "from langchain.agents import AgentExecutor, tool\n",
    "from langchain_google_vertexai import VertexAI\n",
    "import json\n",
    "import os\n",
    "from crewai import Agent, Task, Crew, Process"
   ]
  },
  {
   "cell_type": "code",
   "execution_count": 22,
   "metadata": {},
   "outputs": [],
   "source": [
    "#load json file \n",
    "with open('../keys.json') as f:\n",
    "    keys = json.load(f)"
   ]
  },
  {
   "cell_type": "code",
   "execution_count": 23,
   "metadata": {},
   "outputs": [],
   "source": [
    "llm = VertexAI(\n",
    "    model_name='gemini-pro',\n",
    "    temperature=0,\n",
    "    top_k=1,\n",
    ")"
   ]
  },
  {
   "cell_type": "code",
   "execution_count": 24,
   "metadata": {},
   "outputs": [
    {
     "data": {
      "text/plain": [
       "'Hello World!\\n\\nThis is a very common program that is often used to test if a programming language is working properly. It simply prints the message \"Hello World!\" to the console.\\n\\nHere is an example of how to write a \"Hello World!\" program in Python:\\n\\n```python\\nprint(\"Hello World!\")\\n```\\n\\nYou can run this program by opening a terminal window and typing the following command:\\n\\n```\\npython hello_world.py\\n```\\n\\nThis will print the message \"Hello World!\" to the console.\\n\\nHere are some other examples of \"Hello World!\" programs in different programming languages:\\n\\n* **C++:**\\n\\n```c++\\n#include <iostream>\\n\\nint main() {\\n  std::cout << \"Hello World!\" << std::endl;\\n  return 0;\\n}\\n```\\n\\n* **Java:**\\n\\n```java\\npublic class HelloWorld {\\n\\n  public static void main(String[] args) {\\n    System.out.println(\"Hello World!\");\\n  }\\n}\\n```\\n\\n* **JavaScript:**\\n\\n```javascript\\nconsole.log(\"Hello World!\");\\n```\\n\\n* **PHP:**\\n\\n```php\\n<?php\\n  echo \"Hello World!\";\\n?>\\n```\\n\\n* **Ruby:**\\n\\n```ruby\\nputs \"Hello World!\"\\n```\\n\\nThese are just a few examples of how to write a \"Hello World!\" program in different programming languages. The specific syntax will vary depending on the language you are using, but the general idea is the same: print the message \"Hello World!\" to the console.'"
      ]
     },
     "execution_count": 24,
     "metadata": {},
     "output_type": "execute_result"
    }
   ],
   "source": [
    "llm.invoke(\"hello world?\")"
   ]
  },
  {
   "cell_type": "code",
   "execution_count": 27,
   "metadata": {},
   "outputs": [],
   "source": [
    "# Define your agents with roles and goals\n",
    "coder = Agent(\n",
    "  role='coder',\n",
    "  goal='extract the count per pack from the product title and provide it as JSON',\n",
    "  backstory=\"\"\"you are an expert data analyst your job is to extract \"\"\",\n",
    "  verbose=True,\n",
    "  allow_delegation=False,\n",
    "  llm=llm # was defined above in the file\n",
    ")\n",
    "\n",
    "manager = Agent(\n",
    "  role='manager',\n",
    "  goal='review the json provided by the coder and verify that it is correct',\n",
    "  backstory=\"\"\"you are a manager, your coder is going to provide you with a final answer in the form of a json string that should the brand name and the count per pack, review it and if it isn't correct ask the coder to do it again\"\"\",\n",
    "  verbose=True,\n",
    "  allow_delegation=True,\n",
    "  llm=llm\n",
    ")\n",
    "\n",
    "# Create tasks for your agents\n",
    "task1 = Task(\n",
    "  description=\"\"\"extract the json from this product title\n",
    "  product title: coca cola 12 oz cans (6 pack). you do not need a tool\"\"\",\n",
    "  agent=coder\n",
    ")\n",
    "\n",
    "task2 = Task(\n",
    "  description=\"\"\"review the final answer provided by the coder, if is incorrect ask the coder to redo it\"\"\",\n",
    "  agent=manager\n",
    ")\n",
    "\n",
    "# Instantiate your crew with a sequential process\n",
    "tech_crew = Crew(\n",
    "  agents=[coder, manager],\n",
    "  tasks=[task1 , task2],\n",
    "  process=Process.sequential  # Tasks will be executed one after the other\n",
    ")"
   ]
  },
  {
   "cell_type": "code",
   "execution_count": 28,
   "metadata": {},
   "outputs": [
    {
     "name": "stdout",
     "output_type": "stream",
     "text": [
      "\n",
      "\n",
      "\u001b[1m> Entering new CrewAgentExecutor chain...\u001b[0m\n",
      "\u001b[32;1m\u001b[1;3mThought: Do I need to use a tool? No\n",
      "Final Answer: {\n",
      "  \"countPerPack\": 6\n",
      "}\u001b[0m\n",
      "\n",
      "\u001b[1m> Finished chain.\u001b[0m\n",
      "\n",
      "\n",
      "\u001b[1m> Entering new CrewAgentExecutor chain...\u001b[0m\n",
      "\u001b[32;1m\u001b[1;3mThought: Do I need to use a tool? No\n",
      "Final Answer: The json string is incomplete. It should include the brand name. Please provide the complete json string.\u001b[0m\n",
      "\n",
      "\u001b[1m> Finished chain.\u001b[0m\n"
     ]
    },
    {
     "data": {
      "text/plain": [
       "'The json string is incomplete. It should include the brand name. Please provide the complete json string.'"
      ]
     },
     "execution_count": 28,
     "metadata": {},
     "output_type": "execute_result"
    }
   ],
   "source": [
    "tech_crew.kickoff()"
   ]
  },
  {
   "cell_type": "code",
   "execution_count": null,
   "metadata": {},
   "outputs": [],
   "source": []
  }
 ],
 "metadata": {
  "kernelspec": {
   "display_name": "Python 3",
   "language": "python",
   "name": "python3"
  },
  "language_info": {
   "codemirror_mode": {
    "name": "ipython",
    "version": 3
   },
   "file_extension": ".py",
   "mimetype": "text/x-python",
   "name": "python",
   "nbconvert_exporter": "python",
   "pygments_lexer": "ipython3",
   "version": "3.10.7"
  }
 },
 "nbformat": 4,
 "nbformat_minor": 2
}
