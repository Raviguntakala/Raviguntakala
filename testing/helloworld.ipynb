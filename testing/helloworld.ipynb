{
 "cells": [
  {
   "cell_type": "code",
   "execution_count": 1,
   "metadata": {},
   "outputs": [
    {
     "name": "stderr",
     "output_type": "stream",
     "text": [
      "/home/user/.local/lib/python3.10/site-packages/tqdm/auto.py:21: TqdmWarning: IProgress not found. Please update jupyter and ipywidgets. See https://ipywidgets.readthedocs.io/en/stable/user_install.html\n",
      "  from .autonotebook import tqdm as notebook_tqdm\n"
     ]
    }
   ],
   "source": [
    "import pandas as pd\n",
    "import json\n",
    "import mapply\n",
    "import re\n",
    "\n",
    "mapply.init(\n",
    "    n_workers=-1,\n",
    "    chunk_size=1000,\n",
    "    max_chunks_per_worker=0,\n",
    "    progressbar=True\n",
    ")"
   ]
  },
  {
   "cell_type": "code",
   "execution_count": 2,
   "metadata": {},
   "outputs": [
    {
     "name": "stdout",
     "output_type": "stream",
     "text": [
      "hello world\n"
     ]
    }
   ],
   "source": [
    "print('hello world')"
   ]
  },
  {
   "cell_type": "code",
   "execution_count": 5,
   "metadata": {},
   "outputs": [
    {
     "name": "stdout",
     "output_type": "stream",
     "text": [
      "/home/user/itemdataquality/itemdataqualityrepo\n"
     ]
    }
   ],
   "source": [
    "!pwd"
   ]
  },
  {
   "cell_type": "code",
   "execution_count": 4,
   "metadata": {},
   "outputs": [
    {
     "name": "stdout",
     "output_type": "stream",
     "text": [
      "/home/user/itemdataquality/itemdataqualityrepo\n"
     ]
    },
    {
     "name": "stderr",
     "output_type": "stream",
     "text": [
      "/home/user/.local/lib/python3.10/site-packages/IPython/core/magics/osm.py:417: UserWarning: using dhist requires you to install the `pickleshare` library.\n",
      "  self.shell.db['dhist'] = compress_dhist(dhist)[-100:]\n"
     ]
    }
   ],
   "source": [
    "%cd .."
   ]
  },
  {
   "cell_type": "code",
   "execution_count": 7,
   "metadata": {},
   "outputs": [
    {
     "name": "stdout",
     "output_type": "stream",
     "text": [
      "/home/user/itemdataquality\n",
      "/home/user/itemdataquality/data\n"
     ]
    }
   ],
   "source": [
    "%cd ..\n",
    "%cd data"
   ]
  },
  {
   "cell_type": "code",
   "execution_count": 8,
   "metadata": {},
   "outputs": [
    {
     "name": "stdout",
     "output_type": "stream",
     "text": [
      "  % Total    % Received % Xferd  Average Speed   Time    Time     Time  Current\n",
      "                                 Dload  Upload   Total   Spent    Left  Speed\n",
      "100 5157k  100 5157k    0     0  5743k      0 --:--:-- --:--:-- --:--:-- 5737k\n"
     ]
    }
   ],
   "source": [
    "!curl https://datarepo.eng.ucsd.edu/mcauley_group/data/amazon_v2/metaFiles2/meta_Prime_Pantry.json.gz --output ../data/meta_Prime_Pantry.json.gz"
   ]
  },
  {
   "cell_type": "code",
   "execution_count": 9,
   "metadata": {},
   "outputs": [],
   "source": [
    "!gzip -d meta_Prime_Pantry.json.gz"
   ]
  },
  {
   "cell_type": "code",
   "execution_count": 12,
   "metadata": {},
   "outputs": [],
   "source": [
    "with open('meta_Prime_Pantry.json') as f:\n",
    "    data = [json.loads(line) for line in f]"
   ]
  },
  {
   "cell_type": "code",
   "execution_count": 13,
   "metadata": {},
   "outputs": [
    {
     "data": {
      "text/plain": [
       "{'category': [],\n",
       " 'tech1': '',\n",
       " 'description': ['Sink your sweet tooth into MILK DUDS Candya delicious blend of smooth milk chocolate and chewy caramel. These bite-sized candies are perfect for popping whether youre at home, on the go, or watching movies with friends. Stock up and always have a mouthwatering treat within reach.'],\n",
       " 'fit': '',\n",
       " 'title': \"HERSHEY'S Milk Duds Candy, 5 Ounce(Halloween Candy)\",\n",
       " 'also_buy': ['B019KE37WO', 'B007NQSWEU'],\n",
       " 'tech2': '',\n",
       " 'brand': 'Milk Duds',\n",
       " 'feature': [],\n",
       " 'rank': [],\n",
       " 'also_view': [],\n",
       " 'details': {'ASIN: ': 'B00005BPJO', 'Item model number:': '1070002152'},\n",
       " 'main_cat': '<img src=\"https://m.media-amazon.com/images/G/01/pantry/subnav/pantry-subnav-logo._CB474181323_.png\" class=\"nav-categ-image\" alt=\"Prime Pantry\"/>',\n",
       " 'similar_item': '',\n",
       " 'date': '',\n",
       " 'price': '$5.00',\n",
       " 'asin': 'B00005BPJO',\n",
       " 'imageURL': ['https://images-na.ssl-images-amazon.com/images/I/51v07pI0ruL._SS40_.jpg',\n",
       "  'https://images-na.ssl-images-amazon.com/images/I/31MiXt54ZZL._SS40_.jpg',\n",
       "  'https://images-na.ssl-images-amazon.com/images/I/51CZVT-A-dL._SS40_.jpg',\n",
       "  'https://images-na.ssl-images-amazon.com/images/I/51O32QwTXjL._SS40_.jpg'],\n",
       " 'imageURLHighRes': ['https://images-na.ssl-images-amazon.com/images/I/51v07pI0ruL.jpg',\n",
       "  'https://images-na.ssl-images-amazon.com/images/I/31MiXt54ZZL.jpg',\n",
       "  'https://images-na.ssl-images-amazon.com/images/I/51CZVT-A-dL.jpg',\n",
       "  'https://images-na.ssl-images-amazon.com/images/I/51O32QwTXjL.jpg']}"
      ]
     },
     "execution_count": 13,
     "metadata": {},
     "output_type": "execute_result"
    }
   ],
   "source": [
    "data[0]"
   ]
  },
  {
   "cell_type": "code",
   "execution_count": 104,
   "metadata": {},
   "outputs": [],
   "source": [
    "df = pd.read_json('meta_Luxury_Beauty.json',lines=True)"
   ]
  },
  {
   "cell_type": "code",
   "execution_count": 105,
   "metadata": {},
   "outputs": [],
   "source": [
    "df = df.drop(['category','tech1','fit','tech2','similar_item','date','also_view','also_buy','imageURL','imageURLHighRes'],axis=1)"
   ]
  },
  {
   "cell_type": "code",
   "execution_count": 106,
   "metadata": {},
   "outputs": [
    {
     "name": "stderr",
     "output_type": "stream",
     "text": [
      "/home/user/.local/lib/python3.10/site-packages/numpy/core/fromnumeric.py:59: FutureWarning: 'Series.swapaxes' is deprecated and will be removed in a future version. Please use 'Series.transpose' instead.\n",
      "  return bound(*args, **kwds)\n",
      "100%|██████████| 12/12 [00:00<00:00, 23.35it/s]\n"
     ]
    }
   ],
   "source": [
    "df['description'] = df['description'].mapply(lambda x: '; '.join(x) if x is not None and isinstance(x, list) else x)"
   ]
  },
  {
   "cell_type": "code",
   "execution_count": 107,
   "metadata": {},
   "outputs": [],
   "source": [
    "def extract_dims(x):\n",
    "    try:\n",
    "        dims=x['\\n    Product Dimensions: \\n    '].split(';')[0].strip()\n",
    "        return dims\n",
    "    except:\n",
    "        return None"
   ]
  },
  {
   "cell_type": "code",
   "execution_count": 108,
   "metadata": {},
   "outputs": [],
   "source": [
    "def extract_weight(x):\n",
    "    try:\n",
    "        weight=x['\\n    Product Dimensions: \\n    '].split(';')[1].strip()\n",
    "        return weight\n",
    "    except:\n",
    "        return None"
   ]
  },
  {
   "cell_type": "code",
   "execution_count": 109,
   "metadata": {},
   "outputs": [
    {
     "name": "stderr",
     "output_type": "stream",
     "text": [
      "/home/user/.local/lib/python3.10/site-packages/numpy/core/fromnumeric.py:59: FutureWarning: 'Series.swapaxes' is deprecated and will be removed in a future version. Please use 'Series.transpose' instead.\n",
      "  return bound(*args, **kwds)\n"
     ]
    },
    {
     "name": "stderr",
     "output_type": "stream",
     "text": [
      "100%|██████████| 12/12 [00:00<00:00, 14.31it/s]\n",
      "/home/user/.local/lib/python3.10/site-packages/numpy/core/fromnumeric.py:59: FutureWarning: 'Series.swapaxes' is deprecated and will be removed in a future version. Please use 'Series.transpose' instead.\n",
      "  return bound(*args, **kwds)\n",
      "100%|██████████| 12/12 [00:00<00:00, 14.96it/s]\n"
     ]
    }
   ],
   "source": [
    "df['product_dims'] = df['details'].mapply(lambda x: extract_dims(x))\n",
    "df['product_weight'] = df['details'].mapply(lambda x: extract_weight(x))"
   ]
  },
  {
   "cell_type": "code",
   "execution_count": 114,
   "metadata": {},
   "outputs": [
    {
     "name": "stderr",
     "output_type": "stream",
     "text": [
      "/home/user/.local/lib/python3.10/site-packages/numpy/core/fromnumeric.py:59: FutureWarning: 'Series.swapaxes' is deprecated and will be removed in a future version. Please use 'Series.transpose' instead.\n",
      "  return bound(*args, **kwds)\n",
      "100%|██████████| 12/12 [00:00<00:00, 102.45it/s]\n"
     ]
    }
   ],
   "source": [
    "df['rank'] = df['rank'].mapply(lambda x: re.sub('[^a-zA-Z0-9&, ]|amp', '', x) if x is not None and isinstance(x, str) else x)"
   ]
  },
  {
   "cell_type": "code",
   "execution_count": 112,
   "metadata": {},
   "outputs": [],
   "source": [
    "df = df[['asin','main_cat','title','description', 'brand',\n",
    "        'price','product_dims', 'product_weight','details','feature','rank']]"
   ]
  },
  {
   "cell_type": "code",
   "execution_count": 116,
   "metadata": {},
   "outputs": [],
   "source": [
    "df.to_csv('lux_beauty.csv',index=False)"
   ]
  },
  {
   "cell_type": "code",
   "execution_count": 117,
   "metadata": {},
   "outputs": [
    {
     "data": {
      "text/html": [
       "<div>\n",
       "<style scoped>\n",
       "    .dataframe tbody tr th:only-of-type {\n",
       "        vertical-align: middle;\n",
       "    }\n",
       "\n",
       "    .dataframe tbody tr th {\n",
       "        vertical-align: top;\n",
       "    }\n",
       "\n",
       "    .dataframe thead th {\n",
       "        text-align: right;\n",
       "    }\n",
       "</style>\n",
       "<table border=\"1\" class=\"dataframe\">\n",
       "  <thead>\n",
       "    <tr style=\"text-align: right;\">\n",
       "      <th></th>\n",
       "      <th>asin</th>\n",
       "      <th>main_cat</th>\n",
       "      <th>title</th>\n",
       "      <th>description</th>\n",
       "      <th>brand</th>\n",
       "      <th>price</th>\n",
       "      <th>product_dims</th>\n",
       "      <th>product_weight</th>\n",
       "      <th>details</th>\n",
       "      <th>feature</th>\n",
       "      <th>rank</th>\n",
       "    </tr>\n",
       "  </thead>\n",
       "  <tbody>\n",
       "    <tr>\n",
       "      <th>0</th>\n",
       "      <td>B00004U9V2</td>\n",
       "      <td>Luxury Beauty</td>\n",
       "      <td>Crabtree &amp;amp; Evelyn - Gardener's Ultra-Moist...</td>\n",
       "      <td>After a long day of handling thorny situations...</td>\n",
       "      <td></td>\n",
       "      <td>$30.00</td>\n",
       "      <td>2.2 x 2.2 x 7 inches</td>\n",
       "      <td>8.8 ounces</td>\n",
       "      <td>{'\n",
       "    Product Dimensions: \n",
       "    ': '2.2 x 2.2 ...</td>\n",
       "      <td>[]</td>\n",
       "      <td>4,324 in Beauty &amp; Personal Care</td>\n",
       "    </tr>\n",
       "    <tr>\n",
       "      <th>1</th>\n",
       "      <td>B0000531EN</td>\n",
       "      <td>Luxury Beauty</td>\n",
       "      <td>AHAVA Bath Salts</td>\n",
       "      <td>If you haven't experienced the pleasures of ba...</td>\n",
       "      <td></td>\n",
       "      <td></td>\n",
       "      <td>3 x 3.5 x 6 inches</td>\n",
       "      <td>2.2 pounds</td>\n",
       "      <td>{'\n",
       "    Product Dimensions: \n",
       "    ': '3 x 3.5 x ...</td>\n",
       "      <td>[]</td>\n",
       "      <td>1,633,549 in Beauty &amp; Personal Care</td>\n",
       "    </tr>\n",
       "    <tr>\n",
       "      <th>2</th>\n",
       "      <td>B0000532JH</td>\n",
       "      <td>Luxury Beauty</td>\n",
       "      <td>AHAVA Dead Sea Mineral Mud, 8.5 oz, Pack of 4</td>\n",
       "      <td>Rich, black mineral mud, harvested from the ba...</td>\n",
       "      <td></td>\n",
       "      <td></td>\n",
       "      <td>5.1 x 3 x 5.5 inches</td>\n",
       "      <td>2.48 pounds</td>\n",
       "      <td>{'\n",
       "    Product Dimensions: \n",
       "    ': '5.1 x 3 x ...</td>\n",
       "      <td>[]</td>\n",
       "      <td>1,806,710 in Beauty &amp; Personal Care</td>\n",
       "    </tr>\n",
       "    <tr>\n",
       "      <th>3</th>\n",
       "      <td>B00005A77F</td>\n",
       "      <td>Luxury Beauty</td>\n",
       "      <td>Crabtree &amp;amp; Evelyn Hand Soap, Gardeners, 10...</td>\n",
       "      <td>This liquid soap with convenient pump dispense...</td>\n",
       "      <td></td>\n",
       "      <td>$15.99</td>\n",
       "      <td>2.6 x 2.6 x 6.7 inches</td>\n",
       "      <td>1.5 pounds</td>\n",
       "      <td>{'\n",
       "    Product Dimensions: \n",
       "    ': '2.6 x 2.6 ...</td>\n",
       "      <td>[]</td>\n",
       "      <td>[]</td>\n",
       "    </tr>\n",
       "    <tr>\n",
       "      <th>4</th>\n",
       "      <td>B00005NDTD</td>\n",
       "      <td>Luxury Beauty</td>\n",
       "      <td>Soy Milk Hand Crme</td>\n",
       "      <td>Remember why you love your favorite blanket? T...</td>\n",
       "      <td></td>\n",
       "      <td>$18.00</td>\n",
       "      <td>7.2 x 2.2 x 7.2 inches</td>\n",
       "      <td>4 ounces</td>\n",
       "      <td>{'\n",
       "    Product Dimensions: \n",
       "    ': '7.2 x 2.2 ...</td>\n",
       "      <td>[]</td>\n",
       "      <td>42,464 in Beauty &amp; Personal Care</td>\n",
       "    </tr>\n",
       "    <tr>\n",
       "      <th>...</th>\n",
       "      <td>...</td>\n",
       "      <td>...</td>\n",
       "      <td>...</td>\n",
       "      <td>...</td>\n",
       "      <td>...</td>\n",
       "      <td>...</td>\n",
       "      <td>...</td>\n",
       "      <td>...</td>\n",
       "      <td>...</td>\n",
       "      <td>...</td>\n",
       "      <td>...</td>\n",
       "    </tr>\n",
       "    <tr>\n",
       "      <th>12294</th>\n",
       "      <td>B01HIQIEYC</td>\n",
       "      <td>Luxury Beauty</td>\n",
       "      <td>CND Shellac Power Polish, Patina Buckle</td>\n",
       "      <td>; CND Craft Culture Collection: Patina Buckle;...</td>\n",
       "      <td></td>\n",
       "      <td>$15.95</td>\n",
       "      <td>None</td>\n",
       "      <td>None</td>\n",
       "      <td>{'\n",
       "    Item Weight: \n",
       "    ': '0.48 ounces', 'Sh...</td>\n",
       "      <td>[]</td>\n",
       "      <td>88,740 in Beauty &amp; Personal Care</td>\n",
       "    </tr>\n",
       "    <tr>\n",
       "      <th>12295</th>\n",
       "      <td>B01HIQHQU0</td>\n",
       "      <td>Luxury Beauty</td>\n",
       "      <td>CND Shellac power polish denim patch</td>\n",
       "      <td>CND Shellac was designed to be used as a syste...</td>\n",
       "      <td></td>\n",
       "      <td>$15.95</td>\n",
       "      <td>None</td>\n",
       "      <td>None</td>\n",
       "      <td>{'Shipping Weight:': '1.4 ounces (', 'ASIN:': ...</td>\n",
       "      <td>[]</td>\n",
       "      <td>122,331 in Beauty &amp; Personal Care</td>\n",
       "    </tr>\n",
       "    <tr>\n",
       "      <th>12296</th>\n",
       "      <td>B01HIQEOLO</td>\n",
       "      <td>Luxury Beauty</td>\n",
       "      <td>CND Shellac, Leather Satchel</td>\n",
       "      <td>CND Shellac was designed to be used as a syste...</td>\n",
       "      <td></td>\n",
       "      <td>$15.95</td>\n",
       "      <td>None</td>\n",
       "      <td>None</td>\n",
       "      <td>{'Shipping Weight:': '1.4 ounces (', 'Domestic...</td>\n",
       "      <td>[]</td>\n",
       "      <td>168,028 in Beauty &amp; Personal Care</td>\n",
       "    </tr>\n",
       "    <tr>\n",
       "      <th>12297</th>\n",
       "      <td>B01HJ2UY0W</td>\n",
       "      <td>Luxury Beauty</td>\n",
       "      <td>Juicy Couture I Love Juicy Couture, 1.7 fl. Oz...</td>\n",
       "      <td>The I AM JUICY COUTURE girl is once again taki...</td>\n",
       "      <td></td>\n",
       "      <td>$76.00</td>\n",
       "      <td>3.3 x 2.7 x 4.6 inches</td>\n",
       "      <td>None</td>\n",
       "      <td>{'\n",
       "    Product Dimensions: \n",
       "    ': '3.3 x 2.7 ...</td>\n",
       "      <td>[]</td>\n",
       "      <td>490,755 in Beauty &amp; Personal Care</td>\n",
       "    </tr>\n",
       "    <tr>\n",
       "      <th>12298</th>\n",
       "      <td>B01HJ2UY1G</td>\n",
       "      <td>Luxury Beauty</td>\n",
       "      <td>Juicy Couture I Love Juicy Couture, 3.4 fl. Oz...</td>\n",
       "      <td>I Love Juicy Couture Eau De Parfum Spray 3.4 O...</td>\n",
       "      <td></td>\n",
       "      <td>$96.00</td>\n",
       "      <td>3.3 x 3.2 x 5.1 inches</td>\n",
       "      <td>13.8 ounces</td>\n",
       "      <td>{'\n",
       "    Product Dimensions: \n",
       "    ': '3.3 x 3.2 ...</td>\n",
       "      <td>[]</td>\n",
       "      <td>181,383 in Beauty &amp; Personal Care</td>\n",
       "    </tr>\n",
       "  </tbody>\n",
       "</table>\n",
       "<p>12299 rows × 11 columns</p>\n",
       "</div>"
      ],
      "text/plain": [
       "             asin       main_cat  \\\n",
       "0      B00004U9V2  Luxury Beauty   \n",
       "1      B0000531EN  Luxury Beauty   \n",
       "2      B0000532JH  Luxury Beauty   \n",
       "3      B00005A77F  Luxury Beauty   \n",
       "4      B00005NDTD  Luxury Beauty   \n",
       "...           ...            ...   \n",
       "12294  B01HIQIEYC  Luxury Beauty   \n",
       "12295  B01HIQHQU0  Luxury Beauty   \n",
       "12296  B01HIQEOLO  Luxury Beauty   \n",
       "12297  B01HJ2UY0W  Luxury Beauty   \n",
       "12298  B01HJ2UY1G  Luxury Beauty   \n",
       "\n",
       "                                                   title  \\\n",
       "0      Crabtree &amp; Evelyn - Gardener's Ultra-Moist...   \n",
       "1                                       AHAVA Bath Salts   \n",
       "2          AHAVA Dead Sea Mineral Mud, 8.5 oz, Pack of 4   \n",
       "3      Crabtree &amp; Evelyn Hand Soap, Gardeners, 10...   \n",
       "4                                     Soy Milk Hand Crme   \n",
       "...                                                  ...   \n",
       "12294            CND Shellac Power Polish, Patina Buckle   \n",
       "12295               CND Shellac power polish denim patch   \n",
       "12296                       CND Shellac, Leather Satchel   \n",
       "12297  Juicy Couture I Love Juicy Couture, 1.7 fl. Oz...   \n",
       "12298  Juicy Couture I Love Juicy Couture, 3.4 fl. Oz...   \n",
       "\n",
       "                                             description brand   price  \\\n",
       "0      After a long day of handling thorny situations...        $30.00   \n",
       "1      If you haven't experienced the pleasures of ba...                 \n",
       "2      Rich, black mineral mud, harvested from the ba...                 \n",
       "3      This liquid soap with convenient pump dispense...        $15.99   \n",
       "4      Remember why you love your favorite blanket? T...        $18.00   \n",
       "...                                                  ...   ...     ...   \n",
       "12294  ; CND Craft Culture Collection: Patina Buckle;...        $15.95   \n",
       "12295  CND Shellac was designed to be used as a syste...        $15.95   \n",
       "12296  CND Shellac was designed to be used as a syste...        $15.95   \n",
       "12297  The I AM JUICY COUTURE girl is once again taki...        $76.00   \n",
       "12298  I Love Juicy Couture Eau De Parfum Spray 3.4 O...        $96.00   \n",
       "\n",
       "                 product_dims product_weight  \\\n",
       "0        2.2 x 2.2 x 7 inches     8.8 ounces   \n",
       "1          3 x 3.5 x 6 inches     2.2 pounds   \n",
       "2        5.1 x 3 x 5.5 inches    2.48 pounds   \n",
       "3      2.6 x 2.6 x 6.7 inches     1.5 pounds   \n",
       "4      7.2 x 2.2 x 7.2 inches       4 ounces   \n",
       "...                       ...            ...   \n",
       "12294                    None           None   \n",
       "12295                    None           None   \n",
       "12296                    None           None   \n",
       "12297  3.3 x 2.7 x 4.6 inches           None   \n",
       "12298  3.3 x 3.2 x 5.1 inches    13.8 ounces   \n",
       "\n",
       "                                                 details feature  \\\n",
       "0      {'\n",
       "    Product Dimensions: \n",
       "    ': '2.2 x 2.2 ...      []   \n",
       "1      {'\n",
       "    Product Dimensions: \n",
       "    ': '3 x 3.5 x ...      []   \n",
       "2      {'\n",
       "    Product Dimensions: \n",
       "    ': '5.1 x 3 x ...      []   \n",
       "3      {'\n",
       "    Product Dimensions: \n",
       "    ': '2.6 x 2.6 ...      []   \n",
       "4      {'\n",
       "    Product Dimensions: \n",
       "    ': '7.2 x 2.2 ...      []   \n",
       "...                                                  ...     ...   \n",
       "12294  {'\n",
       "    Item Weight: \n",
       "    ': '0.48 ounces', 'Sh...      []   \n",
       "12295  {'Shipping Weight:': '1.4 ounces (', 'ASIN:': ...      []   \n",
       "12296  {'Shipping Weight:': '1.4 ounces (', 'Domestic...      []   \n",
       "12297  {'\n",
       "    Product Dimensions: \n",
       "    ': '3.3 x 2.7 ...      []   \n",
       "12298  {'\n",
       "    Product Dimensions: \n",
       "    ': '3.3 x 3.2 ...      []   \n",
       "\n",
       "                                       rank  \n",
       "0          4,324 in Beauty & Personal Care   \n",
       "1      1,633,549 in Beauty & Personal Care   \n",
       "2      1,806,710 in Beauty & Personal Care   \n",
       "3                                        []  \n",
       "4         42,464 in Beauty & Personal Care   \n",
       "...                                     ...  \n",
       "12294     88,740 in Beauty & Personal Care   \n",
       "12295    122,331 in Beauty & Personal Care   \n",
       "12296    168,028 in Beauty & Personal Care   \n",
       "12297    490,755 in Beauty & Personal Care   \n",
       "12298    181,383 in Beauty & Personal Care   \n",
       "\n",
       "[12299 rows x 11 columns]"
      ]
     },
     "execution_count": 117,
     "metadata": {},
     "output_type": "execute_result"
    }
   ],
   "source": [
    "df"
   ]
  },
  {
   "cell_type": "code",
   "execution_count": null,
   "metadata": {},
   "outputs": [],
   "source": []
  }
 ],
 "metadata": {
  "kernelspec": {
   "display_name": "Python 3",
   "language": "python",
   "name": "python3"
  },
  "language_info": {
   "codemirror_mode": {
    "name": "ipython",
    "version": 3
   },
   "file_extension": ".py",
   "mimetype": "text/x-python",
   "name": "python",
   "nbconvert_exporter": "python",
   "pygments_lexer": "ipython3",
   "version": "3.10.7"
  }
 },
 "nbformat": 4,
 "nbformat_minor": 2
}
