{
 "cells": [
  {
   "cell_type": "code",
   "execution_count": 1,
   "metadata": {},
   "outputs": [
    {
     "name": "stderr",
     "output_type": "stream",
     "text": [
      "/home/user/.local/lib/python3.10/site-packages/tqdm/auto.py:21: TqdmWarning: IProgress not found. Please update jupyter and ipywidgets. See https://ipywidgets.readthedocs.io/en/stable/user_install.html\n",
      "  from .autonotebook import tqdm as notebook_tqdm\n"
     ]
    }
   ],
   "source": [
    "import pandas as pd\n",
    "import json\n",
    "import mapply\n",
    "import re\n",
    "pd.set_option('display.max_colwidth', None)  # Set maximum width to terminal width\n",
    "pd.set_option('display.expand_frame_repr', True)  # Expand DataFrame representation\n",
    "mapply.init(\n",
    "    n_workers=-1,\n",
    "    chunk_size=1000,\n",
    "    max_chunks_per_worker=0,\n",
    "    progressbar=True\n",
    ")"
   ]
  },
  {
   "cell_type": "code",
   "execution_count": 22,
   "metadata": {},
   "outputs": [],
   "source": [
    "# Set the path to your  JSON file\n",
    "json_file_path = \"/home/user/ItemDataQuality/data/meta_All_Beauty.json\"\n",
    "\n",
    "#load file\n",
    "df = pd.read_json(json_file_path,lines=True)\n",
    "\n",
    "# # or load in chunks if needed\n",
    "# # Define the chunk size (adjust as needed)\n",
    "# chunk_size = 10000\n",
    "\n",
    "# # Initialize an empty list and Append the  chunk to the list\n",
    "# chunk_dataframes = [chunk for chunk in pd.read_json(json_file_path, lines=True, chunksize=chunk_size) ]\n",
    "\n",
    "# # Concatenate all cleaned chunks into a single DataFrame\n",
    "# df = pd.concat(chunk_dataframes, ignore_index=True)"
   ]
  },
  {
   "cell_type": "code",
   "execution_count": 23,
   "metadata": {},
   "outputs": [
    {
     "data": {
      "text/plain": [
       "(32892, 19)"
      ]
     },
     "execution_count": 23,
     "metadata": {},
     "output_type": "execute_result"
    }
   ],
   "source": [
    "df.shape"
   ]
  },
  {
   "cell_type": "code",
   "execution_count": 25,
   "metadata": {},
   "outputs": [],
   "source": [
    "df = df.drop(['category','tech1','fit','tech2','similar_item','date','also_view','also_buy'],axis=1)"
   ]
  },
  {
   "cell_type": "code",
   "execution_count": 26,
   "metadata": {},
   "outputs": [
    {
     "name": "stderr",
     "output_type": "stream",
     "text": [
      "/tmp/ipykernel_6724/2736066085.py:1: FutureWarning: DataFrame.applymap has been deprecated. Use DataFrame.map instead.\n",
      "  df = df.applymap(lambda x: '; '.join(map(str, x)) if x is not None and isinstance(x, list) else x)\n"
     ]
    }
   ],
   "source": [
    "df = df.applymap(lambda x: '; '.join(map(str, x)) if x is not None and isinstance(x, list) else x)"
   ]
  },
  {
   "cell_type": "code",
   "execution_count": 27,
   "metadata": {},
   "outputs": [
    {
     "name": "stderr",
     "output_type": "stream",
     "text": [
      "/home/user/.local/lib/python3.10/site-packages/numpy/core/fromnumeric.py:59: FutureWarning: 'Series.swapaxes' is deprecated and will be removed in a future version. Please use 'Series.transpose' instead.\n",
      "  return bound(*args, **kwds)\n",
      "100%|██████████| 32/32 [00:00<00:00, 57.56it/s]\n"
     ]
    }
   ],
   "source": [
    "df['rank'] = df['rank'].mapply(lambda x: re.sub('[^a-zA-Z0-9&, ]|amp', '', x) if x is not None and isinstance(x, str) else x)"
   ]
  },
  {
   "cell_type": "code",
   "execution_count": 28,
   "metadata": {},
   "outputs": [
    {
     "data": {
      "text/html": [
       "<div>\n",
       "<style scoped>\n",
       "    .dataframe tbody tr th:only-of-type {\n",
       "        vertical-align: middle;\n",
       "    }\n",
       "\n",
       "    .dataframe tbody tr th {\n",
       "        vertical-align: top;\n",
       "    }\n",
       "\n",
       "    .dataframe thead th {\n",
       "        text-align: right;\n",
       "    }\n",
       "</style>\n",
       "<table border=\"1\" class=\"dataframe\">\n",
       "  <thead>\n",
       "    <tr style=\"text-align: right;\">\n",
       "      <th></th>\n",
       "      <th>ASIN:</th>\n",
       "      <th>Shipping Weight:</th>\n",
       "      <th>\\n    Item Weight: \\n</th>\n",
       "      <th>Item model number:</th>\n",
       "      <th>UPC:</th>\n",
       "      <th>\\n    Product Dimensions: \\n</th>\n",
       "      <th>Discontinued by manufacturer:</th>\n",
       "      <th>Domestic Shipping:</th>\n",
       "      <th>International Shipping:</th>\n",
       "      <th>Batteries</th>\n",
       "      <th>Shipping Advisory:</th>\n",
       "      <th>ASIN:</th>\n",
       "    </tr>\n",
       "  </thead>\n",
       "  <tbody>\n",
       "    <tr>\n",
       "      <th>0</th>\n",
       "      <td>6546546450</td>\n",
       "      <td>NaN</td>\n",
       "      <td>NaN</td>\n",
       "      <td>NaN</td>\n",
       "      <td>NaN</td>\n",
       "      <td>NaN</td>\n",
       "      <td>NaN</td>\n",
       "      <td>NaN</td>\n",
       "      <td>NaN</td>\n",
       "      <td>NaN</td>\n",
       "      <td>NaN</td>\n",
       "      <td>NaN</td>\n",
       "    </tr>\n",
       "    <tr>\n",
       "      <th>1</th>\n",
       "      <td>7178680776</td>\n",
       "      <td>0.3 ounces (</td>\n",
       "      <td>NaN</td>\n",
       "      <td>NaN</td>\n",
       "      <td>NaN</td>\n",
       "      <td>NaN</td>\n",
       "      <td>NaN</td>\n",
       "      <td>NaN</td>\n",
       "      <td>NaN</td>\n",
       "      <td>NaN</td>\n",
       "      <td>NaN</td>\n",
       "      <td>NaN</td>\n",
       "    </tr>\n",
       "    <tr>\n",
       "      <th>2</th>\n",
       "      <td>7250468162</td>\n",
       "      <td>3.5 ounces (</td>\n",
       "      <td>NaN</td>\n",
       "      <td>NaN</td>\n",
       "      <td>NaN</td>\n",
       "      <td>NaN</td>\n",
       "      <td>NaN</td>\n",
       "      <td>NaN</td>\n",
       "      <td>NaN</td>\n",
       "      <td>NaN</td>\n",
       "      <td>NaN</td>\n",
       "      <td>NaN</td>\n",
       "    </tr>\n",
       "    <tr>\n",
       "      <th>3</th>\n",
       "      <td>7367905066</td>\n",
       "      <td>1.8 ounces</td>\n",
       "      <td>1.76 ounces</td>\n",
       "      <td>0000011837</td>\n",
       "      <td>NaN</td>\n",
       "      <td>NaN</td>\n",
       "      <td>NaN</td>\n",
       "      <td>NaN</td>\n",
       "      <td>NaN</td>\n",
       "      <td>NaN</td>\n",
       "      <td>NaN</td>\n",
       "      <td>NaN</td>\n",
       "    </tr>\n",
       "    <tr>\n",
       "      <th>4</th>\n",
       "      <td>7414204790</td>\n",
       "      <td>12 ounces (</td>\n",
       "      <td>NaN</td>\n",
       "      <td>NaN</td>\n",
       "      <td>NaN</td>\n",
       "      <td>NaN</td>\n",
       "      <td>NaN</td>\n",
       "      <td>NaN</td>\n",
       "      <td>NaN</td>\n",
       "      <td>NaN</td>\n",
       "      <td>NaN</td>\n",
       "      <td>NaN</td>\n",
       "    </tr>\n",
       "  </tbody>\n",
       "</table>\n",
       "</div>"
      ],
      "text/plain": [
       "       ASIN:  Shipping Weight: \\n    Item Weight: \\n     Item model number:  \\\n",
       "0  6546546450              NaN                       NaN                NaN   \n",
       "1  7178680776     0.3 ounces (                       NaN                NaN   \n",
       "2  7250468162     3.5 ounces (                       NaN                NaN   \n",
       "3  7367905066       1.8 ounces               1.76 ounces         0000011837   \n",
       "4  7414204790      12 ounces (                       NaN                NaN   \n",
       "\n",
       "  UPC: \\n    Product Dimensions: \\n     Discontinued by manufacturer:  \\\n",
       "0  NaN                              NaN                           NaN   \n",
       "1  NaN                              NaN                           NaN   \n",
       "2  NaN                              NaN                           NaN   \n",
       "3  NaN                              NaN                           NaN   \n",
       "4  NaN                              NaN                           NaN   \n",
       "\n",
       "  Domestic Shipping:  International Shipping:  Batteries Shipping Advisory:  \\\n",
       "0                 NaN                      NaN       NaN                NaN   \n",
       "1                 NaN                      NaN       NaN                NaN   \n",
       "2                 NaN                      NaN       NaN                NaN   \n",
       "3                 NaN                      NaN       NaN                NaN   \n",
       "4                 NaN                      NaN       NaN                NaN   \n",
       "\n",
       "  ASIN:  \n",
       "0   NaN  \n",
       "1   NaN  \n",
       "2   NaN  \n",
       "3   NaN  \n",
       "4   NaN  "
      ]
     },
     "execution_count": 28,
     "metadata": {},
     "output_type": "execute_result"
    }
   ],
   "source": [
    "normalized_data = pd.json_normalize(df['details'])\n",
    "normalized_data.head()"
   ]
  },
  {
   "cell_type": "code",
   "execution_count": 29,
   "metadata": {},
   "outputs": [
    {
     "data": {
      "text/plain": [
       "Index(['ASIN: ', 'Shipping Weight:', '\\n    Item Weight: \\n    ',\n",
       "       'Item model number:', 'UPC:', '\\n    Product Dimensions: \\n    ',\n",
       "       'Discontinued by manufacturer:', 'Domestic Shipping: ',\n",
       "       'International Shipping: ', 'Batteries', 'Shipping Advisory:', 'ASIN:'],\n",
       "      dtype='object')"
      ]
     },
     "execution_count": 29,
     "metadata": {},
     "output_type": "execute_result"
    }
   ],
   "source": [
    "normalized_data.columns"
   ]
  },
  {
   "cell_type": "code",
   "execution_count": 11,
   "metadata": {},
   "outputs": [],
   "source": [
    "#Assign None if below three columns not present in normalized data\n",
    "# normalized_data['product_dimensions']=None\n",
    "# normalized_data['item_weight']=None\n",
    "# normalized_data['shipping_weight']=None"
   ]
  },
  {
   "cell_type": "code",
   "execution_count": 30,
   "metadata": {},
   "outputs": [],
   "source": [
    "# Add the normalized data back to the original DataFrame based on the index\n",
    "df = pd.concat([df, normalized_data], axis=1, join='inner')"
   ]
  },
  {
   "cell_type": "code",
   "execution_count": 31,
   "metadata": {},
   "outputs": [],
   "source": [
    "df['category']='All_Beauty'"
   ]
  },
  {
   "cell_type": "code",
   "execution_count": 32,
   "metadata": {},
   "outputs": [],
   "source": [
    "# Clean and standardize DataFrame column names\n",
    "df.columns = (df.columns\n",
    "                           .str.strip()  # Remove leading/trailing spaces\n",
    "                           .str.lower()  # Convert to lowercase (optional for consistency)\n",
    "                           .str.replace(':', '') # Remove colons characters\n",
    "                           .str.replace('\\n', '') # Remove newline characters\n",
    "                           .str.replace('.', '_') # Replace periods with underscores\n",
    "                           .str.replace(' ', '_'))  # Replace spaces with underscores"
   ]
  },
  {
   "cell_type": "code",
   "execution_count": 33,
   "metadata": {},
   "outputs": [],
   "source": [
    "#drop duplicate columns\n",
    "df = df.loc[:, ~df.columns.duplicated()]"
   ]
  },
  {
   "cell_type": "code",
   "execution_count": 34,
   "metadata": {},
   "outputs": [
    {
     "data": {
      "text/plain": [
       "Index(['description', 'title', 'brand', 'feature', 'rank', 'details',\n",
       "       'main_cat', 'price', 'asin', 'imageurl', 'imageurlhighres',\n",
       "       'shipping_weight', 'item_weight', 'item_model_number', 'upc',\n",
       "       'product_dimensions', 'discontinued_by_manufacturer',\n",
       "       'domestic_shipping', 'international_shipping', 'batteries',\n",
       "       'shipping_advisory', 'category'],\n",
       "      dtype='object')"
      ]
     },
     "execution_count": 34,
     "metadata": {},
     "output_type": "execute_result"
    }
   ],
   "source": [
    "df.columns"
   ]
  },
  {
   "cell_type": "code",
   "execution_count": null,
   "metadata": {},
   "outputs": [],
   "source": [
    "df = df[['asin','category','main_cat','title','description', \n",
    "        'brand','price','product_dimensions','item_weight', 'shipping_weight',\n",
    "        'imageurl', 'imageurlhighres','feature','rank']]"
   ]
  },
  {
   "cell_type": "code",
   "execution_count": 1,
   "metadata": {},
   "outputs": [
    {
     "ename": "NameError",
     "evalue": "name 'df' is not defined",
     "output_type": "error",
     "traceback": [
      "\u001b[0;31m---------------------------------------------------------------------------\u001b[0m",
      "\u001b[0;31mNameError\u001b[0m                                 Traceback (most recent call last)",
      "\u001b[1;32m/home/user/ItemDataQuality/itemdataqualityrepo/data_wrangling.ipynb Cell 17\u001b[0m line \u001b[0;36m1\n\u001b[0;32m----> <a href='vscode-notebook-cell://80-ravi2.cluster-osohntmafrd2eqo4tbffl4x2ug.cloudworkstations.dev/home/user/ItemDataQuality/itemdataqualityrepo/data_wrangling.ipynb#X22sdnNjb2RlLXJlbW90ZQ%3D%3D?line=0'>1</a>\u001b[0m df\u001b[39m.\u001b[39mhead(\u001b[39m3\u001b[39m)\n",
      "\u001b[0;31mNameError\u001b[0m: name 'df' is not defined"
     ]
    }
   ],
   "source": [
    "df.head(3)"
   ]
  },
  {
   "cell_type": "markdown",
   "metadata": {},
   "source": [
    "##### Define a file name and save it to the Parquet file in the GCS bucket."
   ]
  },
  {
   "cell_type": "code",
   "execution_count": 21,
   "metadata": {},
   "outputs": [],
   "source": [
    "\n",
    "df.to_parquet('gs://data_quality_final/parquet_data_files/meta_All_Beauty.parquet',index=False)"
   ]
  }
 ],
 "metadata": {
  "kernelspec": {
   "display_name": "Python 3",
   "language": "python",
   "name": "python3"
  },
  "language_info": {
   "codemirror_mode": {
    "name": "ipython",
    "version": 3
   },
   "file_extension": ".py",
   "mimetype": "text/x-python",
   "name": "python",
   "nbconvert_exporter": "python",
   "pygments_lexer": "ipython3",
   "version": "3.10.7"
  }
 },
 "nbformat": 4,
 "nbformat_minor": 2
}
