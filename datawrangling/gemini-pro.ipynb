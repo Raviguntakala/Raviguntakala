{
 "cells": [
  {
   "cell_type": "code",
   "execution_count": 17,
   "metadata": {},
   "outputs": [],
   "source": [
    "import pandas as pd\n",
    "import json\n",
    "import os\n",
    "import mapply\n",
    "from google.cloud import bigquery\n",
    "import gcsfs\n",
    "import ast\n",
    "import time\n",
    "from tqdm import tqdm\n",
    "client = bigquery.Client()\n",
    "from vertexai.preview.language_models import TextGenerationModel\n",
    "from vertexai.preview.generative_models import GenerativeModel\n",
    "from smart_open import smart_open\n",
    "from sqlalchemy import *\n",
    "from sqlalchemy.engine import create_engine\n",
    "from langchain.agents import initialize_agent, Tool, load_tools, AgentType\n",
    "from langchain.tools import BaseTool\n",
    "from tqdm import tqdm\n",
    "mapply.init(\n",
    "    n_workers=-1,\n",
    "    chunk_size=1000,\n",
    "    max_chunks_per_worker=0,\n",
    "    progressbar=True\n",
    ")\n",
    "tqdm.pandas(desc='progress bar')\n",
    "pd.set_option('display.max_colwidth', None)  # Set maximum width to terminal width\n",
    "pd.set_option('display.expand_frame_repr', True)  # Expand DataFrame representation\n"
   ]
  },
  {
   "cell_type": "code",
   "execution_count": 3,
   "metadata": {},
   "outputs": [
    {
     "name": "stderr",
     "output_type": "stream",
     "text": [
      "/tmp/ipykernel_6626/111781775.py:1: SADeprecationWarning: The dbapi() classmethod on dialect classes has been renamed to import_dbapi().  Implement an import_dbapi() classmethod directly on class <class 'pybigquery.sqlalchemy_bigquery.BigQueryDialect'> to remove this warning; the old .dbapi() classmethod may be maintained for backwards compatibility.\n",
      "  engine = create_engine('bigquery://us-gcp-ame-con-52dbb-sbx-1')\n"
     ]
    }
   ],
   "source": [
    "engine = create_engine('bigquery://us-gcp-ame-con-52dbb-sbx-1')"
   ]
  },
  {
   "cell_type": "code",
   "execution_count": 4,
   "metadata": {},
   "outputs": [
    {
     "name": "stderr",
     "output_type": "stream",
     "text": [
      "/home/user/.local/lib/python3.10/site-packages/google/cloud/bigquery/client.py:572: UserWarning: Cannot create BigQuery Storage client, the dependency google-cloud-bigquery-storage is not installed.\n",
      "  warnings.warn(\n"
     ]
    },
    {
     "data": {
      "text/plain": [
       "(107, 14)"
      ]
     },
     "execution_count": 4,
     "metadata": {},
     "output_type": "execute_result"
    }
   ],
   "source": [
    "data_frame = pd.read_sql_query(f\"SELECT * FROM data_quality.meta_Prime_Pantry where asin not in ('B010RS31WS','B010RS1QO8','B00QTUEUEM','B01EMZ4HES') and rand()<0.01 ;\",engine)\n",
    "data_frame.shape"
   ]
  },
  {
   "cell_type": "code",
   "execution_count": 5,
   "metadata": {},
   "outputs": [
    {
     "data": {
      "text/plain": [
       "(50, 14)"
      ]
     },
     "execution_count": 5,
     "metadata": {},
     "output_type": "execute_result"
    }
   ],
   "source": [
    "sample_df = data_frame.drop_duplicates(subset=[\"title\"]).sample(n=50,random_state=42).reset_index(drop=True)\n",
    "sample_df.shape"
   ]
  },
  {
   "cell_type": "code",
   "execution_count": 6,
   "metadata": {},
   "outputs": [],
   "source": [
    "from vertexai.preview import generative_models\n",
    "def generate_text(prompt):\n",
    "    model = generative_models.GenerativeModel(\"gemini-pro\")\n",
    "\n",
    "    # Generation config\n",
    "    config = {\"max_output_tokens\": 2048, \"temperature\": 0.0, \"top_p\": 1, \"top_k\": 32}\n",
    "\n",
    "    # Safety config\n",
    "    safety_config = {\n",
    "        generative_models.HarmCategory.HARM_CATEGORY_DANGEROUS_CONTENT: generative_models.HarmBlockThreshold.BLOCK_NONE,\n",
    "        generative_models.HarmCategory.HARM_CATEGORY_HARASSMENT: generative_models.HarmBlockThreshold.BLOCK_NONE,\n",
    "        generative_models.HarmCategory.HARM_CATEGORY_HATE_SPEECH: generative_models.HarmBlockThreshold.BLOCK_NONE,\n",
    "        generative_models.HarmCategory.HARM_CATEGORY_SEXUALLY_EXPLICIT: generative_models.HarmBlockThreshold.BLOCK_NONE,\n",
    "                    }\n",
    "    \n",
    "    # Generate content\n",
    "    responses = model.generate_content(\n",
    "        [prompt],\n",
    "        generation_config=config,\n",
    "        stream=True,\n",
    "        safety_settings=safety_config,\n",
    "    )\n",
    "\n",
    "    text_responses = []\n",
    "    for response in responses:\n",
    "        text_responses.append(response.text)\n",
    "    return \"\".join(text_responses)\n"
   ]
  },
  {
   "cell_type": "code",
   "execution_count": 8,
   "metadata": {},
   "outputs": [
    {
     "name": "stderr",
     "output_type": "stream",
     "text": [
      "progress bar: 100%|██████████| 50/50 [00:47<00:00,  1.05it/s]\n"
     ]
    }
   ],
   "source": [
    "sample_df['attribute_extraction'] = sample_df['title'].progress_apply(lambda x: generate_text('''\n",
    "You are an expert in extracting product quantity details from titles. Given a product title, identify relevant details and output them in the following JSON format with appropriate field labels:\n",
    "Example product titles:\n",
    "Title: V8 +Energy, Juice Drink with Green Tea, Peach Mango, 8oz. Can (4 packs of 6, Total of 24) \n",
    "Response: {'unit_of_measure': '8oz', 'count_per_pack': 6, 'multi_quantity': 4,'total_quantity': 24}\n",
    "\n",
    "Title: V8, Strawberry Banana, 8 Ounce, 6 Count (Pack of 4) \n",
    "Response: {'unit_of_measure': '8 Ounce', 'count_per_pack': 4, 'multi_quantity': 6, 'total_quantity': 24}\n",
    "\n",
    "Title: V8 100% Vegetable Juice, Spicy Hot, 5.5 oz. Can, 6 Count \n",
    "Response: {'unit_of_measure': '5.5 oz', 'count_per_pack': 1, 'multi_quantity': 6, 'total_quantity': 6}\n",
    "\n",
    "Title: Orbit Peppermint Sugarfree Gum, 3 Pack\n",
    "Response: {'unit_of_measure': null, 'count_per_pack': 1, 'multi_quantity': 3, 'total_quantity': 3}\n",
    "\n",
    "Title : EO Botanical Sulfate Free Conditioner with Keratin, Coconut and Hibiscus, 8.4 oz\n",
    "Response: {'unit_of_measure': '8.4 oz', 'count_per_pack': 1, 'multi_quantity': 1, 'total_quantity': 1}\n",
    "\n",
    "Guidelines:\n",
    "If count per pack is not given in the provided value and multi quantity is given, set count per pack to 1; if multi quantity is not given and count per pack is given, set multi quantity to 1.\n",
    "Calculate total quantity if not explicitly given using (count per pack * multi quantity)\n",
    "\n",
    "Now it's your turn\n",
    "\n",
    "Title: ''' + x + '''\n",
    "Response:'''))"
   ]
  },
  {
   "cell_type": "code",
   "execution_count": 18,
   "metadata": {},
   "outputs": [
    {
     "data": {
      "text/plain": [
       "0                   {\"unit_of_measure\": null, \"count_per_pack\": 1, \"multi_quantity\": 4, \"total_quantity\": 4}\n",
       "1          {\"unit_of_measure\": \"2&quot;\", \"count_per_pack\": 742, \"multi_quantity\": 1, \"total_quantity\": 742}\n",
       "2                 {\"unit_of_measure\": \"8 Oz\", \"count_per_pack\": 1, \"multi_quantity\": 1, \"total_quantity\": 1}\n",
       "3          {\"unit_of_measure\": null, \"count_per_pack\": null, \"multi_quantity\": null, \"total_quantity\": null}\n",
       "4             {\"unit_of_measure\": \"1 Gallon\", \"count_per_pack\": 1, \"multi_quantity\": 1, \"total_quantity\": 1}\n",
       "5           {\"unit_of_measure\": \"30.6 Ounce\", \"count_per_pack\": 1, \"multi_quantity\": 1, \"total_quantity\": 1}\n",
       "6                 {\"unit_of_measure\": null, \"count_per_pack\": 72, \"multi_quantity\": 1, \"total_quantity\": 72}\n",
       "7            {\"unit_of_measure\": \"1 Ounce\", \"count_per_pack\": 1, \"multi_quantity\": 12, \"total_quantity\": 12}\n",
       "8                   {\"unit_of_measure\": null, \"count_per_pack\": 1, \"multi_quantity\": 1, \"total_quantity\": 1}\n",
       "9            {\"unit_of_measure\": \"3.5 Ounce\", \"count_per_pack\": 1, \"multi_quantity\": 1, \"total_quantity\": 1}\n",
       "10                {\"unit_of_measure\": \"5 oz\", \"count_per_pack\": 1, \"multi_quantity\": 1, \"total_quantity\": 1}\n",
       "11             {\"unit_of_measure\": \"19 oz\", \"count_per_pack\": 1, \"multi_quantity\": 12, \"total_quantity\": 12}\n",
       "12            {\"unit_of_measure\": \"18 Ounce\", \"count_per_pack\": 1, \"multi_quantity\": 6, \"total_quantity\": 6}\n",
       "13            {\"unit_of_measure\": \"14 Ounce\", \"count_per_pack\": 1, \"multi_quantity\": 1, \"total_quantity\": 1}\n",
       "14          {\"unit_of_measure\": \"2.5 fl. oz\", \"count_per_pack\": 1, \"multi_quantity\": 1, \"total_quantity\": 1}\n",
       "15             {\"unit_of_measure\": \"8.45 oz\", \"count_per_pack\": 1, \"multi_quantity\": 1, \"total_quantity\": 1}\n",
       "16          {\"unit_of_measure\": \"8.45 Ounce\", \"count_per_pack\": 1, \"multi_quantity\": 1, \"total_quantity\": 1}\n",
       "17              {\"unit_of_measure\": \"8.1 oz\", \"count_per_pack\": 1, \"multi_quantity\": 1, \"total_quantity\": 1}\n",
       "18         {\"unit_of_measure\": null, \"count_per_pack\": null, \"multi_quantity\": null, \"total_quantity\": null}\n",
       "19            {\"unit_of_measure\": \"14.75 Oz\", \"count_per_pack\": 1, \"multi_quantity\": 1, \"total_quantity\": 1}\n",
       "20           {\"unit_of_measure\": \"8.5 Ounce\", \"count_per_pack\": 1, \"multi_quantity\": 1, \"total_quantity\": 1}\n",
       "21       {\"unit_of_measure\": \"4 in x 2.1 yd\", \"count_per_pack\": 1, \"multi_quantity\": 5, \"total_quantity\": 5}\n",
       "22      {\"unit_of_measure\": \"50 Square Foot\", \"count_per_pack\": 1, \"multi_quantity\": 1, \"total_quantity\": 1}\n",
       "23                {\"unit_of_measure\": \"9 Oz\", \"count_per_pack\": 1, \"multi_quantity\": 1, \"total_quantity\": 1}\n",
       "24                {\"unit_of_measure\": null, \"count_per_pack\": 1, \"multi_quantity\": 20, \"total_quantity\": 20}\n",
       "25    {\"unit_of_measure\": \"21.1 Fluid Ounce\", \"count_per_pack\": 1, \"multi_quantity\": 1, \"total_quantity\": 1}\n",
       "26               {\"unit_of_measure\": \"14 Oz\", \"count_per_pack\": 1, \"multi_quantity\": 1, \"total_quantity\": 1}\n",
       "27         {\"unit_of_measure\": null, \"count_per_pack\": null, \"multi_quantity\": null, \"total_quantity\": null}\n",
       "28           {\"unit_of_measure\": \"38-Ounce\", \"count_per_pack\": 1, \"multi_quantity\": 1, \"total_quantity\": 38}\n",
       "29          {\"unit_of_measure\": \"6.88 Ounce\", \"count_per_pack\": 1, \"multi_quantity\": 1, \"total_quantity\": 1}\n",
       "30          {\"unit_of_measure\": \"1.62 Ounce\", \"count_per_pack\": 1, \"multi_quantity\": 1, \"total_quantity\": 1}\n",
       "31           {\"unit_of_measure\": \"1.9-Ounce\", \"count_per_pack\": 1, \"multi_quantity\": 6, \"total_quantity\": 6}\n",
       "32              {\"unit_of_measure\": null, \"count_per_pack\": 1, \"multi_quantity\": 150, \"total_quantity\": 150}\n",
       "33            {\"unit_of_measure\": \"32 fl oz\", \"count_per_pack\": 1, \"multi_quantity\": 1, \"total_quantity\": 1}\n",
       "34            {\"unit_of_measure\": \"24 Ounce\", \"count_per_pack\": 1, \"multi_quantity\": 1, \"total_quantity\": 1}\n",
       "35                {\"unit_of_measure\": null, \"count_per_pack\": 60, \"multi_quantity\": 1, \"total_quantity\": 60}\n",
       "36          {\"unit_of_measure\": \"fl. oz.\", \"count_per_pack\": 1, \"multi_quantity\": 1, \"total_quantity\": 33.8}\n",
       "37                  {\"unit_of_measure\": null, \"count_per_pack\": 1, \"multi_quantity\": 1, \"total_quantity\": 1}\n",
       "38               {\"unit_of_measure\": \"1.4oz\", \"count_per_pack\": 1, \"multi_quantity\": 4, \"total_quantity\": 4}\n",
       "39                {\"unit_of_measure\": null, \"count_per_pack\": 30, \"multi_quantity\": 1, \"total_quantity\": 30}\n",
       "40            {\"unit_of_measure\": \"12 Ounce\", \"count_per_pack\": 1, \"multi_quantity\": 1, \"total_quantity\": 1}\n",
       "41     {\"unit_of_measure\": \"8.4-Fluid Ounce\", \"count_per_pack\": 1, \"multi_quantity\": 4, \"total_quantity\": 4}\n",
       "42             {\"unit_of_measure\": \"4 fl oz\", \"count_per_pack\": 1, \"multi_quantity\": 1, \"total_quantity\": 1}\n",
       "43             {\"unit_of_measure\": \"10.1 oz\", \"count_per_pack\": 1, \"multi_quantity\": 1, \"total_quantity\": 1}\n",
       "44            {\"unit_of_measure\": \"15.25 Oz\", \"count_per_pack\": 1, \"multi_quantity\": 1, \"total_quantity\": 1}\n",
       "45                {\"unit_of_measure\": null, \"count_per_pack\": 1, \"multi_quantity\": 16, \"total_quantity\": 16}\n",
       "46            {\"unit_of_measure\": \"32-Ounce\", \"count_per_pack\": 1, \"multi_quantity\": 6, \"total_quantity\": 6}\n",
       "47      {\"unit_of_measure\": \"64 Fluid Ounce\", \"count_per_pack\": 1, \"multi_quantity\": 1, \"total_quantity\": 1}\n",
       "48             {\"unit_of_measure\": \"4 Ounce\", \"count_per_pack\": 1, \"multi_quantity\": 1, \"total_quantity\": 1}\n",
       "49           {\"unit_of_measure\": \"1.4-Ounce\", \"count_per_pack\": 1, \"multi_quantity\": 6, \"total_quantity\": 6}\n",
       "Name: attribute_extraction, dtype: object"
      ]
     },
     "execution_count": 18,
     "metadata": {},
     "output_type": "execute_result"
    }
   ],
   "source": [
    "sample_df['attribute_extraction']"
   ]
  },
  {
   "cell_type": "code",
   "execution_count": 10,
   "metadata": {},
   "outputs": [],
   "source": [
    "sample_df['attribute_extraction'] = sample_df['attribute_extraction'].apply(lambda json_str: json_str.replace(\"'\", \"\\\"\"))"
   ]
  },
  {
   "cell_type": "code",
   "execution_count": 11,
   "metadata": {},
   "outputs": [],
   "source": [
    "# Assuming you have a DataFrame named 'df' with the column 'data_column'\n",
    "sample_df['unit_of_measure'] = sample_df['attribute_extraction'].apply(lambda x: json.loads(x)['unit_of_measure'])\n",
    "sample_df['count_per_pack'] = sample_df['attribute_extraction'].apply(lambda x: json.loads(x)['count_per_pack'])\n",
    "sample_df['multi_quantity'] = sample_df['attribute_extraction'].apply(lambda x: json.loads(x)['multi_quantity'])\n",
    "sample_df['total_quantity'] =sample_df['attribute_extraction'].apply(lambda x: json.loads(x)['total_quantity'])\n",
    "\n",
    "# Now you can access these values as separate columns in your DataFrame\n"
   ]
  },
  {
   "cell_type": "code",
   "execution_count": 14,
   "metadata": {},
   "outputs": [
    {
     "name": "stderr",
     "output_type": "stream",
     "text": [
      "progress bar: 100%|██████████| 50/50 [00:24<00:00,  2.05it/s]\n"
     ]
    }
   ],
   "source": [
    "sample_df['verification'] = sample_df.progress_apply(lambda x: generate_text(f'''\n",
    "Verify total quantity accuracy for the following product details:\n",
    "count_per_pack: {x['count_per_pack']}\n",
    "multi_quantity: {x['multi_quantity']}\n",
    "total_quantity: {x['total_quantity']}\n",
    "Apply this formula:\n",
    "total_quantity = count_per_pack * multi_quantity\n",
    "Respond with:\n",
    "\"Correct\" if total_quantity is accurate.\n",
    "The correctly calculated value if it's incorrect.\n",
    "Response:'''),axis=1)\n"
   ]
  },
  {
   "cell_type": "code",
   "execution_count": 19,
   "metadata": {},
   "outputs": [
    {
     "data": {
      "text/html": [
       "<div>\n",
       "<style scoped>\n",
       "    .dataframe tbody tr th:only-of-type {\n",
       "        vertical-align: middle;\n",
       "    }\n",
       "\n",
       "    .dataframe tbody tr th {\n",
       "        vertical-align: top;\n",
       "    }\n",
       "\n",
       "    .dataframe thead th {\n",
       "        text-align: right;\n",
       "    }\n",
       "</style>\n",
       "<table border=\"1\" class=\"dataframe\">\n",
       "  <thead>\n",
       "    <tr style=\"text-align: right;\">\n",
       "      <th></th>\n",
       "      <th>attribute_extraction</th>\n",
       "      <th>verification</th>\n",
       "    </tr>\n",
       "  </thead>\n",
       "  <tbody>\n",
       "    <tr>\n",
       "      <th>3</th>\n",
       "      <td>{\"unit_of_measure\": null, \"count_per_pack\": null, \"multi_quantity\": null, \"total_quantity\": null}</td>\n",
       "      <td>\"Incorrect\"\\ntotal_quantity = nan</td>\n",
       "    </tr>\n",
       "    <tr>\n",
       "      <th>18</th>\n",
       "      <td>{\"unit_of_measure\": null, \"count_per_pack\": null, \"multi_quantity\": null, \"total_quantity\": null}</td>\n",
       "      <td>\"Incorrect\"\\ntotal_quantity = nan</td>\n",
       "    </tr>\n",
       "    <tr>\n",
       "      <th>27</th>\n",
       "      <td>{\"unit_of_measure\": null, \"count_per_pack\": null, \"multi_quantity\": null, \"total_quantity\": null}</td>\n",
       "      <td>\"Incorrect\"\\ntotal_quantity = nan</td>\n",
       "    </tr>\n",
       "    <tr>\n",
       "      <th>28</th>\n",
       "      <td>{\"unit_of_measure\": \"38-Ounce\", \"count_per_pack\": 1, \"multi_quantity\": 1, \"total_quantity\": 38}</td>\n",
       "      <td>Incorrect\\n38.0</td>\n",
       "    </tr>\n",
       "    <tr>\n",
       "      <th>36</th>\n",
       "      <td>{\"unit_of_measure\": \"fl. oz.\", \"count_per_pack\": 1, \"multi_quantity\": 1, \"total_quantity\": 33.8}</td>\n",
       "      <td>Incorrect\\n33.8</td>\n",
       "    </tr>\n",
       "  </tbody>\n",
       "</table>\n",
       "</div>"
      ],
      "text/plain": [
       "                                                                                 attribute_extraction  \\\n",
       "3   {\"unit_of_measure\": null, \"count_per_pack\": null, \"multi_quantity\": null, \"total_quantity\": null}   \n",
       "18  {\"unit_of_measure\": null, \"count_per_pack\": null, \"multi_quantity\": null, \"total_quantity\": null}   \n",
       "27  {\"unit_of_measure\": null, \"count_per_pack\": null, \"multi_quantity\": null, \"total_quantity\": null}   \n",
       "28    {\"unit_of_measure\": \"38-Ounce\", \"count_per_pack\": 1, \"multi_quantity\": 1, \"total_quantity\": 38}   \n",
       "36   {\"unit_of_measure\": \"fl. oz.\", \"count_per_pack\": 1, \"multi_quantity\": 1, \"total_quantity\": 33.8}   \n",
       "\n",
       "                         verification  \n",
       "3   \"Incorrect\"\\ntotal_quantity = nan  \n",
       "18  \"Incorrect\"\\ntotal_quantity = nan  \n",
       "27  \"Incorrect\"\\ntotal_quantity = nan  \n",
       "28                    Incorrect\\n38.0  \n",
       "36                    Incorrect\\n33.8  "
      ]
     },
     "execution_count": 19,
     "metadata": {},
     "output_type": "execute_result"
    }
   ],
   "source": [
    "sample_df[sample_df['verification']!='Correct'][['attribute_extraction','verification']]"
   ]
  },
  {
   "cell_type": "code",
   "execution_count": null,
   "metadata": {},
   "outputs": [],
   "source": []
  }
 ],
 "metadata": {
  "kernelspec": {
   "display_name": "Python 3",
   "language": "python",
   "name": "python3"
  },
  "language_info": {
   "codemirror_mode": {
    "name": "ipython",
    "version": 3
   },
   "file_extension": ".py",
   "mimetype": "text/x-python",
   "name": "python",
   "nbconvert_exporter": "python",
   "pygments_lexer": "ipython3",
   "version": "3.10.7"
  }
 },
 "nbformat": 4,
 "nbformat_minor": 2
}
