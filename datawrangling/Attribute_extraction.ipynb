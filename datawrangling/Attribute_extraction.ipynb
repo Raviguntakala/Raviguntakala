{
 "cells": [
  {
   "cell_type": "code",
   "execution_count": 1,
   "metadata": {},
   "outputs": [
    {
     "name": "stderr",
     "output_type": "stream",
     "text": [
      "/home/user/.local/lib/python3.10/site-packages/tqdm/auto.py:21: TqdmWarning: IProgress not found. Please update jupyter and ipywidgets. See https://ipywidgets.readthedocs.io/en/stable/user_install.html\n",
      "  from .autonotebook import tqdm as notebook_tqdm\n"
     ]
    }
   ],
   "source": [
    "import pandas as pd\n",
    "import json\n",
    "import os\n",
    "import mapply\n",
    "from google.cloud import bigquery\n",
    "import gcsfs\n",
    "import ast\n",
    "import time\n",
    "from tqdm import tqdm\n",
    "client = bigquery.Client()\n",
    "from vertexai.preview.language_models import TextGenerationModel\n",
    "from smart_open import smart_open\n",
    "from sqlalchemy import *\n",
    "from sqlalchemy.engine import create_engine\n",
    "mapply.init(\n",
    "    n_workers=-1,\n",
    "    chunk_size=1000,\n",
    "    max_chunks_per_worker=0,\n",
    "    progressbar=True\n",
    ")\n",
    "tqdm.pandas(desc='progress bar')\n",
    "pd.set_option('display.max_colwidth', None)  # Set maximum width to terminal width\n",
    "pd.set_option('display.expand_frame_repr', True)  # Expand DataFrame representation\n"
   ]
  },
  {
   "cell_type": "markdown",
   "metadata": {},
   "source": [
    "!pip install google-cloud-aiplatform"
   ]
  },
  {
   "cell_type": "code",
   "execution_count": 4,
   "metadata": {},
   "outputs": [
    {
     "name": "stderr",
     "output_type": "stream",
     "text": [
      "/tmp/ipykernel_1690/111781775.py:1: SADeprecationWarning: The dbapi() classmethod on dialect classes has been renamed to import_dbapi().  Implement an import_dbapi() classmethod directly on class <class 'pybigquery.sqlalchemy_bigquery.BigQueryDialect'> to remove this warning; the old .dbapi() classmethod may be maintained for backwards compatibility.\n",
      "  engine = create_engine('bigquery://us-gcp-ame-con-52dbb-sbx-1')\n"
     ]
    }
   ],
   "source": [
    "engine = create_engine('bigquery://us-gcp-ame-con-52dbb-sbx-1')"
   ]
  },
  {
   "cell_type": "code",
   "execution_count": 5,
   "metadata": {},
   "outputs": [
    {
     "name": "stderr",
     "output_type": "stream",
     "text": [
      "/home/user/.local/lib/python3.10/site-packages/google/cloud/bigquery/client.py:572: UserWarning: Cannot create BigQuery Storage client, the dependency google-cloud-bigquery-storage is not installed.\n",
      "  warnings.warn(\n"
     ]
    },
    {
     "data": {
      "text/plain": [
       "(10813, 14)"
      ]
     },
     "execution_count": 5,
     "metadata": {},
     "output_type": "execute_result"
    }
   ],
   "source": [
    "data_frame = pd.read_sql_query(f\"SELECT * FROM data_quality.meta_Prime_Pantry ;\",engine)\n",
    "data_frame.shape"
   ]
  },
  {
   "cell_type": "code",
   "execution_count": null,
   "metadata": {},
   "outputs": [],
   "source": [
    "data_frame['title'].head(10)"
   ]
  },
  {
   "cell_type": "code",
   "execution_count": 6,
   "metadata": {},
   "outputs": [
    {
     "name": "stderr",
     "output_type": "stream",
     "text": [
      "/home/user/.local/lib/python3.10/site-packages/numpy/core/fromnumeric.py:59: FutureWarning: 'DataFrame.swapaxes' is deprecated and will be removed in a future version. Please use 'DataFrame.transpose' instead.\n",
      "  return bound(*args, **kwds)\n",
      "100%|██████████| 10/10 [00:00<00:00, 13.18it/s]\n"
     ]
    }
   ],
   "source": [
    "data_frame['prompt'] = data_frame.mapply(lambda x: f\"\"\"You are an assistant that extracts product weight, count per pack, and total count details from product titles. When this information does not exist in the title, you should respond with \"None\". I will provide some examples for you to understand the task:\n",
    "\n",
    "Title: V8 +Energy, Juice Drink with Green Tea, Pomegranate Blueberry, 8 oz. Can (4 packs of 6, Total of 24)\n",
    "resonse: 8 oz. Can (4 packs of 6, Total of 24)\n",
    "\n",
    "Title: ACE Night Wrist Sleep Support\n",
    "resonse: None\n",
    "\n",
    "Title: EO Botanical Sulfate Free Conditioner with Keratin, Coconut and Hibiscus, 8.4 oz\n",
    "resonse: 8.4 oz\n",
    "\n",
    "Title: EO Pure Performance Botanical Shampoo, Sulfate Free with Keratin for Chemically Treated Hair, Coconut &amp; Hibiscus, 8.4 Ounce\n",
    "response: 8.4 Ounce\n",
    "\n",
    "Title: Orbit Peppermint Sugarfree Gum, 3 Pack\n",
    "response: 3 Pack\n",
    "\n",
    "now its your turn\n",
    "\n",
    "Title: {x['title']}\n",
    "response:\"\"\",axis=1)"
   ]
  },
  {
   "cell_type": "markdown",
   "metadata": {},
   "source": [
    "#### function to perform  text bison LLM online predictions"
   ]
  },
  {
   "cell_type": "code",
   "execution_count": 7,
   "metadata": {},
   "outputs": [],
   "source": [
    "#Loads the pre-trained text generation model 'text-bison' for subsequent text generation\n",
    "text_model = TextGenerationModel.from_pretrained(\"text-bison@001\")"
   ]
  },
  {
   "cell_type": "code",
   "execution_count": 3,
   "metadata": {},
   "outputs": [],
   "source": [
    "client = bigquery.Client()\n",
    "\n",
    "table_id = \"us-gcp-ame-con-52dbb-sbx-1.data_quality.Prime_Pantry_attribute_extraction\"\n",
    "schema = [\n",
    "    bigquery.SchemaField(\"asin\", \"STRING\"),\n",
    "    bigquery.SchemaField(\"attribute_extraction\", \"STRING\"),\n",
    "]\n",
    "\n",
    "table = bigquery.Table(table_id, schema=schema)\n",
    "table = client.create_table(table)"
   ]
  },
  {
   "cell_type": "code",
   "execution_count": 9,
   "metadata": {},
   "outputs": [
    {
     "name": "stderr",
     "output_type": "stream",
     "text": [
      " 71%|███████   | 7678/10813 [2:50:37<1:09:39,  1.33s/it]\n"
     ]
    },
    {
     "ename": "KeyboardInterrupt",
     "evalue": "",
     "output_type": "error",
     "traceback": [
      "\u001b[0;31m---------------------------------------------------------------------------\u001b[0m",
      "\u001b[0;31mKeyboardInterrupt\u001b[0m                         Traceback (most recent call last)",
      "\u001b[1;32m/home/user/ItemDataQuality/itemdataqualityrepo/Attribute extraction.ipynb Cell 11\u001b[0m line \u001b[0;36m3\n\u001b[1;32m      <a href='vscode-notebook-cell://80-ravi2.cluster-osohntmafrd2eqo4tbffl4x2ug.cloudworkstations.dev/home/user/ItemDataQuality/itemdataqualityrepo/Attribute%20extraction.ipynb#X20sdnNjb2RlLXJlbW90ZQ%3D%3D?line=0'>1</a>\u001b[0m \u001b[39m# Iterate over records and write them to the table\u001b[39;00m\n\u001b[1;32m      <a href='vscode-notebook-cell://80-ravi2.cluster-osohntmafrd2eqo4tbffl4x2ug.cloudworkstations.dev/home/user/ItemDataQuality/itemdataqualityrepo/Attribute%20extraction.ipynb#X20sdnNjb2RlLXJlbW90ZQ%3D%3D?line=1'>2</a>\u001b[0m \u001b[39mfor\u001b[39;00m idx, row \u001b[39min\u001b[39;00m tqdm(data_frame\u001b[39m.\u001b[39miterrows(), total\u001b[39m=\u001b[39mdata_frame\u001b[39m.\u001b[39mshape[\u001b[39m0\u001b[39m]):\n\u001b[0;32m----> <a href='vscode-notebook-cell://80-ravi2.cluster-osohntmafrd2eqo4tbffl4x2ug.cloudworkstations.dev/home/user/ItemDataQuality/itemdataqualityrepo/Attribute%20extraction.ipynb#X20sdnNjb2RlLXJlbW90ZQ%3D%3D?line=2'>3</a>\u001b[0m     response \u001b[39m=\u001b[39m text_model\u001b[39m.\u001b[39;49mpredict(row[\u001b[39m'\u001b[39;49m\u001b[39mprompt\u001b[39;49m\u001b[39m'\u001b[39;49m], temperature \u001b[39m=\u001b[39;49m \u001b[39m0.0\u001b[39;49m, top_k \u001b[39m=\u001b[39;49m \u001b[39m1\u001b[39;49m)\u001b[39m.\u001b[39mtext\n\u001b[1;32m      <a href='vscode-notebook-cell://80-ravi2.cluster-osohntmafrd2eqo4tbffl4x2ug.cloudworkstations.dev/home/user/ItemDataQuality/itemdataqualityrepo/Attribute%20extraction.ipynb#X20sdnNjb2RlLXJlbW90ZQ%3D%3D?line=3'>4</a>\u001b[0m     client\u001b[39m.\u001b[39minsert_rows(table, [[row[\u001b[39m'\u001b[39m\u001b[39masin\u001b[39m\u001b[39m'\u001b[39m], response]])\n\u001b[1;32m      <a href='vscode-notebook-cell://80-ravi2.cluster-osohntmafrd2eqo4tbffl4x2ug.cloudworkstations.dev/home/user/ItemDataQuality/itemdataqualityrepo/Attribute%20extraction.ipynb#X20sdnNjb2RlLXJlbW90ZQ%3D%3D?line=4'>5</a>\u001b[0m     time\u001b[39m.\u001b[39msleep(\u001b[39m1\u001b[39m)\n",
      "File \u001b[0;32m~/.local/lib/python3.10/site-packages/vertexai/language_models/_language_models.py:1036\u001b[0m, in \u001b[0;36m_TextGenerationModel.predict\u001b[0;34m(self, prompt, max_output_tokens, temperature, top_k, top_p, stop_sequences, candidate_count, grounding_source, logprobs, presence_penalty, frequency_penalty, logit_bias)\u001b[0m\n\u001b[1;32m    986\u001b[0m \u001b[39m\u001b[39m\u001b[39m\"\"\"Gets model response for a single prompt.\u001b[39;00m\n\u001b[1;32m    987\u001b[0m \n\u001b[1;32m    988\u001b[0m \u001b[39mArgs:\u001b[39;00m\n\u001b[0;32m   (...)\u001b[0m\n\u001b[1;32m   1019\u001b[0m \u001b[39m    A `MultiCandidateTextGenerationResponse` object that contains the text produced by the model.\u001b[39;00m\n\u001b[1;32m   1020\u001b[0m \u001b[39m\"\"\"\u001b[39;00m\n\u001b[1;32m   1021\u001b[0m prediction_request \u001b[39m=\u001b[39m _create_text_generation_prediction_request(\n\u001b[1;32m   1022\u001b[0m     prompt\u001b[39m=\u001b[39mprompt,\n\u001b[1;32m   1023\u001b[0m     max_output_tokens\u001b[39m=\u001b[39mmax_output_tokens,\n\u001b[0;32m   (...)\u001b[0m\n\u001b[1;32m   1033\u001b[0m     logit_bias\u001b[39m=\u001b[39mlogit_bias,\n\u001b[1;32m   1034\u001b[0m )\n\u001b[0;32m-> 1036\u001b[0m prediction_response \u001b[39m=\u001b[39m \u001b[39mself\u001b[39;49m\u001b[39m.\u001b[39;49m_endpoint\u001b[39m.\u001b[39;49mpredict(\n\u001b[1;32m   1037\u001b[0m     instances\u001b[39m=\u001b[39;49m[prediction_request\u001b[39m.\u001b[39;49minstance],\n\u001b[1;32m   1038\u001b[0m     parameters\u001b[39m=\u001b[39;49mprediction_request\u001b[39m.\u001b[39;49mparameters,\n\u001b[1;32m   1039\u001b[0m )\n\u001b[1;32m   1041\u001b[0m \u001b[39mreturn\u001b[39;00m _parse_text_generation_model_multi_candidate_response(\n\u001b[1;32m   1042\u001b[0m     prediction_response\n\u001b[1;32m   1043\u001b[0m )\n",
      "File \u001b[0;32m~/.local/lib/python3.10/site-packages/google/cloud/aiplatform/models.py:1579\u001b[0m, in \u001b[0;36mEndpoint.predict\u001b[0;34m(self, instances, parameters, timeout, use_raw_predict)\u001b[0m\n\u001b[1;32m   1566\u001b[0m     \u001b[39mreturn\u001b[39;00m Prediction(\n\u001b[1;32m   1567\u001b[0m         predictions\u001b[39m=\u001b[39mjson_response[\u001b[39m\"\u001b[39m\u001b[39mpredictions\u001b[39m\u001b[39m\"\u001b[39m],\n\u001b[1;32m   1568\u001b[0m         deployed_model_id\u001b[39m=\u001b[39mraw_predict_response\u001b[39m.\u001b[39mheaders[\n\u001b[0;32m   (...)\u001b[0m\n\u001b[1;32m   1576\u001b[0m         ),\n\u001b[1;32m   1577\u001b[0m     )\n\u001b[1;32m   1578\u001b[0m \u001b[39melse\u001b[39;00m:\n\u001b[0;32m-> 1579\u001b[0m     prediction_response \u001b[39m=\u001b[39m \u001b[39mself\u001b[39;49m\u001b[39m.\u001b[39;49m_prediction_client\u001b[39m.\u001b[39;49mpredict(\n\u001b[1;32m   1580\u001b[0m         endpoint\u001b[39m=\u001b[39;49m\u001b[39mself\u001b[39;49m\u001b[39m.\u001b[39;49m_gca_resource\u001b[39m.\u001b[39;49mname,\n\u001b[1;32m   1581\u001b[0m         instances\u001b[39m=\u001b[39;49minstances,\n\u001b[1;32m   1582\u001b[0m         parameters\u001b[39m=\u001b[39;49mparameters,\n\u001b[1;32m   1583\u001b[0m         timeout\u001b[39m=\u001b[39;49mtimeout,\n\u001b[1;32m   1584\u001b[0m     )\n\u001b[1;32m   1586\u001b[0m     \u001b[39mreturn\u001b[39;00m Prediction(\n\u001b[1;32m   1587\u001b[0m         predictions\u001b[39m=\u001b[39m[\n\u001b[1;32m   1588\u001b[0m             json_format\u001b[39m.\u001b[39mMessageToDict(item)\n\u001b[0;32m   (...)\u001b[0m\n\u001b[1;32m   1593\u001b[0m         model_resource_name\u001b[39m=\u001b[39mprediction_response\u001b[39m.\u001b[39mmodel,\n\u001b[1;32m   1594\u001b[0m     )\n",
      "File \u001b[0;32m~/.local/lib/python3.10/site-packages/google/cloud/aiplatform_v1/services/prediction_service/client.py:606\u001b[0m, in \u001b[0;36mPredictionServiceClient.predict\u001b[0;34m(self, request, endpoint, instances, parameters, retry, timeout, metadata)\u001b[0m\n\u001b[1;32m    601\u001b[0m metadata \u001b[39m=\u001b[39m \u001b[39mtuple\u001b[39m(metadata) \u001b[39m+\u001b[39m (\n\u001b[1;32m    602\u001b[0m     gapic_v1\u001b[39m.\u001b[39mrouting_header\u001b[39m.\u001b[39mto_grpc_metadata(((\u001b[39m\"\u001b[39m\u001b[39mendpoint\u001b[39m\u001b[39m\"\u001b[39m, request\u001b[39m.\u001b[39mendpoint),)),\n\u001b[1;32m    603\u001b[0m )\n\u001b[1;32m    605\u001b[0m \u001b[39m# Send the request.\u001b[39;00m\n\u001b[0;32m--> 606\u001b[0m response \u001b[39m=\u001b[39m rpc(\n\u001b[1;32m    607\u001b[0m     request,\n\u001b[1;32m    608\u001b[0m     retry\u001b[39m=\u001b[39;49mretry,\n\u001b[1;32m    609\u001b[0m     timeout\u001b[39m=\u001b[39;49mtimeout,\n\u001b[1;32m    610\u001b[0m     metadata\u001b[39m=\u001b[39;49mmetadata,\n\u001b[1;32m    611\u001b[0m )\n\u001b[1;32m    613\u001b[0m \u001b[39m# Done; return the response.\u001b[39;00m\n\u001b[1;32m    614\u001b[0m \u001b[39mreturn\u001b[39;00m response\n",
      "File \u001b[0;32m~/.local/lib/python3.10/site-packages/google/api_core/gapic_v1/method.py:131\u001b[0m, in \u001b[0;36m_GapicCallable.__call__\u001b[0;34m(self, timeout, retry, compression, *args, **kwargs)\u001b[0m\n\u001b[1;32m    128\u001b[0m \u001b[39mif\u001b[39;00m \u001b[39mself\u001b[39m\u001b[39m.\u001b[39m_compression \u001b[39mis\u001b[39;00m \u001b[39mnot\u001b[39;00m \u001b[39mNone\u001b[39;00m:\n\u001b[1;32m    129\u001b[0m     kwargs[\u001b[39m\"\u001b[39m\u001b[39mcompression\u001b[39m\u001b[39m\"\u001b[39m] \u001b[39m=\u001b[39m compression\n\u001b[0;32m--> 131\u001b[0m \u001b[39mreturn\u001b[39;00m wrapped_func(\u001b[39m*\u001b[39;49margs, \u001b[39m*\u001b[39;49m\u001b[39m*\u001b[39;49mkwargs)\n",
      "File \u001b[0;32m~/.local/lib/python3.10/site-packages/google/api_core/grpc_helpers.py:79\u001b[0m, in \u001b[0;36m_wrap_unary_errors.<locals>.error_remapped_callable\u001b[0;34m(*args, **kwargs)\u001b[0m\n\u001b[1;32m     76\u001b[0m \u001b[39m@functools\u001b[39m\u001b[39m.\u001b[39mwraps(callable_)\n\u001b[1;32m     77\u001b[0m \u001b[39mdef\u001b[39;00m \u001b[39merror_remapped_callable\u001b[39m(\u001b[39m*\u001b[39margs, \u001b[39m*\u001b[39m\u001b[39m*\u001b[39mkwargs):\n\u001b[1;32m     78\u001b[0m     \u001b[39mtry\u001b[39;00m:\n\u001b[0;32m---> 79\u001b[0m         \u001b[39mreturn\u001b[39;00m callable_(\u001b[39m*\u001b[39;49margs, \u001b[39m*\u001b[39;49m\u001b[39m*\u001b[39;49mkwargs)\n\u001b[1;32m     80\u001b[0m     \u001b[39mexcept\u001b[39;00m grpc\u001b[39m.\u001b[39mRpcError \u001b[39mas\u001b[39;00m exc:\n\u001b[1;32m     81\u001b[0m         \u001b[39mraise\u001b[39;00m exceptions\u001b[39m.\u001b[39mfrom_grpc_error(exc) \u001b[39mfrom\u001b[39;00m \u001b[39mexc\u001b[39;00m\n",
      "File \u001b[0;32m~/.local/lib/python3.10/site-packages/grpc/_channel.py:1157\u001b[0m, in \u001b[0;36m_UnaryUnaryMultiCallable.__call__\u001b[0;34m(self, request, timeout, metadata, credentials, wait_for_ready, compression)\u001b[0m\n\u001b[1;32m   1145\u001b[0m \u001b[39mdef\u001b[39;00m \u001b[39m__call__\u001b[39m(\n\u001b[1;32m   1146\u001b[0m     \u001b[39mself\u001b[39m,\n\u001b[1;32m   1147\u001b[0m     request: Any,\n\u001b[0;32m   (...)\u001b[0m\n\u001b[1;32m   1152\u001b[0m     compression: Optional[grpc\u001b[39m.\u001b[39mCompression] \u001b[39m=\u001b[39m \u001b[39mNone\u001b[39;00m,\n\u001b[1;32m   1153\u001b[0m ) \u001b[39m-\u001b[39m\u001b[39m>\u001b[39m Any:\n\u001b[1;32m   1154\u001b[0m     (\n\u001b[1;32m   1155\u001b[0m         state,\n\u001b[1;32m   1156\u001b[0m         call,\n\u001b[0;32m-> 1157\u001b[0m     ) \u001b[39m=\u001b[39m \u001b[39mself\u001b[39;49m\u001b[39m.\u001b[39;49m_blocking(\n\u001b[1;32m   1158\u001b[0m         request, timeout, metadata, credentials, wait_for_ready, compression\n\u001b[1;32m   1159\u001b[0m     )\n\u001b[1;32m   1160\u001b[0m     \u001b[39mreturn\u001b[39;00m _end_unary_response_blocking(state, call, \u001b[39mFalse\u001b[39;00m, \u001b[39mNone\u001b[39;00m)\n",
      "File \u001b[0;32m~/.local/lib/python3.10/site-packages/grpc/_channel.py:1141\u001b[0m, in \u001b[0;36m_UnaryUnaryMultiCallable._blocking\u001b[0;34m(self, request, timeout, metadata, credentials, wait_for_ready, compression)\u001b[0m\n\u001b[1;32m   1125\u001b[0m state\u001b[39m.\u001b[39mmethod \u001b[39m=\u001b[39m _common\u001b[39m.\u001b[39mdecode(\u001b[39mself\u001b[39m\u001b[39m.\u001b[39m_method)\n\u001b[1;32m   1126\u001b[0m call \u001b[39m=\u001b[39m \u001b[39mself\u001b[39m\u001b[39m.\u001b[39m_channel\u001b[39m.\u001b[39msegregated_call(\n\u001b[1;32m   1127\u001b[0m     cygrpc\u001b[39m.\u001b[39mPropagationConstants\u001b[39m.\u001b[39mGRPC_PROPAGATE_DEFAULTS,\n\u001b[1;32m   1128\u001b[0m     \u001b[39mself\u001b[39m\u001b[39m.\u001b[39m_method,\n\u001b[0;32m   (...)\u001b[0m\n\u001b[1;32m   1139\u001b[0m     \u001b[39mself\u001b[39m\u001b[39m.\u001b[39m_context,\n\u001b[1;32m   1140\u001b[0m )\n\u001b[0;32m-> 1141\u001b[0m event \u001b[39m=\u001b[39m call\u001b[39m.\u001b[39;49mnext_event()\n\u001b[1;32m   1142\u001b[0m _handle_event(event, state, \u001b[39mself\u001b[39m\u001b[39m.\u001b[39m_response_deserializer)\n\u001b[1;32m   1143\u001b[0m \u001b[39mreturn\u001b[39;00m state, call\n",
      "File \u001b[0;32msrc/python/grpcio/grpc/_cython/_cygrpc/channel.pyx.pxi:366\u001b[0m, in \u001b[0;36mgrpc._cython.cygrpc.SegregatedCall.next_event\u001b[0;34m()\u001b[0m\n",
      "File \u001b[0;32msrc/python/grpcio/grpc/_cython/_cygrpc/channel.pyx.pxi:187\u001b[0m, in \u001b[0;36mgrpc._cython.cygrpc._next_call_event\u001b[0;34m()\u001b[0m\n",
      "File \u001b[0;32msrc/python/grpcio/grpc/_cython/_cygrpc/channel.pyx.pxi:181\u001b[0m, in \u001b[0;36mgrpc._cython.cygrpc._next_call_event\u001b[0;34m()\u001b[0m\n",
      "File \u001b[0;32msrc/python/grpcio/grpc/_cython/_cygrpc/completion_queue.pyx.pxi:78\u001b[0m, in \u001b[0;36mgrpc._cython.cygrpc._latent_event\u001b[0;34m()\u001b[0m\n",
      "File \u001b[0;32msrc/python/grpcio/grpc/_cython/_cygrpc/completion_queue.pyx.pxi:61\u001b[0m, in \u001b[0;36mgrpc._cython.cygrpc._internal_latent_event\u001b[0;34m()\u001b[0m\n",
      "File \u001b[0;32msrc/python/grpcio/grpc/_cython/_cygrpc/completion_queue.pyx.pxi:42\u001b[0m, in \u001b[0;36mgrpc._cython.cygrpc._next\u001b[0;34m()\u001b[0m\n",
      "\u001b[0;31mKeyboardInterrupt\u001b[0m: "
     ]
    }
   ],
   "source": [
    "\n",
    "# Iterate over records and write them to the table\n",
    "for idx, row in tqdm(data_frame.iterrows(), total=data_frame.shape[0]):\n",
    "    response = text_model.predict(row['prompt'], temperature = 0.0, top_k = 1).text\n",
    "    client.insert_rows(table, [[row['asin'], response]])\n",
    "    time.sleep(1)\n"
   ]
  },
  {
   "cell_type": "code",
   "execution_count": null,
   "metadata": {},
   "outputs": [],
   "source": [
    "def extract_product_attributes(prompt):\n",
    "    text_model = TextGenerationModel.from_pretrained(\"text-bison@001\")\n",
    "    response = text_model.predict(prompt=prompt, temperature = 0.0, top_k = 1).text\n",
    "    time.sleep(1)\n",
    "    return response"
   ]
  },
  {
   "cell_type": "code",
   "execution_count": null,
   "metadata": {},
   "outputs": [],
   "source": [
    "# samples to test results\n",
    "sample_data = data_frame.sample(n=200, random_state=42).reset_index(drop=True)"
   ]
  },
  {
   "cell_type": "code",
   "execution_count": null,
   "metadata": {},
   "outputs": [],
   "source": [
    "\n",
    "#fu\n",
    "sample_data['attribute_extraction'] = sample_data['prompt'].progress_apply(lambda x: extract_product_attributes(x))\n"
   ]
  },
  {
   "cell_type": "code",
   "execution_count": null,
   "metadata": {},
   "outputs": [],
   "source": [
    "sample_data[['title','attribute_extraction']].to_csv(\"Attribute extraction.csv\",index=False)"
   ]
  },
  {
   "cell_type": "code",
   "execution_count": null,
   "metadata": {},
   "outputs": [],
   "source": []
  }
 ],
 "metadata": {
  "kernelspec": {
   "display_name": "Python 3",
   "language": "python",
   "name": "python3"
  },
  "language_info": {
   "codemirror_mode": {
    "name": "ipython",
    "version": 3
   },
   "file_extension": ".py",
   "mimetype": "text/x-python",
   "name": "python",
   "nbconvert_exporter": "python",
   "pygments_lexer": "ipython3",
   "version": "3.10.7"
  }
 },
 "nbformat": 4,
 "nbformat_minor": 2
}
